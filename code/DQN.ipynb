{
 "cells": [
  {
   "cell_type": "markdown",
   "metadata": {
    "id": "8OxbcqvQv2h0"
   },
   "source": [
    "## Setup"
   ]
  },
  {
   "cell_type": "code",
   "execution_count": 1,
   "metadata": {
    "colab": {
     "base_uri": "https://localhost:8080/"
    },
    "id": "EnL3O2zosmvY",
    "outputId": "12bebbc0-1c64-4049-f726-7ab021ef08cc"
   },
   "outputs": [],
   "source": [
    "import time\n",
    "import numpy as np\n",
    "import tensorflow as tf\n",
    "from tensorflow import keras\n",
    "from tensorflow.keras import layers\n",
    "%load_ext line_profiler\n",
    "\n",
    "%load_ext autoreload\n",
    "%autoreload 2\n",
    "%reload_ext autoreload\n",
    "from utils import *\n",
    "from q_learning import *\n",
    "from deep_q_learning import *"
   ]
  },
  {
   "cell_type": "code",
   "execution_count": 2,
   "metadata": {},
   "outputs": [],
   "source": [
    "# Configurations\n",
    "save_stats = True\n",
    "save_figs = True\n",
    "train = False\n",
    "load = not train\n",
    "\n",
    "seed = 0"
   ]
  },
  {
   "cell_type": "code",
   "execution_count": 3,
   "metadata": {
    "id": "8a99U2q9tXXz"
   },
   "outputs": [],
   "source": [
    "# Configuration paramaters for the whole setup\n",
    "#seed = 0\n",
    "\n",
    "env = TictactoeEnv()\n",
    "\n",
    "gamma = 0.99\n",
    "lr = 1e-4\n",
    "epsilon_min = 0.1\n",
    "epsilon_max = 0.8\n",
    "num_episodes = 20000\n",
    "test_freq = 250\n",
    "num_avg = 1"
   ]
  },
  {
   "cell_type": "markdown",
   "metadata": {
    "id": "hCh80vTDybcs"
   },
   "source": [
    "## Learning from experts"
   ]
  },
  {
   "cell_type": "markdown",
   "metadata": {},
   "source": [
    "### Question 11: Average reward and average loss during training"
   ]
  },
  {
   "cell_type": "code",
   "execution_count": 5,
   "metadata": {
    "colab": {
     "base_uri": "https://localhost:8080/",
     "height": 432
    },
    "id": "iveZK6ssgH6y",
    "outputId": "7d435d8d-7956-42e9-ba63-8585b7163a99",
    "scrolled": false
   },
   "outputs": [
    {
     "name": "stdout",
     "output_type": "stream",
     "text": [
      "************** RUN 1 OF 1 **************\n"
     ]
    },
    {
     "name": "stderr",
     "output_type": "stream",
     "text": [
      "  0%|          | 0/20000 [00:00<?, ?it/s]"
     ]
    },
    {
     "name": "stdout",
     "output_type": "stream",
     "text": [
      "******* Updating target network *******\n"
     ]
    },
    {
     "name": "stderr",
     "output_type": "stream",
     "text": [
      "  3%|▎         | 505/20000 [00:17<13:39, 23.80it/s]"
     ]
    },
    {
     "name": "stdout",
     "output_type": "stream",
     "text": [
      "******* Updating target network *******\n"
     ]
    },
    {
     "name": "stderr",
     "output_type": "stream",
     "text": [
      "  3%|▎         | 579/20000 [00:20<11:29, 28.16it/s]\n"
     ]
    },
    {
     "ename": "KeyboardInterrupt",
     "evalue": "",
     "output_type": "error",
     "traceback": [
      "\u001B[1;31m---------------------------------------------------------------------------\u001B[0m",
      "\u001B[1;31mKeyboardInterrupt\u001B[0m                         Traceback (most recent call last)",
      "\u001B[1;32m~\\AppData\\Local\\Temp\\ipykernel_16500\\1396276470.py\u001B[0m in \u001B[0;36m<module>\u001B[1;34m\u001B[0m\n\u001B[0;32m      5\u001B[0m     \u001B[0mstats_dict\u001B[0m \u001B[1;33m=\u001B[0m \u001B[1;33m{\u001B[0m\u001B[1;33m}\u001B[0m\u001B[1;33m\u001B[0m\u001B[1;33m\u001B[0m\u001B[0m\n\u001B[0;32m      6\u001B[0m     \u001B[0mstart\u001B[0m \u001B[1;33m=\u001B[0m \u001B[0mtime\u001B[0m\u001B[1;33m.\u001B[0m\u001B[0mtime\u001B[0m\u001B[1;33m(\u001B[0m\u001B[1;33m)\u001B[0m\u001B[1;33m\u001B[0m\u001B[1;33m\u001B[0m\u001B[0m\n\u001B[1;32m----> 7\u001B[1;33m     \u001B[0mmodel\u001B[0m\u001B[1;33m,\u001B[0m \u001B[0mstats\u001B[0m \u001B[1;33m=\u001B[0m \u001B[0mdeep_q_learning\u001B[0m\u001B[1;33m(\u001B[0m\u001B[0menv\u001B[0m\u001B[1;33m,\u001B[0m \u001B[0mlr\u001B[0m \u001B[1;33m=\u001B[0m \u001B[0mlr\u001B[0m\u001B[1;33m,\u001B[0m \u001B[0mepsilon_exploration\u001B[0m\u001B[1;33m=\u001B[0m\u001B[0mepsilon_exploration\u001B[0m\u001B[1;33m,\u001B[0m \u001B[0mnum_episodes\u001B[0m\u001B[1;33m=\u001B[0m\u001B[0mnum_episodes\u001B[0m\u001B[1;33m,\u001B[0m \u001B[0magainst_opt\u001B[0m\u001B[1;33m=\u001B[0m\u001B[1;32mTrue\u001B[0m\u001B[1;33m,\u001B[0m \u001B[0mverbose\u001B[0m\u001B[1;33m=\u001B[0m\u001B[1;32mTrue\u001B[0m\u001B[1;33m)\u001B[0m\u001B[1;33m\u001B[0m\u001B[1;33m\u001B[0m\u001B[0m\n\u001B[0m\u001B[0;32m      8\u001B[0m     \u001B[0mprint\u001B[0m\u001B[1;33m(\u001B[0m\u001B[1;34m'Only training time: '\u001B[0m\u001B[1;33m,\u001B[0m \u001B[0mtime\u001B[0m\u001B[1;33m.\u001B[0m\u001B[0mtime\u001B[0m\u001B[1;33m(\u001B[0m\u001B[1;33m)\u001B[0m \u001B[1;33m-\u001B[0m \u001B[0mstart\u001B[0m\u001B[1;33m)\u001B[0m\u001B[1;33m\u001B[0m\u001B[1;33m\u001B[0m\u001B[0m\n\u001B[0;32m      9\u001B[0m     \u001B[0mM_opt\u001B[0m \u001B[1;33m=\u001B[0m \u001B[0mmeasure_performance\u001B[0m\u001B[1;33m(\u001B[0m\u001B[0mDeepQPlayer\u001B[0m\u001B[1;33m(\u001B[0m\u001B[0mmodel\u001B[0m\u001B[1;33m=\u001B[0m\u001B[0mmodel\u001B[0m\u001B[1;33m)\u001B[0m\u001B[1;33m,\u001B[0m \u001B[0mOptimalPlayer\u001B[0m\u001B[1;33m(\u001B[0m\u001B[0mepsilon\u001B[0m\u001B[1;33m=\u001B[0m\u001B[1;36m0.\u001B[0m\u001B[1;33m)\u001B[0m\u001B[1;33m)\u001B[0m\u001B[1;33m\u001B[0m\u001B[1;33m\u001B[0m\u001B[0m\n",
      "\u001B[1;32m~\\Documents\\GitHub\\ANN_Project\\code\\deep_q_learning.py\u001B[0m in \u001B[0;36mdeep_q_learning\u001B[1;34m(env, lr, gamma, num_episodes, epsilon_exploration, epsilon_exploration_rule, epsilon_opt, test_freq, verbose, batch_size, max_memory_length, update_target_network, update_freq, against_opt, self_practice)\u001B[0m\n\u001B[0;32m    423\u001B[0m         return deep_q_learning_against_opt(env, lr, gamma, num_episodes, epsilon_exploration,\n\u001B[0;32m    424\u001B[0m                                            \u001B[0mepsilon_exploration_rule\u001B[0m\u001B[1;33m,\u001B[0m \u001B[0mepsilon_opt\u001B[0m\u001B[1;33m,\u001B[0m \u001B[0mtest_freq\u001B[0m\u001B[1;33m,\u001B[0m \u001B[0mverbose\u001B[0m\u001B[1;33m,\u001B[0m\u001B[1;33m\u001B[0m\u001B[1;33m\u001B[0m\u001B[0m\n\u001B[1;32m--> 425\u001B[1;33m                                            batch_size, max_memory_length, update_target_network, update_freq)\n\u001B[0m\u001B[0;32m    426\u001B[0m     \u001B[1;32mif\u001B[0m \u001B[0mself_practice\u001B[0m\u001B[1;33m:\u001B[0m\u001B[1;33m\u001B[0m\u001B[1;33m\u001B[0m\u001B[0m\n\u001B[0;32m    427\u001B[0m         return deep_q_learning_self_practice(env, lr, gamma, num_episodes, epsilon_exploration,\n",
      "\u001B[1;32m~\\Documents\\GitHub\\ANN_Project\\code\\deep_q_learning.py\u001B[0m in \u001B[0;36mdeep_q_learning_against_opt\u001B[1;34m(env, lr, gamma, num_episodes, epsilon_exploration, epsilon_exploration_rule, epsilon_opt, test_freq, verbose, batch_size, max_memory_length, update_target_network, update_freq)\u001B[0m\n\u001B[0;32m    114\u001B[0m \u001B[1;33m\u001B[0m\u001B[0m\n\u001B[0;32m    115\u001B[0m             \u001B[0mstate_tensor\u001B[0m \u001B[1;33m=\u001B[0m \u001B[0mgrid_to_tensor\u001B[0m\u001B[1;33m(\u001B[0m\u001B[0mstate\u001B[0m\u001B[1;33m,\u001B[0m \u001B[0mmy_player\u001B[0m\u001B[1;33m)\u001B[0m\u001B[1;33m\u001B[0m\u001B[1;33m\u001B[0m\u001B[0m\n\u001B[1;32m--> 116\u001B[1;33m             \u001B[0mstate_tensor\u001B[0m \u001B[1;33m=\u001B[0m \u001B[0mtf\u001B[0m\u001B[1;33m.\u001B[0m\u001B[0mexpand_dims\u001B[0m\u001B[1;33m(\u001B[0m\u001B[0mstate_tensor\u001B[0m\u001B[1;33m,\u001B[0m \u001B[0maxis\u001B[0m\u001B[1;33m=\u001B[0m\u001B[1;36m0\u001B[0m\u001B[1;33m)\u001B[0m\u001B[1;33m\u001B[0m\u001B[1;33m\u001B[0m\u001B[0m\n\u001B[0m\u001B[0;32m    117\u001B[0m             \u001B[1;31m# Use epsilon-greedy for exploration\u001B[0m\u001B[1;33m\u001B[0m\u001B[1;33m\u001B[0m\u001B[1;33m\u001B[0m\u001B[0m\n\u001B[0;32m    118\u001B[0m             \u001B[0maction\u001B[0m \u001B[1;33m=\u001B[0m \u001B[0mdqn_epsilon_greedy\u001B[0m\u001B[1;33m(\u001B[0m\u001B[0mmodel\u001B[0m\u001B[1;33m,\u001B[0m \u001B[0mstate_tensor\u001B[0m\u001B[1;33m,\u001B[0m \u001B[0mepsilon_exploration_rule\u001B[0m\u001B[1;33m(\u001B[0m\u001B[0mitr\u001B[0m\u001B[1;33m+\u001B[0m\u001B[1;36m1\u001B[0m\u001B[1;33m)\u001B[0m\u001B[1;33m)\u001B[0m\u001B[1;33m\u001B[0m\u001B[1;33m\u001B[0m\u001B[0m\n",
      "\u001B[1;32m~\\anaconda3\\envs\\CS456\\lib\\site-packages\\tensorflow\\python\\util\\traceback_utils.py\u001B[0m in \u001B[0;36merror_handler\u001B[1;34m(*args, **kwargs)\u001B[0m\n\u001B[0;32m    148\u001B[0m     \u001B[0mfiltered_tb\u001B[0m \u001B[1;33m=\u001B[0m \u001B[1;32mNone\u001B[0m\u001B[1;33m\u001B[0m\u001B[1;33m\u001B[0m\u001B[0m\n\u001B[0;32m    149\u001B[0m     \u001B[1;32mtry\u001B[0m\u001B[1;33m:\u001B[0m\u001B[1;33m\u001B[0m\u001B[1;33m\u001B[0m\u001B[0m\n\u001B[1;32m--> 150\u001B[1;33m       \u001B[1;32mreturn\u001B[0m \u001B[0mfn\u001B[0m\u001B[1;33m(\u001B[0m\u001B[1;33m*\u001B[0m\u001B[0margs\u001B[0m\u001B[1;33m,\u001B[0m \u001B[1;33m**\u001B[0m\u001B[0mkwargs\u001B[0m\u001B[1;33m)\u001B[0m\u001B[1;33m\u001B[0m\u001B[1;33m\u001B[0m\u001B[0m\n\u001B[0m\u001B[0;32m    151\u001B[0m     \u001B[1;32mexcept\u001B[0m \u001B[0mException\u001B[0m \u001B[1;32mas\u001B[0m \u001B[0me\u001B[0m\u001B[1;33m:\u001B[0m\u001B[1;33m\u001B[0m\u001B[1;33m\u001B[0m\u001B[0m\n\u001B[0;32m    152\u001B[0m       \u001B[0mfiltered_tb\u001B[0m \u001B[1;33m=\u001B[0m \u001B[0m_process_traceback_frames\u001B[0m\u001B[1;33m(\u001B[0m\u001B[0me\u001B[0m\u001B[1;33m.\u001B[0m\u001B[0m__traceback__\u001B[0m\u001B[1;33m)\u001B[0m\u001B[1;33m\u001B[0m\u001B[1;33m\u001B[0m\u001B[0m\n",
      "\u001B[1;32m~\\anaconda3\\envs\\CS456\\lib\\site-packages\\tensorflow\\python\\util\\dispatch.py\u001B[0m in \u001B[0;36mop_dispatch_handler\u001B[1;34m(*args, **kwargs)\u001B[0m\n\u001B[0;32m   1080\u001B[0m       \u001B[1;31m# Fallback dispatch system (dispatch v1):\u001B[0m\u001B[1;33m\u001B[0m\u001B[1;33m\u001B[0m\u001B[1;33m\u001B[0m\u001B[0m\n\u001B[0;32m   1081\u001B[0m       \u001B[1;32mtry\u001B[0m\u001B[1;33m:\u001B[0m\u001B[1;33m\u001B[0m\u001B[1;33m\u001B[0m\u001B[0m\n\u001B[1;32m-> 1082\u001B[1;33m         \u001B[1;32mreturn\u001B[0m \u001B[0mdispatch_target\u001B[0m\u001B[1;33m(\u001B[0m\u001B[1;33m*\u001B[0m\u001B[0margs\u001B[0m\u001B[1;33m,\u001B[0m \u001B[1;33m**\u001B[0m\u001B[0mkwargs\u001B[0m\u001B[1;33m)\u001B[0m\u001B[1;33m\u001B[0m\u001B[1;33m\u001B[0m\u001B[0m\n\u001B[0m\u001B[0;32m   1083\u001B[0m       \u001B[1;32mexcept\u001B[0m \u001B[1;33m(\u001B[0m\u001B[0mTypeError\u001B[0m\u001B[1;33m,\u001B[0m \u001B[0mValueError\u001B[0m\u001B[1;33m)\u001B[0m\u001B[1;33m:\u001B[0m\u001B[1;33m\u001B[0m\u001B[1;33m\u001B[0m\u001B[0m\n\u001B[0;32m   1084\u001B[0m         \u001B[1;31m# Note: convert_to_eager_tensor currently raises a ValueError, not a\u001B[0m\u001B[1;33m\u001B[0m\u001B[1;33m\u001B[0m\u001B[1;33m\u001B[0m\u001B[0m\n",
      "\u001B[1;32m~\\anaconda3\\envs\\CS456\\lib\\site-packages\\tensorflow\\python\\ops\\array_ops.py\u001B[0m in \u001B[0;36mexpand_dims_v2\u001B[1;34m(input, axis, name)\u001B[0m\n\u001B[0;32m    433\u001B[0m     \u001B[0mInvalidArgumentError\u001B[0m\u001B[1;33m:\u001B[0m \u001B[0mIf\u001B[0m\u001B[0;31m \u001B[0m\u001B[0;31m`\u001B[0m\u001B[0maxis\u001B[0m\u001B[0;31m`\u001B[0m \u001B[1;32mis\u001B[0m \u001B[0mout\u001B[0m \u001B[0mof\u001B[0m \u001B[0mrange\u001B[0m\u001B[0;31m \u001B[0m\u001B[0;31m`\u001B[0m\u001B[1;33m[\u001B[0m\u001B[1;33m-\u001B[0m\u001B[1;33m(\u001B[0m\u001B[0mD\u001B[0m\u001B[1;33m+\u001B[0m\u001B[1;36m1\u001B[0m\u001B[1;33m)\u001B[0m\u001B[1;33m,\u001B[0m \u001B[0mD\u001B[0m\u001B[1;33m]\u001B[0m\u001B[0;31m`\u001B[0m\u001B[1;33m.\u001B[0m\u001B[1;33m\u001B[0m\u001B[1;33m\u001B[0m\u001B[0m\n\u001B[0;32m    434\u001B[0m   \"\"\"\n\u001B[1;32m--> 435\u001B[1;33m   \u001B[1;32mreturn\u001B[0m \u001B[0mgen_array_ops\u001B[0m\u001B[1;33m.\u001B[0m\u001B[0mexpand_dims\u001B[0m\u001B[1;33m(\u001B[0m\u001B[0minput\u001B[0m\u001B[1;33m,\u001B[0m \u001B[0maxis\u001B[0m\u001B[1;33m,\u001B[0m \u001B[0mname\u001B[0m\u001B[1;33m)\u001B[0m\u001B[1;33m\u001B[0m\u001B[1;33m\u001B[0m\u001B[0m\n\u001B[0m\u001B[0;32m    436\u001B[0m \u001B[1;33m\u001B[0m\u001B[0m\n\u001B[0;32m    437\u001B[0m \u001B[1;33m\u001B[0m\u001B[0m\n",
      "\u001B[1;32m~\\anaconda3\\envs\\CS456\\lib\\site-packages\\tensorflow\\python\\ops\\gen_array_ops.py\u001B[0m in \u001B[0;36mexpand_dims\u001B[1;34m(input, axis, name)\u001B[0m\n\u001B[0;32m   2338\u001B[0m     \u001B[1;32mtry\u001B[0m\u001B[1;33m:\u001B[0m\u001B[1;33m\u001B[0m\u001B[1;33m\u001B[0m\u001B[0m\n\u001B[0;32m   2339\u001B[0m       _result = pywrap_tfe.TFE_Py_FastPathExecute(\n\u001B[1;32m-> 2340\u001B[1;33m         _ctx, \"ExpandDims\", name, input, axis)\n\u001B[0m\u001B[0;32m   2341\u001B[0m       \u001B[1;32mreturn\u001B[0m \u001B[0m_result\u001B[0m\u001B[1;33m\u001B[0m\u001B[1;33m\u001B[0m\u001B[0m\n\u001B[0;32m   2342\u001B[0m     \u001B[1;32mexcept\u001B[0m \u001B[0m_core\u001B[0m\u001B[1;33m.\u001B[0m\u001B[0m_NotOkStatusException\u001B[0m \u001B[1;32mas\u001B[0m \u001B[0me\u001B[0m\u001B[1;33m:\u001B[0m\u001B[1;33m\u001B[0m\u001B[1;33m\u001B[0m\u001B[0m\n",
      "\u001B[1;31mKeyboardInterrupt\u001B[0m: "
     ]
    }
   ],
   "source": [
    "epsilon_exploration = 0.2\n",
    "stats_dict_list = []\n",
    "for i in range(num_avg):\n",
    "    print('************** RUN', i+1, 'OF', num_avg, '**************')\n",
    "    stats_dict = {}\n",
    "    start = time.time()\n",
    "    model, stats = deep_q_learning(env, lr = lr, epsilon_exploration=epsilon_exploration, num_episodes=num_episodes, against_opt=True, verbose=True)\n",
    "    print('Only training time: ', time.time() - start)\n",
    "    M_opt = measure_performance(DeepQPlayer(model=model), OptimalPlayer(epsilon=0.))\n",
    "    M_rand = measure_performance(DeepQPlayer(model=model), OptimalPlayer(epsilon=1.))\n",
    "    print(\"M_opt =\", M_opt)\n",
    "    print(\"M_rand =\", M_rand)\n",
    "    stats_dict.update({epsilon_exploration: (stats, M_opt, M_rand)})\n",
    "    stats_dict_list.append(stats_dict)\n",
    "    print('RUN', i+1, 'took', np.round(time.time()-start,decimals=1), 'seconds')\n",
    "\n",
    "plot_stats(stats_dict_list, [epsilon_exploration], 'epsilon_exploration_Q11', '\\epsilon', save=save_figs, keys = ['rewards', 'loss'])\n",
    "output_folder = os.path.join(os.getcwd(), 'results')\n",
    "\n",
    "fname = output_folder + '/dqn_stats_dict_q11.pkl'\n",
    "with open(fname, 'wb') as handle:\n",
    "    pickle.dump(stats_dict_list, handle, protocol=pickle.HIGHEST_PROTOCOL)"
   ]
  },
  {
   "cell_type": "code",
   "execution_count": null,
   "outputs": [],
   "source": [
    "plot_stats([stats_dict_list[-1]], [epsilon_exploration], 'epsilon_exploration_Q11', '\\epsilon', save=save_figs)"
   ],
   "metadata": {
    "collapsed": false,
    "pycharm": {
     "name": "#%%\n"
    }
   }
  },
  {
   "cell_type": "markdown",
   "metadata": {},
   "source": [
    "### Question 12: no replay buffer and batch_size = 1"
   ]
  },
  {
   "cell_type": "code",
   "execution_count": null,
   "metadata": {},
   "outputs": [],
   "source": [
    "epsilon_exploration = 0.1\n",
    "stats_dict_list = []\n",
    "for i in range(num_avg):\n",
    "    print('************** RUN', i+1, 'OF', num_avg, '**************')\n",
    "    stats_dict = {}\n",
    "    start = time.time()\n",
    "    model, stats = deep_q_learning(env, epsilon_exploration=epsilon_exploration, num_episodes=num_episodes, against_opt=True,\n",
    "                                   batch_size=1, max_memory_length=1)\n",
    "    M_opt = measure_performance(DeepQPlayer(model=model), OptimalPlayer(epsilon=0.))\n",
    "    M_rand = measure_performance(DeepQPlayer(model=model), OptimalPlayer(epsilon=1.))\n",
    "    print(\"M_opt =\", M_opt)\n",
    "    print(\"M_rand =\", M_rand)\n",
    "    stats_dict.update({epsilon_exploration: (stats, M_opt, M_rand)})\n",
    "    stats_dict_list.append(stats_dict)\n",
    "    print('RUN', i+1, 'took', np.round(time.time()-start,decimals=1), 'seconds')\n",
    "\n",
    "plot_stats(stats_dict_list, [epsilon_exploration], 'epsilon_exploration_Q11', '\\epsilon', save=save_figs, keys = ['rewards', 'loss'])"
   ]
  },
  {
   "cell_type": "markdown",
   "metadata": {},
   "source": [
    "### Question 13: Decreasing exploration for different values of $n^{*}$"
   ]
  },
  {
   "cell_type": "code",
   "execution_count": null,
   "outputs": [],
   "source": [
    "vec_n_star = np.hstack((np.array([1, 100, 500, 750]), np.round(np.logspace(3, np.log10(40000), 16))))\n",
    "num_splits = 4\n",
    "chunks_list = np.array_split(vec_n_star, num_splits)\n",
    "print(chunks_list)"
   ],
   "metadata": {
    "collapsed": false,
    "pycharm": {
     "name": "#%%\n"
    }
   }
  },
  {
   "cell_type": "code",
   "execution_count": null,
   "metadata": {},
   "outputs": [],
   "source": [
    "dqn_params_list = []\n",
    "for (idx, chunk) in enumerate(chunks_list):\n",
    "    dqn_params_list.append([])\n",
    "    for n_star in chunk:\n",
    "        params = {'env': env,\n",
    "                  'num_episodes': num_episodes,\n",
    "                  'epsilon_exploration_rule': return_lambda_explor(epsilon_min, epsilon_max, n_star),\n",
    "                  'test_freq': test_freq,\n",
    "                  'against_opt': True}\n",
    "        dqn_params_list[idx].append(params)"
   ]
  },
  {
   "cell_type": "code",
   "execution_count": null,
   "metadata": {},
   "outputs": [],
   "source": [
    "chunk_num = 0\n",
    "if train:\n",
    "    var_name = 'dqn_n_star_experts_' + str(chunk_num)\n",
    "    chunk = chunks_list[chunk_num]\n",
    "    stats_dict_nstar = train_avg(var_name, chunk, dqn_params_list[chunk_num], dqn = True, num_avg=num_avg, save_stats=save_stats)"
   ]
  },
  {
   "cell_type": "code",
   "execution_count": null,
   "outputs": [],
   "source": [
    "# Merge\n",
    "stats_dicts = {}\n",
    "if save_stats:\n",
    "    stats_dict_nstar_list = []\n",
    "    output_folder = os.path.join(os.getcwd(), 'results')\n",
    "    os.makedirs(output_folder, exist_ok=True)\n",
    "    for i in range(len(chunks_list)):\n",
    "        fname = output_folder + '/stats_dict_dqn_n_star_experts_' + str(i) + '_list.pkl'\n",
    "        with open(fname, 'rb') as handle:\n",
    "            stats_dicts.update({i: pickle.load(handle)})\n",
    "    for i in range(num_avg):\n",
    "        to_append = {}\n",
    "        for key in stats_dicts.keys():\n",
    "            to_append.update(stats_dicts[key][i])\n",
    "        stats_dict_nstar_list.append(to_append)\n",
    "    fname = output_folder + '/dqn_stats_dict_nstar_experts_list.pkl'\n",
    "    with open(fname, 'wb') as handle:\n",
    "        pickle.dump(stats_dict_nstar_list, handle, protocol=pickle.HIGHEST_PROTOCOL)"
   ],
   "metadata": {
    "collapsed": false,
    "pycharm": {
     "name": "#%%\n"
    }
   }
  },
  {
   "cell_type": "code",
   "execution_count": null,
   "outputs": [],
   "source": [
    "if load:\n",
    "    output_folder = os.path.join(os.getcwd(), 'results')\n",
    "    os.makedirs(output_folder, exist_ok=True)\n",
    "    fname = output_folder + '/dqn_stats_dict_nstar_experts_list.pkl'\n",
    "    with open(fname, 'rb') as handle:\n",
    "        stats_dict_nstar_list = pickle.load(handle)\n",
    "\n",
    "plot_n_star = [1., 500., 1000., 9146., 19127., 40000]\n",
    "plot_stats(stats_dict_nstar_list, plot_n_star, 'dqn_n_star', \"n^{\\star}\", save=save_figs, decaying_exploration=True)"
   ],
   "metadata": {
    "collapsed": false,
    "pycharm": {
     "name": "#%%\n"
    }
   }
  },
  {
   "cell_type": "markdown",
   "metadata": {},
   "source": [
    "### Question 14: Different values of $\\epsilon_{\\text{opt}}$"
   ]
  },
  {
   "cell_type": "code",
   "execution_count": null,
   "metadata": {},
   "outputs": [],
   "source": [
    "best_n_star = #########\n",
    "M = 11\n",
    "vec_epsilon_opt = np.linspace(0, 1, M)\n",
    "deep_q_learning_params_list = []\n",
    "var_name = \"epsilon_opt_deep\"\n",
    "for eps in vec_epsilon_opt:\n",
    "    params = {'env': env,\n",
    "              'num_episodes': num_episodes,\n",
    "              'epsilon_exploration_rule': return_lambda_explor(epsilon_min, epsilon_max, best_n_star),\n",
    "              'epsilon_opt': eps,\n",
    "              'test_freq': test_freq,\n",
    "              'against_opt': True}\n",
    "    deep_q_learning_params_list.append(params)"
   ]
  },
  {
   "cell_type": "code",
   "execution_count": null,
   "metadata": {},
   "outputs": [],
   "source": [
    "if train:\n",
    "    stats_dict_epsilon_opt_list_deep = train_avg(var_name, vec_epsilon_opt, deep_q_learning_params_list, dqn = True,\n",
    "                                                      num_avg=num_avg, save_stats=save_stats)"
   ]
  },
  {
   "cell_type": "markdown",
   "metadata": {},
   "source": [
    "### Question 15: Best values of $M_{\\text{opt}}$ and $M_{\\text{rand}}$"
   ]
  },
  {
   "cell_type": "code",
   "execution_count": null,
   "metadata": {},
   "outputs": [],
   "source": [
    "# TODO"
   ]
  },
  {
   "cell_type": "markdown",
   "metadata": {},
   "source": [
    "## Learning by self-practice"
   ]
  },
  {
   "cell_type": "code",
   "execution_count": null,
   "outputs": [],
   "source": [
    "epsilon_exploration = 0.2\n",
    "for i in range(num_avg):\n",
    "    print('************** RUN', i+1, 'OF', num_avg, '**************')\n",
    "    stats_dict = {}\n",
    "    start = time.time()\n",
    "    model, stats = deep_q_learning(env, lr = 1e-4, epsilon_exploration=epsilon_exploration, num_episodes=num_episodes, test_freq=test_freq, verbose=True, self_practice=True)\n",
    "    M_opt = measure_performance(DeepQPlayer(model=model), OptimalPlayer(epsilon=0.))\n",
    "    M_rand = measure_performance(DeepQPlayer(model=model), OptimalPlayer(epsilon=1.))\n",
    "    print(\"M_opt =\", M_opt)\n",
    "    print(\"M_rand =\", M_rand)\n",
    "    stats_dict.update({epsilon_exploration: (stats, M_opt, M_rand)})\n",
    "    stats_dict_list.append(stats_dict)\n",
    "    print('RUN', i+1, 'took', np.round(time.time()-start,decimals=1), 'seconds')\n",
    "\n",
    "plot_stats([stats_dict_list[-1]], [epsilon_exploration], 'self_practice_test', '\\epsilon', save=save_figs)\n",
    "output_folder = os.path.join(os.getcwd(), 'figures')\n",
    "fname = output_folder + '/dqn_stats_dict_q11.pkl'\n",
    "with open(fname, 'wb') as handle:\n",
    "    pickle.dump(stats_dict_list, handle, protocol=pickle.HIGHEST_PROTOCOL)"
   ],
   "metadata": {
    "collapsed": false,
    "pycharm": {
     "name": "#%%\n"
    }
   }
  },
  {
   "cell_type": "code",
   "execution_count": null,
   "outputs": [],
   "source": [
    "plot_stats([stats_dict_list[-1]], [epsilon_exploration], 'self_practice_test', '\\epsilon', save=save_figs)"
   ],
   "metadata": {
    "collapsed": false,
    "pycharm": {
     "name": "#%%\n"
    }
   }
  },
  {
   "cell_type": "code",
   "execution_count": null,
   "outputs": [],
   "source": [
    "plot_stats(stats_dict_list, [epsilon_exploration], 'self_practice_test', '\\epsilon', save=save_figs)"
   ],
   "metadata": {
    "collapsed": false,
    "pycharm": {
     "name": "#%%\n"
    }
   }
  },
  {
   "cell_type": "markdown",
   "metadata": {},
   "source": [
    "### Question 16: Different values of the exploration rate $\\epsilon$"
   ]
  },
  {
   "cell_type": "code",
   "execution_count": null,
   "metadata": {},
   "outputs": [],
   "source": [
    "M = 10\n",
    "vec_eps = np.linspace(0, 0.9, M)\n",
    "num_splits = 2\n",
    "chunks_list = np.array_split(vec_eps, num_splits)\n",
    "print(chunks_list)\n",
    "deep_q_learning_params_list = []\n",
    "var_name = \"epsilon_deep_self\"\n",
    "for eps in vec_eps:\n",
    "    params = {'env': env,\n",
    "              'num_episodes': num_episodes,\n",
    "              'epsilon_exploration': eps,\n",
    "              'test_freq': test_freq,\n",
    "              'self_practice': True}\n",
    "    deep_q_learning_params_list.append(params)"
   ]
  },
  {
   "cell_type": "code",
   "execution_count": null,
   "metadata": {},
   "outputs": [],
   "source": [
    "chunk_num = 0\n",
    "if train:\n",
    "    var_name = 'dqn_eps_self_practice' + str(chunk_num)\n",
    "    chunk = chunks_list[chunk_num]\n",
    "    stats_dict_epsilon_self_list_deep = train_avg(var_name, chunk, deep_q_learning_params_list, dqn = True,\n",
    "                                                        num_avg=num_avg, save_stats=save_stats)"
   ]
  },
  {
   "cell_type": "code",
   "execution_count": null,
   "outputs": [],
   "source": [
    "# Merge\n",
    "stats_dicts = {}\n",
    "if save_stats:\n",
    "    stats_dict_epsilon_self_list_deep = []\n",
    "    output_folder = os.path.join(os.getcwd(), 'results')\n",
    "    os.makedirs(output_folder, exist_ok=True)\n",
    "    for i in range(len(chunks_list)):\n",
    "        fname = output_folder + '/stats_dict_dqn_eps_self_practice' + str(i) + '_list.pkl'\n",
    "        with open(fname, 'rb') as handle:\n",
    "            stats_dicts.update({i: pickle.load(handle)})\n",
    "    for i in range(num_avg):\n",
    "        to_append = {}\n",
    "        for key in stats_dicts.keys():\n",
    "            to_append.update(stats_dicts[key][i])\n",
    "        stats_dict_epsilon_self_list_deep.append(to_append)\n",
    "    fname = output_folder + '/stats_dict_dqn_eps_self_practice.pkl'\n",
    "    with open(fname, 'wb') as handle:\n",
    "        pickle.dump(stats_dict_epsilon_self_list_deep, handle, protocol=pickle.HIGHEST_PROTOCOL)"
   ],
   "metadata": {
    "collapsed": false,
    "pycharm": {
     "name": "#%%\n"
    }
   }
  },
  {
   "cell_type": "code",
   "execution_count": null,
   "outputs": [],
   "source": [
    "if load:\n",
    "    output_folder = os.path.join(os.getcwd(), 'results')\n",
    "    os.makedirs(output_folder, exist_ok=True)\n",
    "    fname = output_folder + '/stats_dict_dqn_eps_self_practice.pkl'\n",
    "    with open(fname, 'rb') as handle:\n",
    "        stats_dict_epsilon_self_list_deep = pickle.load(handle)\n",
    "\n",
    "plot_eps = [0,0.1,0.2, 0.4, 0.6]\n",
    "plot_stats(stats_dict_epsilon_self_list_deep, plot_eps, 'n_star', \"n^{\\star}\", save=save_figs, decaying_exploration=True)"
   ],
   "metadata": {
    "collapsed": false,
    "pycharm": {
     "name": "#%%\n"
    }
   }
  },
  {
   "cell_type": "code",
   "execution_count": null,
   "outputs": [],
   "source": [
    "plot_stats(stats_dict_epsilon_self_list_deep, vec_eps, 'n_star', \"n^{\\star}\", save=False, decaying_exploration=True)"
   ],
   "metadata": {
    "collapsed": false,
    "pycharm": {
     "name": "#%%\n"
    }
   }
  },
  {
   "cell_type": "markdown",
   "metadata": {},
   "source": [
    "### Question 17: Decreasing exploration for different values of $n^*$"
   ]
  },
  {
   "cell_type": "code",
   "execution_count": null,
   "metadata": {},
   "outputs": [],
   "source": [
    "vec_n_star = np.hstack((np.array([1, 100, 500, 750]), np.round(np.logspace(3, np.log10(40000), 16))))\n",
    "num_splits = 4\n",
    "chunks_list = np.array_split(vec_n_star, num_splits)\n",
    "print(chunks_list)\n",
    "deep_q_learning_params_list = []\n",
    "var_name = \"n_star_self_deep\"\n",
    "for n_star in vec_n_star:\n",
    "    params = {'env': env,\n",
    "              'num_episodes': num_episodes,\n",
    "              'epsilon_exploration_rule': return_lambda_explor(epsilon_min, epsilon_max, n_star),\n",
    "              'test_freq': test_freq,\n",
    "              'self_practice': True}\n",
    "    deep_q_learning_params_list.append(params)"
   ]
  },
  {
   "cell_type": "code",
   "execution_count": null,
   "metadata": {},
   "outputs": [],
   "source": [
    "chunk_num = 0\n",
    "if train:\n",
    "    var_name = 'dqn_n_star_self_practice' + str(chunk_num)\n",
    "    chunk = chunks_list[chunk_num]\n",
    "    stats_dict_nstar_self_list_deep = train_avg(var_name, chunk, deep_q_learning_params_list, dqn = True,\n",
    "                                                     num_avg=num_avg, save_stats=True)"
   ]
  },
  {
   "cell_type": "code",
   "execution_count": null,
   "outputs": [],
   "source": [
    "# Merge\n",
    "stats_dicts = {}\n",
    "if save_stats:\n",
    "    stats_dict_n_star_self_list_deep = []\n",
    "    output_folder = os.path.join(os.getcwd(), 'results')\n",
    "    os.makedirs(output_folder, exist_ok=True)\n",
    "    for i in range(len(chunks_list)):\n",
    "        fname = output_folder + '/stats_dict_dqn_n_star_self_practice' + str(i) + '_list.pkl'\n",
    "        with open(fname, 'rb') as handle:\n",
    "            stats_dicts.update({i: pickle.load(handle)})\n",
    "    for i in range(num_avg):\n",
    "        to_append = {}\n",
    "        for key in stats_dicts.keys():\n",
    "            to_append.update(stats_dicts[key][i])\n",
    "        stats_dict_n_star_self_list_deep.append(to_append)\n",
    "    fname = output_folder + '/stats_dict_dqn_n_star_self_practice.pkl'\n",
    "    with open(fname, 'wb') as handle:\n",
    "        pickle.dump(stats_dict_n_star_self_list_deep, handle, protocol=pickle.HIGHEST_PROTOCOL)"
   ],
   "metadata": {
    "collapsed": false,
    "pycharm": {
     "name": "#%%\n"
    }
   }
  },
  {
   "cell_type": "code",
   "execution_count": null,
   "outputs": [],
   "source": [
    "if load:\n",
    "    output_folder = os.path.join(os.getcwd(), 'results')\n",
    "    os.makedirs(output_folder, exist_ok=True)\n",
    "    fname = output_folder + '/stats_dict_dqn_n_star_self_practice.pkl'\n",
    "    with open(fname, 'rb') as handle:\n",
    "        stats_dict_nstar_self_list_deep = pickle.load(handle)\n",
    "\n",
    "plot_n_star = [1., 9146., 19127., 40000]\n",
    "plot_stats(stats_dict_nstar_self_list_deep, plot_n_star, 'n_star', \"n^{\\star}\", save=save_figs, decaying_exploration=True)"
   ],
   "metadata": {
    "collapsed": false,
    "pycharm": {
     "name": "#%%\n"
    }
   }
  },
  {
   "cell_type": "code",
   "execution_count": null,
   "outputs": [],
   "source": [
    "plot_stats(stats_dict_nstar_self_list_deep, vec_n_star, 'n_star', \"n^{\\star}\", save=False, decaying_exploration=True)"
   ],
   "metadata": {
    "collapsed": false,
    "pycharm": {
     "name": "#%%\n"
    }
   }
  },
  {
   "cell_type": "markdown",
   "metadata": {},
   "source": [
    "### Question 18: Best values of $M_{\\text{opt}}$ and $M_{\\text{rand}}$"
   ]
  },
  {
   "cell_type": "code",
   "execution_count": null,
   "metadata": {},
   "outputs": [],
   "source": [
    "# TODO"
   ]
  },
  {
   "cell_type": "markdown",
   "metadata": {},
   "source": [
    "### Question 19: Heatmaps of the Q-values in 3 significant states"
   ]
  },
  {
   "cell_type": "code",
   "execution_count": null,
   "metadata": {},
   "outputs": [],
   "source": [
    "# Optimal parameters\n",
    "epsilon_min = 0.1\n",
    "epsilon_max = 0.8\n",
    "n_star = 15000\n",
    "epsilon_exploration_rule = return_lambda_explor(epsilon_min, epsilon_max, n_star)\n",
    "model, stats = deep_q_learning(env, epsilon_exploration_rule=epsilon_exploration_rule, num_episodes=20000, \n",
    "                               verbose=True, against_opt=True)"
   ]
  },
  {
   "cell_type": "code",
   "execution_count": null,
   "metadata": {
    "scrolled": true
   },
   "outputs": [],
   "source": [
    "grids = np.array([[[1., 0., 0.], [-1., 1., 0.], [0., -1., 0.]]])\n",
    "print(grids[0])\n",
    "heatmaps_deep_subplots(grids, model, save=save_figs)"
   ]
  }
 ],
 "metadata": {
  "accelerator": "TPU",
  "colab": {
   "collapsed_sections": [],
   "name": "Copy of DQN.ipynb",
   "provenance": []
  },
  "kernelspec": {
   "name": "cs456",
   "language": "python",
   "display_name": "CS456"
  },
  "language_info": {
   "codemirror_mode": {
    "name": "ipython",
    "version": 3
   },
   "file_extension": ".py",
   "mimetype": "text/x-python",
   "name": "python",
   "nbconvert_exporter": "python",
   "pygments_lexer": "ipython3",
   "version": "3.7.11"
  }
 },
 "nbformat": 4,
 "nbformat_minor": 1
}