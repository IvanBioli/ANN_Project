{
 "cells": [
  {
   "cell_type": "markdown",
   "metadata": {
    "id": "8OxbcqvQv2h0"
   },
   "source": [
    "## Setup"
   ]
  },
  {
   "cell_type": "code",
   "execution_count": null,
   "metadata": {
    "colab": {
     "base_uri": "https://localhost:8080/"
    },
    "id": "EnL3O2zosmvY",
    "outputId": "12bebbc0-1c64-4049-f726-7ab021ef08cc"
   },
   "outputs": [],
   "source": [
    "import time\n",
    "import numpy as np\n",
    "import tensorflow as tf\n",
    "from tensorflow import keras\n",
    "from tensorflow.keras import layers\n",
    "\n",
    "%load_ext autoreload\n",
    "%autoreload 2\n",
    "%reload_ext autoreload\n",
    "from utils import *\n",
    "from q_learning import *\n",
    "from deep_q_learning import *"
   ]
  },
  {
   "cell_type": "code",
   "execution_count": null,
   "metadata": {},
   "outputs": [],
   "source": [
    "# Configurations\n",
    "save_stats = True\n",
    "save_figs = True\n",
    "train = False\n",
    "load = not train\n",
    "\n",
    "seed = 0"
   ]
  },
  {
   "cell_type": "code",
   "execution_count": null,
   "metadata": {
    "id": "8a99U2q9tXXz"
   },
   "outputs": [],
   "source": [
    "# Configuration paramaters for the whole setup\n",
    "#seed = 0\n",
    "\n",
    "env = TictactoeEnv()\n",
    "\n",
    "gamma = 0.99\n",
    "lr = 5e-4\n",
    "epsilon_min = 0.1\n",
    "epsilon_max = 0.8\n",
    "num_episodes = 20000\n",
    "test_freq = 250\n",
    "num_avg = 1"
   ]
  },
  {
   "cell_type": "markdown",
   "metadata": {
    "id": "hCh80vTDybcs"
   },
   "source": [
    "## Learning from experts"
   ]
  },
  {
   "cell_type": "markdown",
   "metadata": {},
   "source": [
    "### Question 11: Average reward and average loss during training"
   ]
  },
  {
   "cell_type": "code",
   "execution_count": null,
   "metadata": {
    "colab": {
     "base_uri": "https://localhost:8080/",
     "height": 432
    },
    "id": "iveZK6ssgH6y",
    "outputId": "7d435d8d-7956-42e9-ba63-8585b7163a99",
    "scrolled": false
   },
   "outputs": [],
   "source": [
    "epsilon_exploration = 0.1\n",
    "stats_dict_list = []\n",
    "for i in range(num_avg):\n",
    "    print('************** RUN', i+1, 'OF', num_avg, '**************')\n",
    "    stats_dict = {}\n",
    "    start = time.time()\n",
    "    model, stats = deep_q_learning(env, epsilon_exploration=epsilon_exploration, num_episodes=num_episodes, against_opt=True)\n",
    "    M_opt = measure_performance(DeepQPlayer(model=model), OptimalPlayer(epsilon=0.))\n",
    "    M_rand = measure_performance(DeepQPlayer(model=model), OptimalPlayer(epsilon=1.))\n",
    "    print(\"M_opt =\", M_opt)\n",
    "    print(\"M_rand =\", M_rand)\n",
    "    stats_dict.update({epsilon_exploration: (stats, M_opt, M_rand)})\n",
    "    stats_dict_list.append(stats_dict)\n",
    "    print('RUN', i+1, 'took', np.round(time.time()-start,decimals=1), 'seconds')\n",
    "\n",
    "plot_stats(stats_dict_list, [epsilon_exploration], 'epsilon_exploration_Q11', '\\epsilon', save=save_figs, keys = ['rewards', 'loss'])\n",
    "output_folder = os.path.join(os.getcwd(), 'results')\n",
    "\n",
    "fname = output_folder + '/dqn_stats_dict_q11.pkl'\n",
    "with open(fname, 'wb') as handle:\n",
    "    pickle.dump(stats_dict_list, handle, protocol=pickle.HIGHEST_PROTOCOL)"
   ]
  },
  {
   "cell_type": "markdown",
   "metadata": {},
   "source": [
    "### Question 12: no replay buffer and batch_size = 1"
   ]
  },
  {
   "cell_type": "code",
   "execution_count": null,
   "metadata": {},
   "outputs": [],
   "source": [
    "epsilon_exploration = 0.1\n",
    "stats_dict_list = []\n",
    "for i in range(num_avg):\n",
    "    print('************** RUN', i+1, 'OF', num_avg, '**************')\n",
    "    stats_dict = {}\n",
    "    start = time.time()\n",
    "    model, stats = deep_q_learning(env, epsilon_exploration=epsilon_exploration, num_episodes=num_episodes, against_opt=True,\n",
    "                                   batch_size=1, max_memory_length=1)\n",
    "    M_opt = measure_performance(DeepQPlayer(model=model), OptimalPlayer(epsilon=0.))\n",
    "    M_rand = measure_performance(DeepQPlayer(model=model), OptimalPlayer(epsilon=1.))\n",
    "    print(\"M_opt =\", M_opt)\n",
    "    print(\"M_rand =\", M_rand)\n",
    "    stats_dict.update({epsilon_exploration: (stats, M_opt, M_rand)})\n",
    "    stats_dict_list.append(stats_dict)\n",
    "    print('RUN', i+1, 'took', np.round(time.time()-start,decimals=1), 'seconds')\n",
    "\n",
    "plot_stats(stats_dict_list, [epsilon_exploration], 'epsilon_exploration_Q11', '\\epsilon', save=save_figs, keys = ['rewards', 'loss'])"
   ]
  },
  {
   "cell_type": "markdown",
   "metadata": {},
   "source": [
    "### Question 13: Decreasing exploration for different values of $n^{*}$"
   ]
  },
  {
   "cell_type": "code",
   "execution_count": null,
   "outputs": [],
   "source": [
    "vec_n_star = np.hstack((np.array([1, 100, 500, 750]), np.round(np.logspace(3, np.log10(40000), 16))))\n",
    "num_splits = 4\n",
    "chunks_list = np.array_split(vec_n_star, num_splits)\n",
    "print(chunks_list)"
   ],
   "metadata": {
    "collapsed": false,
    "pycharm": {
     "name": "#%%\n"
    }
   }
  },
  {
   "cell_type": "code",
   "execution_count": null,
   "metadata": {},
   "outputs": [],
   "source": [
    "dqn_params_list = []\n",
    "for (idx, chunk) in enumerate(chunks_list):\n",
    "    dqn_params_list.append([])\n",
    "    for n_star in chunk:\n",
    "        params = {'env': env,\n",
    "                  'num_episodes': num_episodes,\n",
    "                  'epsilon_exploration_rule': return_lambda_explor(epsilon_min, epsilon_max, n_star),\n",
    "                  'test_freq': test_freq,\n",
    "                  'against_opt': True}\n",
    "        dqn_params_list[idx].append(params)"
   ]
  },
  {
   "cell_type": "code",
   "execution_count": null,
   "metadata": {},
   "outputs": [],
   "source": [
    "chunk_num = 0\n",
    "if train:\n",
    "    var_name = 'dqn_n_star_experts_' + str(chunk_num)\n",
    "    chunk = chunks_list[chunk_num]\n",
    "    stats_dict_nstar = train_avg(var_name, chunk, dqn_params_list[chunk_num], dqn = True, num_avg=num_avg, save_stats=save_stats)"
   ]
  },
  {
   "cell_type": "code",
   "execution_count": null,
   "outputs": [],
   "source": [
    "# Merge\n",
    "stats_dicts = {}\n",
    "if save_stats:\n",
    "    stats_dict_nstar_list = []\n",
    "    output_folder = os.path.join(os.getcwd(), 'results')\n",
    "    os.makedirs(output_folder, exist_ok=True)\n",
    "    for i in range(len(chunks_list)):\n",
    "        fname = output_folder + '/stats_dict_dqn_n_star_experts_' + str(i) + '_list.pkl'\n",
    "        with open(fname, 'rb') as handle:\n",
    "            stats_dicts.update({i: pickle.load(handle)})\n",
    "    for i in range(num_avg):\n",
    "        to_append = {}\n",
    "        for key in stats_dicts.keys():\n",
    "            to_append.update(stats_dicts[key][i])\n",
    "        stats_dict_nstar_list.append(to_append)\n",
    "    fname = output_folder + '/dqn_stats_dict_nstar_experts_list.pkl'\n",
    "    with open(fname, 'wb') as handle:\n",
    "        pickle.dump(stats_dict_nstar_list, handle, protocol=pickle.HIGHEST_PROTOCOL)"
   ],
   "metadata": {
    "collapsed": false,
    "pycharm": {
     "name": "#%%\n"
    }
   }
  },
  {
   "cell_type": "code",
   "execution_count": null,
   "outputs": [],
   "source": [
    "if load:\n",
    "    output_folder = os.path.join(os.getcwd(), 'results')\n",
    "    os.makedirs(output_folder, exist_ok=True)\n",
    "    fname = output_folder + '/dqn_stats_dict_nstar_experts_list.pkl'\n",
    "    with open(fname, 'rb') as handle:\n",
    "        stats_dict_nstar_list = pickle.load(handle)\n",
    "\n",
    "plot_n_star = [1., 500., 1000., 9146., 19127., 40000]\n",
    "plot_stats(stats_dict_nstar_list, plot_n_star, 'dqn_n_star', \"n^{\\star}\", save=save_figs, decaying_exploration=True)"
   ],
   "metadata": {
    "collapsed": false,
    "pycharm": {
     "name": "#%%\n"
    }
   }
  },
  {
   "cell_type": "markdown",
   "metadata": {},
   "source": [
    "### Question 14: Different values of $\\epsilon_{\\text{opt}}$"
   ]
  },
  {
   "cell_type": "code",
   "execution_count": null,
   "metadata": {},
   "outputs": [],
   "source": [
    "best_n_star = #########\n",
    "M = 11\n",
    "vec_epsilon_opt = np.linspace(0, 1, M)\n",
    "deep_q_learning_params_list = []\n",
    "var_name = \"epsilon_opt_deep\"\n",
    "for eps in vec_epsilon_opt:\n",
    "    params = {'env': env,\n",
    "              'num_episodes': num_episodes,\n",
    "              'epsilon_exploration_rule': return_lambda_explor(epsilon_min, epsilon_max, best_n_star),\n",
    "              'epsilon_opt': eps,\n",
    "              'test_freq': test_freq,\n",
    "              'against_opt': True}\n",
    "    deep_q_learning_params_list.append(params)"
   ]
  },
  {
   "cell_type": "code",
   "execution_count": null,
   "metadata": {},
   "outputs": [],
   "source": [
    "if train:\n",
    "    stats_dict_epsilon_opt_list_deep = train_avg(var_name, vec_epsilon_opt, deep_q_learning_params_list, dqn = True,\n",
    "                                                      num_avg=num_avg, save_stats=save_stats)"
   ]
  },
  {
   "cell_type": "markdown",
   "metadata": {},
   "source": [
    "### Question 15: Best values of $M_{\\text{opt}}$ and $M_{\\text{rand}}$"
   ]
  },
  {
   "cell_type": "code",
   "execution_count": null,
   "metadata": {},
   "outputs": [],
   "source": [
    "# TODO"
   ]
  },
  {
   "cell_type": "markdown",
   "metadata": {},
   "source": [
    "## Learning by self-practice"
   ]
  },
  {
   "cell_type": "code",
   "execution_count": null,
   "outputs": [],
   "source": [
    "epsilon_exploration = 0.2\n",
    "for i in range(num_avg):\n",
    "    print('************** RUN', i+1, 'OF', num_avg, '**************')\n",
    "    stats_dict = {}\n",
    "    start = time.time()\n",
    "    model, stats = deep_q_learning(env, epsilon_exploration=epsilon_exploration, num_episodes=num_episodes, self_practice=True)\n",
    "    M_opt = measure_performance(DeepQPlayer(model=model), OptimalPlayer(epsilon=0.))\n",
    "    M_rand = measure_performance(DeepQPlayer(model=model), OptimalPlayer(epsilon=1.))\n",
    "    print(\"M_opt =\", M_opt)\n",
    "    print(\"M_rand =\", M_rand)\n",
    "    stats_dict.update({epsilon_exploration: (stats, M_opt, M_rand)})\n",
    "    stats_dict_list.append(stats_dict)\n",
    "    print('RUN', i+1, 'took', np.round(time.time()-start,decimals=1), 'seconds')\n",
    "\n",
    "plot_stats(stats_dict_list, [epsilon_exploration], 'self_practice_test', '\\epsilon', save=save_figs, keys = ['rewards', 'loss'])\n",
    "fname = output_folder + '/dqn_stats_dict_q11.pkl'\n",
    "with open(fname, 'wb') as handle:\n",
    "    pickle.dump(stats_dict_list, handle, protocol=pickle.HIGHEST_PROTOCOL)"
   ],
   "metadata": {
    "collapsed": false,
    "pycharm": {
     "name": "#%%\n"
    }
   }
  },
  {
   "cell_type": "markdown",
   "metadata": {},
   "source": [
    "### Question 16: Different values of the exploration rate $\\epsilon$"
   ]
  },
  {
   "cell_type": "code",
   "execution_count": null,
   "metadata": {},
   "outputs": [],
   "source": [
    "M = 10\n",
    "vec_eps = np.linspace(0, 0.9, M)\n",
    "num_splits = 2\n",
    "chunks_list = np.array_split(vec_eps, num_splits)\n",
    "print(chunks_list)\n",
    "deep_q_learning_params_list = []\n",
    "var_name = \"epsilon_deep_self\"\n",
    "for eps in vec_eps:\n",
    "    params = {'env': env,\n",
    "              'num_episodes': num_episodes,\n",
    "              'epsilon_exploration': eps,\n",
    "              'test_freq': test_freq,\n",
    "              'self_practice': True}\n",
    "    deep_q_learning_params_list.append(params)"
   ]
  },
  {
   "cell_type": "code",
   "execution_count": null,
   "metadata": {},
   "outputs": [],
   "source": [
    "chunk_num = 0\n",
    "if train:\n",
    "    var_name = 'dqn_eps_self_practice' + str(chunk_num)\n",
    "    chunk = chunks_list[chunk_num]\n",
    "    stats_dict_epsilon_self_list_deep = train_avg(var_name, chunk, deep_q_learning_params_list, dqn = True,\n",
    "                                                        num_avg=num_avg, save_stats=save_stats)"
   ]
  },
  {
   "cell_type": "code",
   "execution_count": null,
   "outputs": [],
   "source": [
    "# Merge\n",
    "stats_dicts = {}\n",
    "if save_stats:\n",
    "    stats_dict_epsilon_self_list_deep = []\n",
    "    output_folder = os.path.join(os.getcwd(), 'results')\n",
    "    os.makedirs(output_folder, exist_ok=True)\n",
    "    for i in range(len(chunks_list)):\n",
    "        fname = output_folder + '/stats_dict_dqn_eps_self_practice' + str(i) + '_list.pkl'\n",
    "        with open(fname, 'rb') as handle:\n",
    "            stats_dicts.update({i: pickle.load(handle)})\n",
    "    for i in range(num_avg):\n",
    "        to_append = {}\n",
    "        for key in stats_dicts.keys():\n",
    "            to_append.update(stats_dicts[key][i])\n",
    "        stats_dict_epsilon_self_list_deep.append(to_append)\n",
    "    fname = output_folder + '/stats_dict_dqn_eps_self_practice.pkl'\n",
    "    with open(fname, 'wb') as handle:\n",
    "        pickle.dump(stats_dict_epsilon_self_list_deep, handle, protocol=pickle.HIGHEST_PROTOCOL)"
   ],
   "metadata": {
    "collapsed": false,
    "pycharm": {
     "name": "#%%\n"
    }
   }
  },
  {
   "cell_type": "code",
   "execution_count": null,
   "outputs": [],
   "source": [
    "if load:\n",
    "    output_folder = os.path.join(os.getcwd(), 'results')\n",
    "    os.makedirs(output_folder, exist_ok=True)\n",
    "    fname = output_folder + '/stats_dict_dqn_eps_self_practice.pkl'\n",
    "    with open(fname, 'rb') as handle:\n",
    "        stats_dict_epsilon_self_list_deep = pickle.load(handle)\n",
    "\n",
    "plot_eps = [0,0.1,0.2, 0.4, 0.6]\n",
    "plot_stats(stats_dict_epsilon_self_list_deep, plot_eps, 'n_star', \"n^{\\star}\", save=save_figs, decaying_exploration=True)"
   ],
   "metadata": {
    "collapsed": false,
    "pycharm": {
     "name": "#%%\n"
    }
   }
  },
  {
   "cell_type": "code",
   "execution_count": null,
   "outputs": [],
   "source": [
    "plot_stats(stats_dict_epsilon_self_list_deep, vec_eps, 'n_star', \"n^{\\star}\", save=False, decaying_exploration=True)"
   ],
   "metadata": {
    "collapsed": false,
    "pycharm": {
     "name": "#%%\n"
    }
   }
  },
  {
   "cell_type": "markdown",
   "metadata": {},
   "source": [
    "### Question 17: Decreasing exploration for different values of $n^*$"
   ]
  },
  {
   "cell_type": "code",
   "execution_count": null,
   "metadata": {},
   "outputs": [],
   "source": [
    "vec_n_star = np.hstack((np.array([1, 100, 500, 750]), np.round(np.logspace(3, np.log10(40000), 16))))\n",
    "num_splits = 4\n",
    "chunks_list = np.array_split(vec_n_star, num_splits)\n",
    "print(chunks_list)\n",
    "deep_q_learning_params_list = []\n",
    "var_name = \"n_star_self_deep\"\n",
    "for n_star in vec_n_star:\n",
    "    params = {'env': env,\n",
    "              'num_episodes': num_episodes,\n",
    "              'epsilon_exploration_rule': return_lambda_explor(epsilon_min, epsilon_max, n_star),\n",
    "              'test_freq': test_freq,\n",
    "              'self_practice': True}\n",
    "    deep_q_learning_params_list.append(params)"
   ]
  },
  {
   "cell_type": "code",
   "execution_count": null,
   "metadata": {},
   "outputs": [],
   "source": [
    "chunk_num = 0\n",
    "if train:\n",
    "    var_name = 'dqn_n_star_self_practice' + str(chunk_num)\n",
    "    chunk = chunks_list[chunk_num]\n",
    "    stats_dict_nstar_self_list_deep = train_avg(var_name, chunk, deep_q_learning_params_list, dqn = True,\n",
    "                                                     num_avg=num_avg, save_stats=True)"
   ]
  },
  {
   "cell_type": "code",
   "execution_count": null,
   "outputs": [],
   "source": [
    "# Merge\n",
    "stats_dicts = {}\n",
    "if save_stats:\n",
    "    stats_dict_n_star_self_list_deep = []\n",
    "    output_folder = os.path.join(os.getcwd(), 'results')\n",
    "    os.makedirs(output_folder, exist_ok=True)\n",
    "    for i in range(len(chunks_list)):\n",
    "        fname = output_folder + '/stats_dict_dqn_n_star_self_practice' + str(i) + '_list.pkl'\n",
    "        with open(fname, 'rb') as handle:\n",
    "            stats_dicts.update({i: pickle.load(handle)})\n",
    "    for i in range(num_avg):\n",
    "        to_append = {}\n",
    "        for key in stats_dicts.keys():\n",
    "            to_append.update(stats_dicts[key][i])\n",
    "        stats_dict_n_star_self_list_deep.append(to_append)\n",
    "    fname = output_folder + '/stats_dict_dqn_n_star_self_practice.pkl'\n",
    "    with open(fname, 'wb') as handle:\n",
    "        pickle.dump(stats_dict_n_star_self_list_deep, handle, protocol=pickle.HIGHEST_PROTOCOL)"
   ],
   "metadata": {
    "collapsed": false,
    "pycharm": {
     "name": "#%%\n"
    }
   }
  },
  {
   "cell_type": "code",
   "execution_count": null,
   "outputs": [],
   "source": [
    "if load:\n",
    "    output_folder = os.path.join(os.getcwd(), 'results')\n",
    "    os.makedirs(output_folder, exist_ok=True)\n",
    "    fname = output_folder + '/stats_dict_dqn_n_star_self_practice.pkl'\n",
    "    with open(fname, 'rb') as handle:\n",
    "        stats_dict_nstar_self_list_deep = pickle.load(handle)\n",
    "\n",
    "plot_n_star = [1., 9146., 19127., 40000]\n",
    "plot_stats(stats_dict_nstar_self_list_deep, plot_n_star, 'n_star', \"n^{\\star}\", save=save_figs, decaying_exploration=True)"
   ],
   "metadata": {
    "collapsed": false,
    "pycharm": {
     "name": "#%%\n"
    }
   }
  },
  {
   "cell_type": "code",
   "execution_count": null,
   "outputs": [],
   "source": [
    "plot_stats(stats_dict_nstar_self_list_deep, vec_n_star, 'n_star', \"n^{\\star}\", save=False, decaying_exploration=True)"
   ],
   "metadata": {
    "collapsed": false,
    "pycharm": {
     "name": "#%%\n"
    }
   }
  },
  {
   "cell_type": "markdown",
   "metadata": {},
   "source": [
    "### Question 18: Best values of $M_{\\text{opt}}$ and $M_{\\text{rand}}$"
   ]
  },
  {
   "cell_type": "code",
   "execution_count": null,
   "metadata": {},
   "outputs": [],
   "source": [
    "# TODO"
   ]
  },
  {
   "cell_type": "markdown",
   "metadata": {},
   "source": [
    "### Question 19: Heatmaps of the Q-values in 3 significant states"
   ]
  },
  {
   "cell_type": "code",
   "execution_count": null,
   "metadata": {},
   "outputs": [],
   "source": [
    "# Optimal parameters\n",
    "epsilon_min = 0.1\n",
    "epsilon_max = 0.8\n",
    "n_star = 15000\n",
    "epsilon_exploration_rule = return_lambda_explor(epsilon_min, epsilon_max, n_star)\n",
    "model, stats = deep_q_learning(env, epsilon_exploration_rule=epsilon_exploration_rule, num_episodes=20000, \n",
    "                               verbose=True, against_opt=True)"
   ]
  },
  {
   "cell_type": "code",
   "execution_count": null,
   "metadata": {
    "scrolled": true
   },
   "outputs": [],
   "source": [
    "grids = np.array([[[1., 0., 0.], [-1., 1., 0.], [0., -1., 0.]]])\n",
    "print(grids[0])\n",
    "heatmaps_deep_subplots(grids, model, save=save_figs)"
   ]
  }
 ],
 "metadata": {
  "accelerator": "TPU",
  "colab": {
   "collapsed_sections": [],
   "name": "Copy of DQN.ipynb",
   "provenance": []
  },
  "kernelspec": {
   "name": "cs456",
   "language": "python",
   "display_name": "CS456"
  },
  "language_info": {
   "codemirror_mode": {
    "name": "ipython",
    "version": 3
   },
   "file_extension": ".py",
   "mimetype": "text/x-python",
   "name": "python",
   "nbconvert_exporter": "python",
   "pygments_lexer": "ipython3",
   "version": "3.7.11"
  }
 },
 "nbformat": 4,
 "nbformat_minor": 1
}