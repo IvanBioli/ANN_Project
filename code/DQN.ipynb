{
 "cells": [
  {
   "cell_type": "markdown",
   "metadata": {
    "id": "8OxbcqvQv2h0"
   },
   "source": [
    "## Setup"
   ]
  },
  {
   "cell_type": "code",
   "execution_count": 1,
   "metadata": {
    "colab": {
     "base_uri": "https://localhost:8080/"
    },
    "id": "EnL3O2zosmvY",
    "outputId": "12bebbc0-1c64-4049-f726-7ab021ef08cc"
   },
   "outputs": [
    {
     "name": "stderr",
     "output_type": "stream",
     "text": [
      "WARNING: You are using pip version 22.0.4; however, version 22.1 is available.\n",
      "You should consider upgrading via the 'C:\\Users\\Federico Betti\\anaconda3\\envs\\CS456\\python.exe -m pip install --upgrade pip' command.\n"
     ]
    },
    {
     "name": "stdout",
     "output_type": "stream",
     "text": [
      "Requirement already satisfied: line_profiler in c:\\users\\federico betti\\anaconda3\\envs\\cs456\\lib\\site-packages (3.5.1)\n"
     ]
    }
   ],
   "source": [
    "import time\n",
    "import numpy as np\n",
    "import tensorflow as tf\n",
    "from tensorflow import keras\n",
    "from tensorflow.keras import layers\n",
    "\n",
    "%load_ext autoreload\n",
    "%autoreload 2\n",
    "%reload_ext autoreload\n",
    "from utils import *\n",
    "from q_learning import *\n",
    "from deep_q_learning import *\n",
    "\n",
    "!pip install line_profiler\n",
    "%load_ext line_profiler"
   ]
  },
  {
   "cell_type": "code",
   "execution_count": 2,
   "metadata": {
    "id": "8a99U2q9tXXz"
   },
   "outputs": [],
   "source": [
    "# Configuration paramaters for the whole setup\n",
    "#seed = 0\n",
    "\n",
    "env = TictactoeEnv()"
   ]
  },
  {
   "cell_type": "markdown",
   "metadata": {
    "id": "5CEanvsZwBRw"
   },
   "source": [
    "### Definition of the Network\n"
   ]
  },
  {
   "cell_type": "markdown",
   "metadata": {
    "id": "hCh80vTDybcs"
   },
   "source": [
    "### Training\n",
    " "
   ]
  },
  {
   "cell_type": "code",
   "execution_count": 3,
   "metadata": {
    "id": "9iCoghIZyfhe"
   },
   "outputs": [],
   "source": [
    "gamma = 0.99  # Discount factor for past rewards\n",
    "epsilon = 1.0  # Epsilon greedy parameter\n",
    "decaying_exploration = True\n",
    "epsilon_min = 0.1  # Minimum epsilon greedy parameter\n",
    "epsilon_max = 0.8  # Maximum epsilon greedy parameter\n",
    "num_episodes = 20000"
   ]
  },
  {
   "cell_type": "code",
   "execution_count": null,
   "metadata": {
    "colab": {
     "base_uri": "https://localhost:8080/",
     "height": 432
    },
    "id": "iveZK6ssgH6y",
    "outputId": "7d435d8d-7956-42e9-ba63-8585b7163a99"
   },
   "outputs": [],
   "source": [
    "n_star = 1\n",
    "def rule(n):\n",
    "    return max(epsilon_min, epsilon_max * (1 - n/n_star))\n",
    "\n",
    "model, stats = deep_q_learning(env, epsilon_exploration_rule=rule, verbose=True,\n",
    "                                           test_freq=250, num_episodes=num_episodes, against_opt=True)"
   ]
  }
 ],
 "metadata": {
  "accelerator": "TPU",
  "colab": {
   "collapsed_sections": [],
   "name": "Copy of DQN.ipynb",
   "provenance": []
  },
  "kernelspec": {
   "display_name": "Python 3 (ipykernel)",
   "language": "python",
   "name": "python3"
  },
  "language_info": {
   "codemirror_mode": {
    "name": "ipython",
    "version": 3
   },
   "file_extension": ".py",
   "mimetype": "text/x-python",
   "name": "python",
   "nbconvert_exporter": "python",
   "pygments_lexer": "ipython3",
   "version": "3.7.11"
  }
 },
 "nbformat": 4,
 "nbformat_minor": 1
}
