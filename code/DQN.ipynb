{
 "cells": [
  {
   "cell_type": "markdown",
   "metadata": {
    "id": "8OxbcqvQv2h0"
   },
   "source": [
    "## Setup"
   ]
  },
  {
   "cell_type": "code",
   "execution_count": null,
   "metadata": {
    "colab": {
     "base_uri": "https://localhost:8080/"
    },
    "id": "EnL3O2zosmvY",
    "outputId": "12bebbc0-1c64-4049-f726-7ab021ef08cc"
   },
   "outputs": [],
   "source": [
    "import time\n",
    "import numpy as np\n",
    "import tensorflow as tf\n",
    "from tensorflow import keras\n",
    "from tensorflow.keras import layers\n",
    "\n",
    "%load_ext autoreload\n",
    "%autoreload 2\n",
    "%reload_ext autoreload\n",
    "from utils import *\n",
    "from q_learning import *\n",
    "from deep_q_learning import *"
   ]
  },
  {
   "cell_type": "code",
   "execution_count": null,
   "metadata": {},
   "outputs": [],
   "source": [
    "# Configurations\n",
    "save_stats = True\n",
    "save_figs = True\n",
    "train = True\n",
    "load = not train\n",
    "\n",
    "seed = 0"
   ]
  },
  {
   "cell_type": "code",
   "execution_count": null,
   "metadata": {
    "id": "8a99U2q9tXXz"
   },
   "outputs": [],
   "source": [
    "# Configuration paramaters for the whole setup\n",
    "#seed = 0\n",
    "\n",
    "env = TictactoeEnv()\n",
    "\n",
    "gamma = 0.99\n",
    "lr = 5e-4\n",
    "epsilon_min = 0.1\n",
    "epsilon_max = 0.8\n",
    "num_episodes = 20000\n",
    "test_freq = 250\n",
    "num_avg = 1"
   ]
  },
  {
   "cell_type": "markdown",
   "metadata": {
    "id": "hCh80vTDybcs"
   },
   "source": [
    "## Learning from experts"
   ]
  },
  {
   "cell_type": "markdown",
   "metadata": {},
   "source": [
    "### Question 11: Average reward and average loss during training"
   ]
  },
  {
   "cell_type": "code",
   "execution_count": null,
   "metadata": {
    "colab": {
     "base_uri": "https://localhost:8080/",
     "height": 432
    },
    "id": "iveZK6ssgH6y",
    "outputId": "7d435d8d-7956-42e9-ba63-8585b7163a99",
    "scrolled": false
   },
   "outputs": [],
   "source": [
    "epsilon = 0.1\n",
    "rewards_list = []\n",
    "losses_list = []\n",
    "for i in range(num_avg):\n",
    "    model, stats = deep_q_learning(env, verbose=True, epsilon_exploration=epsilon,\n",
    "                                   test_freq=250, num_episodes=num_episodes, against_opt=True)\n",
    "    rewards_list.append(stats['rewards'])\n",
    "    losses_list.append(stats['loss_train'])"
   ]
  },
  {
   "cell_type": "code",
   "execution_count": null,
   "metadata": {},
   "outputs": [],
   "source": [
    "# Plotting the average reward and average loss for every 250 games during training\n",
    "running_rewards_list = []\n",
    "for reward in rewards_list:\n",
    "    running_average_rewards, x = running_average(reward)\n",
    "    running_rewards_list.append(running_average_rewards)\n",
    "    \n",
    "running_losses_list = []\n",
    "for loss in losses_list:\n",
    "    running_average_losses, x = running_average(loss)\n",
    "    running_losses_list.append(running_average_losses)\n",
    "\n",
    "running_average_rewards = np.mean(running_rewards_list, axis=0)\n",
    "stds = np.std(running_rewards_list, axis=0)\n",
    "fig = plt.figure()\n",
    "plt.plot(x, running_average_rewards)\n",
    "plt.fill_between(x, running_average_rewards - stds, running_average_rewards + stds, alpha=0.2)\n",
    "plt.ylim([-1,1])\n",
    "plt.xlabel('Episode')\n",
    "plt.ylabel('Reward')\n",
    "plt.title('Average reward during training')\n",
    "plt.show()\n",
    "if save_figs:\n",
    "        output_folder = os.path.join(os.getcwd(), 'figures')\n",
    "        os.makedirs(output_folder, exist_ok=True)\n",
    "        fig.savefig(output_folder + '/rewards_Q11_DEEP.png')\n",
    "        fig.savefig(output_folder + '/rewards_Q11_DEEP.pdf', format = 'pdf')\n",
    "\n",
    "running_average_losses = np.mean(running_losses_list, axis=0)\n",
    "stds = np.std(running_rewards_list, axis=0)\n",
    "fig = plt.figure()\n",
    "plt.plot(x, running_average_losses)\n",
    "plt.fill_between(x, running_average_losses - stds, running_average_losses + stds, alpha=0.2)\n",
    "plt.ylim([0,0.1])\n",
    "plt.xlabel('Episode')\n",
    "plt.ylabel('Loss')\n",
    "plt.title('Average loss during training')\n",
    "plt.show()\n",
    "if save_figs:\n",
    "        output_folder = os.path.join(os.getcwd(), 'figures')\n",
    "        os.makedirs(output_folder, exist_ok=True)\n",
    "        fig.savefig(output_folder + '/loss_Q11_DEEP.png')\n",
    "        fig.savefig(output_folder + '/loss_Q11_DEEP.pdf', format = 'pdf')\n",
    "        \n",
    "    \n",
    "# Comparing the performance with the optimal player and the random player\n",
    "turns = np.array(['X','O'])\n",
    "player_opt = OptimalPlayer(epsilon=0.)\n",
    "player_rand = OptimalPlayer(epsilon=1.)\n",
    "teacher = OptimalPlayer(epsilon=0.5)\n",
    "\n",
    "names = ['Trained', 'Optimal', 'Random']\n",
    "players = [DeepQPlayer(model=model), OptimalPlayer(epsilon=0.), OptimalPlayer(epsilon=1.)]\n",
    "\n",
    "for (name, player) in zip(names, players):\n",
    "    print(\"\\n-----\", name, \" player-----\")\n",
    "    m_opt = measure_performance(player, player_opt)\n",
    "    print(\"M_opt = \", m_opt)\n",
    "    m_rand = measure_performance(player, player_rand)\n",
    "    print(\"M_rand = \", m_rand)\n",
    "    m_teacher = measure_performance(player, teacher)\n",
    "    print(\"M_teacher = \", m_teacher)"
   ]
  },
  {
   "cell_type": "markdown",
   "metadata": {},
   "source": [
    "### Question 12: no replay buffer and batch_size = 1"
   ]
  },
  {
   "cell_type": "code",
   "execution_count": null,
   "metadata": {},
   "outputs": [],
   "source": [
    "epsilon = 0.1\n",
    "batch_size = 1\n",
    "max_memory_length = 1\n",
    "rewards_list = []\n",
    "losses_list = []\n",
    "for i in range(num_avg):\n",
    "    model, stats = deep_q_learning(env, verbose=True, epsilon_exploration=epsilon,\n",
    "                                   test_freq=250, num_episodes=num_episodes, batch_size=batch_size, \n",
    "                                   max_memory_length=max_memory_length, against_opt=True)\n",
    "    rewards_list.append(stats['rewards'])\n",
    "    losses_list.append(stats['loss_train'])"
   ]
  },
  {
   "cell_type": "code",
   "execution_count": null,
   "metadata": {},
   "outputs": [],
   "source": [
    "# Plotting the average reward and average loss for every 250 games during training\n",
    "running_rewards_list = []\n",
    "for reward in rewards_list:\n",
    "    running_average_rewards, x = running_average(reward)\n",
    "    running_rewards_list.append(running_average_rewards)\n",
    "    \n",
    "running_losses_list = []\n",
    "for loss in losses_list:\n",
    "    running_average_losses, x = running_average(loss)\n",
    "    running_losses_list.append(running_average_losses)\n",
    "\n",
    "running_average_rewards = np.mean(running_rewards_list, axis=0)\n",
    "stds = np.std(running_rewards_list, axis=0)\n",
    "fig = plt.figure()\n",
    "plt.plot(x, running_average_rewards)\n",
    "plt.fill_between(x, running_average_rewards - stds, running_average_rewards + stds, alpha=0.2)\n",
    "plt.ylim([-1, 1])\n",
    "plt.xlabel('Episode')\n",
    "plt.ylabel('Reward')\n",
    "plt.title('Average reward during training')\n",
    "plt.show()\n",
    "if save_figs:\n",
    "        output_folder = os.path.join(os.getcwd(), 'figures')\n",
    "        os.makedirs(output_folder, exist_ok=True)\n",
    "        fig.savefig(output_folder + '/rewards_Q12_DEEP.png')\n",
    "        fig.savefig(output_folder + '/rewards_Q12_DEEP.pdf', format = 'pdf')\n",
    "\n",
    "running_average_losses = np.mean(running_losses_list, axis=0)\n",
    "stds = np.std(running_rewards_list, axis=0)\n",
    "fig = plt.figure()\n",
    "plt.plot(x, running_average_losses)\n",
    "plt.fill_between(x, running_average_losses - stds, running_average_losses + stds, alpha=0.2)\n",
    "plt.ylim([0, 0.1])\n",
    "plt.xlabel('Episode')\n",
    "plt.ylabel('Loss')\n",
    "plt.title('Average loss during training')\n",
    "plt.show()\n",
    "if save_figs:\n",
    "        output_folder = os.path.join(os.getcwd(), 'figures')\n",
    "        os.makedirs(output_folder, exist_ok=True)\n",
    "        fig.savefig(output_folder + '/loss_Q12_DEEP.png')\n",
    "        fig.savefig(output_folder + '/loss_Q12_DEEP.pdf', format = 'pdf')\n",
    "        \n",
    "    \n",
    "# Comparing the performance with the optimal player and the random player\n",
    "turns = np.array(['X','O'])\n",
    "player_opt = OptimalPlayer(epsilon=0.)\n",
    "player_rand = OptimalPlayer(epsilon=1.)\n",
    "teacher = OptimalPlayer(epsilon=0.5)\n",
    "\n",
    "names = ['Trained', 'Optimal', 'Random']\n",
    "players = [DeepQPlayer(model=model), OptimalPlayer(epsilon=0.), OptimalPlayer(epsilon=1.)]\n",
    "\n",
    "for (name, player) in zip(names, players):\n",
    "    print(\"\\n-----\", name, \" player-----\")\n",
    "    m_opt = measure_performance(player, player_opt)\n",
    "    print(\"M_opt = \", m_opt)\n",
    "    m_rand = measure_performance(player, player_rand)\n",
    "    print(\"M_rand = \", m_rand)\n",
    "    m_teacher = measure_performance(player, teacher)\n",
    "    print(\"M_teacher = \", m_teacher)"
   ]
  },
  {
   "cell_type": "markdown",
   "metadata": {},
   "source": [
    "### Question 13: Decreasing exploration for different values of $n^{*}$"
   ]
  },
  {
   "cell_type": "code",
   "execution_count": null,
   "metadata": {},
   "outputs": [],
   "source": [
    "vec_n_star = np.hstack((np.array([1, 100, 500, 750]), np.round(np.logspace(3, np.log10(40000), 16))))"
   ]
  },
  {
   "cell_type": "code",
   "execution_count": null,
   "metadata": {},
   "outputs": [],
   "source": [
    "deep_q_learning_params_list = []\n",
    "var_name = \"n_star_deep\"\n",
    "for n_star in vec_n_star:\n",
    "    params = {'env': env,\n",
    "              'num_episodes': num_episodes,\n",
    "              'epsilon_exploration_rule': return_lambda_explor(epsilon_min, epsilon_max, n_star),\n",
    "              'test_freq': test_freq,\n",
    "              'against_opt': True}\n",
    "    deep_q_learning_params_list.append(params)"
   ]
  },
  {
   "cell_type": "code",
   "execution_count": null,
   "metadata": {},
   "outputs": [],
   "source": [
    "if train:\n",
    "    stats_dict_nstar_list_deep = deep_train_avg(var_name, vec_n_star, deep_q_learning_params_list, \n",
    "                                                num_avg=num_avg, save_stats=True)"
   ]
  },
  {
   "cell_type": "markdown",
   "metadata": {},
   "source": [
    "### Question 14: Different values of $\\epsilon_{\\text{opt}}$"
   ]
  },
  {
   "cell_type": "code",
   "execution_count": null,
   "metadata": {},
   "outputs": [],
   "source": [
    "best_n_star = #########\n",
    "M = 11\n",
    "vec_epsilon_opt = np.linspace(0, 1, M)\n",
    "deep_q_learning_params_list = []\n",
    "var_name = \"epsilon_opt_deep\"\n",
    "for eps in vec_epsilon_opt:\n",
    "    params = {'env': env,\n",
    "              'num_episodes': num_episodes,\n",
    "              'epsilon_exploration_rule': return_lambda_explor(epsilon_min, epsilon_max, best_n_star),\n",
    "              'epsilon_opt': eps,\n",
    "              'test_freq': test_freq,\n",
    "              'against_opt': True}\n",
    "    deep_q_learning_params_list.append(params)"
   ]
  },
  {
   "cell_type": "code",
   "execution_count": null,
   "metadata": {},
   "outputs": [],
   "source": [
    "if train:\n",
    "    stats_dict_epsilon_opt_list_deep = deep_train_avg(var_name, vec_epsilon_opt, deep_q_learning_params_list,\n",
    "                                                      num_avg=num_avg, save_stats=True)"
   ]
  },
  {
   "cell_type": "markdown",
   "metadata": {},
   "source": [
    "### Question 15: Best values of $M_{\\text{opt}}$ and $M_{\\text{rand}}$"
   ]
  },
  {
   "cell_type": "code",
   "execution_count": null,
   "metadata": {},
   "outputs": [],
   "source": [
    "# TODO"
   ]
  },
  {
   "cell_type": "markdown",
   "metadata": {},
   "source": [
    "## Learning by self-practice"
   ]
  },
  {
   "cell_type": "markdown",
   "metadata": {},
   "source": [
    "### Question 16: Different values of the exploration rate $\\epsilon$"
   ]
  },
  {
   "cell_type": "code",
   "execution_count": null,
   "metadata": {},
   "outputs": [],
   "source": [
    "M = 10\n",
    "vec_eps = np.linspace(0, 1, M)\n",
    "deep_q_learning_params_list = []\n",
    "var_name = \"epsilon_deep_self\"\n",
    "for eps in vec_eps:\n",
    "    params = {'env': env,\n",
    "              'num_episodes': num_episodes,\n",
    "              'epsilon_exploration': eps,\n",
    "              'test_freq': test_freq,\n",
    "              'self_practice': True}\n",
    "    deep_q_learning_params_list.append(params)"
   ]
  },
  {
   "cell_type": "code",
   "execution_count": null,
   "metadata": {},
   "outputs": [],
   "source": [
    "if train:\n",
    "     stats_dict_epsilon_self_list_deep = deep_train_avg(var_name, vec_eps, deep_q_learning_params_list, \n",
    "                                                        num_avg=num_avg, save_stats=True)"
   ]
  },
  {
   "cell_type": "markdown",
   "metadata": {},
   "source": [
    "### Question 17: Decreasing exploration for different values of $n^*$"
   ]
  },
  {
   "cell_type": "code",
   "execution_count": null,
   "metadata": {},
   "outputs": [],
   "source": [
    "vec_n_star = np.hstack((np.array([1, 100, 500, 750]), np.round(np.logspace(3, np.log10(40000), 16))))"
   ]
  },
  {
   "cell_type": "code",
   "execution_count": null,
   "metadata": {},
   "outputs": [],
   "source": [
    "deep_q_learning_params_list = []\n",
    "var_name = \"n_star_self_deep\"\n",
    "for n_star in vec_n_star:\n",
    "    params = {'env': env,\n",
    "              'num_episodes': num_episodes,\n",
    "              'epsilon_exploration_rule': return_lambda_explor(epsilon_min, epsilon_max, n_star),\n",
    "              'test_freq': test_freq,\n",
    "              'self_practice': True}\n",
    "    deep_q_learning_params_list.append(params)"
   ]
  },
  {
   "cell_type": "code",
   "execution_count": null,
   "metadata": {},
   "outputs": [],
   "source": [
    "if train:\n",
    "    stats_dict_nstar_self_list_deep = deep_train_avg(var_name, vec_n_star, deep_q_learning_params_list,\n",
    "                                                     num_avg=num_avg, save_stats=True)"
   ]
  },
  {
   "cell_type": "markdown",
   "metadata": {},
   "source": [
    "### Question 18: Best values of $M_{\\text{opt}}$ and $M_{\\text{rand}}$"
   ]
  },
  {
   "cell_type": "code",
   "execution_count": null,
   "metadata": {},
   "outputs": [],
   "source": [
    "# TODO"
   ]
  },
  {
   "cell_type": "markdown",
   "metadata": {},
   "source": [
    "### Question 19: Heatmaps of the Q-values in 3 significant states"
   ]
  },
  {
   "cell_type": "code",
   "execution_count": null,
   "metadata": {},
   "outputs": [],
   "source": [
    "# Optimal parameters\n",
    "epsilon_min = 0.1\n",
    "epsilon_max = 0.8\n",
    "n_star = 15000\n",
    "epsilon_exploration_rule = return_lambda_explor(epsilon_min, epsilon_max, n_star)\n",
    "model, stats = deep_q_learning(env, epsilon_exploration_rule=epsilon_exploration_rule, num_episodes=20000, \n",
    "                               verbose=True, against_opt=True)"
   ]
  },
  {
   "cell_type": "code",
   "execution_count": null,
   "metadata": {
    "scrolled": true
   },
   "outputs": [],
   "source": [
    "grids = np.array([[[1., 0., 0.], [-1., 1., 0.], [0., -1., 0.]]])\n",
    "print(grids[0])\n",
    "heatmaps_deep_subplots(grids, model, save=save_figs)"
   ]
  }
 ],
 "metadata": {
  "accelerator": "TPU",
  "colab": {
   "collapsed_sections": [],
   "name": "Copy of DQN.ipynb",
   "provenance": []
  },
  "kernelspec": {
   "display_name": "Python 3 (ipykernel)",
   "language": "python",
   "name": "python3"
  },
  "language_info": {
   "codemirror_mode": {
    "name": "ipython",
    "version": 3
   },
   "file_extension": ".py",
   "mimetype": "text/x-python",
   "name": "python",
   "nbconvert_exporter": "python",
   "pygments_lexer": "ipython3",
   "version": "3.7.11"
  }
 },
 "nbformat": 4,
 "nbformat_minor": 1
}
