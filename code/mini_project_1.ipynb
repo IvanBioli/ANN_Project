{
 "cells": [
  {
   "cell_type": "code",
   "execution_count": null,
   "metadata": {},
   "outputs": [],
   "source": [
    "import time\n",
    "import pickle\n",
    "\n",
    "import numpy as np\n",
    "import random\n",
    "\n",
    "%load_ext autoreload\n",
    "%autoreload 2\n",
    "%reload_ext autoreload\n",
    "from utils import *\n",
    "from q_learning import *"
   ]
  },
  {
   "cell_type": "code",
   "execution_count": null,
   "metadata": {
    "pycharm": {
     "name": "#%%\n"
    }
   },
   "outputs": [],
   "source": [
    "# Configurations\n",
    "save_stats = False\n",
    "save_figs = False\n",
    "train = False\n",
    "load = not train\n",
    "\n",
    "seed = 0"
   ]
  },
  {
   "cell_type": "markdown",
   "metadata": {},
   "source": [
    "## 2. Q-Learning"
   ]
  },
  {
   "cell_type": "code",
   "execution_count": null,
   "metadata": {
    "pycharm": {
     "name": "#%%\n"
    }
   },
   "outputs": [],
   "source": [
    "env = TictactoeEnv()\n",
    "\n",
    "# Hyper-parameters\n",
    "alpha = 0.05    # Learning rate\n",
    "gamma = 0.99    # Discount factor\n",
    "epsilon_opt = 0.5   # Optimal player's epsilon\n",
    "num_episodes = 20000 # number of episodes\n",
    "num_avg = 1 # training runs\n",
    "test_freq = 250"
   ]
  },
  {
   "cell_type": "markdown",
   "metadata": {
    "pycharm": {
     "name": "#%% md\n"
    }
   },
   "source": [
    "### 2.1 Learning from experts"
   ]
  },
  {
   "cell_type": "markdown",
   "metadata": {},
   "source": [
    "#### Question 1: Average reward with $\\epsilon = 0.1$"
   ]
  },
  {
   "cell_type": "code",
   "execution_count": null,
   "metadata": {
    "pycharm": {
     "name": "#%%\n"
    }
   },
   "outputs": [],
   "source": [
    "epsilon_exploration = 0.1\n",
    "stats_dict_list = []\n",
    "for i in range(num_avg):\n",
    "    print('************** RUN', i+1, 'OF', num_avg, '**************')\n",
    "    stats_dict = {}\n",
    "    start = time.time()\n",
    "    Q, stats = q_learning(env, epsilon_exploration=epsilon_exploration, num_episodes=num_episodes, verbose=False, against_opt=True)\n",
    "    M_opt = measure_performance(QPlayer(Q=Q), OptimalPlayer(epsilon=0.))\n",
    "    M_rand = measure_performance(QPlayer(Q=Q), OptimalPlayer(epsilon=1.))\n",
    "    print(\"M_opt =\", M_opt)\n",
    "    print(\"M_rand =\", M_rand)\n",
    "    stats_dict.update({epsilon_exploration: (stats, M_opt, M_rand)})\n",
    "    stats_dict_list.append(stats_dict)\n",
    "    print('RUN', i+1, 'took', np.round(time.time()-start,decimals=1), 'seconds')\n",
    "\n",
    "plot_stats(stats_dict_list, [epsilon_exploration], 'epsilon_exploration_Q1', '\\epsilon', save=save_figs, keys = ['rewards'])"
   ]
  },
  {
   "cell_type": "markdown",
   "metadata": {
    "pycharm": {
     "name": "#%% md\n"
    }
   },
   "source": [
    "#### Questions 2 and 3: Decreasing exploration for different values of $n^{*}$"
   ]
  },
  {
   "cell_type": "code",
   "execution_count": null,
   "metadata": {},
   "outputs": [],
   "source": [
    "test_freq = 250\n",
    "epsilon_min = 0.1\n",
    "epsilon_max = 0.8\n",
    "vec_n_star = np.hstack((np.array([1, 100, 500, 750]), np.round(np.logspace(3, np.log10(40000), 16))))"
   ]
  },
  {
   "cell_type": "code",
   "execution_count": null,
   "metadata": {
    "pycharm": {
     "name": "#%%\n"
    }
   },
   "outputs": [],
   "source": [
    "vec_n_star_first = vec_n_star[:10]\n",
    "var_name = 'nstar_first'\n",
    "q_learning_params_list = []\n",
    "for n_star in vec_n_star_first:\n",
    "    params = {'env': env,\n",
    "              'num_episodes': num_episodes,\n",
    "              'epsilon_exploration_rule': return_lambda_explor(epsilon_min, epsilon_max, n_star),\n",
    "              'test_freq': test_freq,\n",
    "              'against_opt': True}\n",
    "    q_learning_params_list.append(params)"
   ]
  },
  {
   "cell_type": "code",
   "execution_count": null,
   "metadata": {},
   "outputs": [],
   "source": [
    "if train:\n",
    "    stats_dict_nstar_first_list = train_avg(var_name, vec_n_star_first, q_learning_params_list, num_avg=num_avg, save_stats=save_stats)"
   ]
  },
  {
   "cell_type": "code",
   "execution_count": null,
   "metadata": {},
   "outputs": [],
   "source": [
    "var_name = 'nstar_second'\n",
    "vec_n_star_second = vec_n_star[10:]\n",
    "q_learning_params_list = []\n",
    "for n_star in vec_n_star_second:\n",
    "    params = {'env': env,\n",
    "              'num_episodes': num_episodes,\n",
    "              'epsilon_exploration_rule': return_lambda_explor(epsilon_min, epsilon_max, n_star),\n",
    "              'test_freq': test_freq,\n",
    "              'against_opt': True}\n",
    "    q_learning_params_list.append(params)"
   ]
  },
  {
   "cell_type": "code",
   "execution_count": null,
   "metadata": {},
   "outputs": [],
   "source": [
    "if train:\n",
    "    stats_dict_nstar_second_list = train_avg(var_name, vec_n_star_second, q_learning_params_list, num_avg=num_avg, save_stats=save_stats)"
   ]
  },
  {
   "cell_type": "code",
   "execution_count": null,
   "metadata": {
    "pycharm": {
     "name": "#%%\n"
    }
   },
   "outputs": [],
   "source": [
    "# Merge\n",
    "if save_stats:\n",
    "    stats_dict_nstar_list = []\n",
    "    output_folder = os.path.join(os.getcwd(), 'results')\n",
    "    os.makedirs(output_folder, exist_ok=True)\n",
    "    fname = output_folder + '/stats_dict_nstar_first_list.pkl'\n",
    "    with open(fname, 'rb') as handle:\n",
    "        stats_dict_nstar_first_list = pickle.load(handle)\n",
    "    fname = output_folder + '/stats_dict_nstar_second_list.pkl'\n",
    "    with open(fname, 'rb') as handle:\n",
    "        stats_dict_nstar_second_list = pickle.load(handle)\n",
    "        for i in range(len(stats_dict_nstar_second_list)):\n",
    "            stats_dict_nstar_list.append({**stats_dict_nstar_first_list[i], **stats_dict_nstar_second_list[i]})\n",
    "    fname = output_folder + '/stats_dict_nstar_list.pkl'\n",
    "    with open(fname, 'wb') as handle:\n",
    "        pickle.dump(stats_dict_nstar_list, handle, protocol=pickle.HIGHEST_PROTOCOL)"
   ]
  },
  {
   "cell_type": "code",
   "execution_count": null,
   "metadata": {
    "pycharm": {
     "name": "#%%\n"
    }
   },
   "outputs": [],
   "source": [
    "if load:\n",
    "    output_folder = os.path.join(os.getcwd(), 'results')\n",
    "    os.makedirs(output_folder, exist_ok=True)\n",
    "    fname = output_folder + '/stats_dict_nstar_list.pkl'\n",
    "    with open(fname, 'rb') as handle:\n",
    "        stats_dict_nstar_list = pickle.load(handle)\n",
    "\n",
    "plot_n_star = [1., 9146., 19127., 40000]\n",
    "plot_stats(stats_dict_nstar_list, plot_n_star, 'n_star', \"n^{\\star}\", save=save_figs, decaying_exploration=True)"
   ]
  },
  {
   "cell_type": "markdown",
   "metadata": {
    "pycharm": {
     "name": "#%% md\n"
    }
   },
   "source": [
    "##### Plot for all the experimented values"
   ]
  },
  {
   "cell_type": "code",
   "execution_count": null,
   "metadata": {
    "pycharm": {
     "name": "#%%\n"
    }
   },
   "outputs": [],
   "source": [
    "plot_stats(stats_dict_nstar_list, vec_n_star, 'n_star', \"n^{\\star}\", save=False)"
   ]
  },
  {
   "cell_type": "markdown",
   "metadata": {
    "pycharm": {
     "name": "#%% md\n"
    }
   },
   "source": [
    "#### Questions 4: Good experts and bad experts"
   ]
  },
  {
   "cell_type": "code",
   "execution_count": null,
   "metadata": {
    "pycharm": {
     "name": "#%%\n"
    }
   },
   "outputs": [],
   "source": [
    "n_star = 1 # we pick the best according to previous experiments\n",
    "M = 11\n",
    "var_name = 'epsilon_opt'\n",
    "vec_epsilon_opt = np.round(np.linspace(0, 1, M), decimals=2)\n",
    "q_learning_params_list = []\n",
    "for epsilon_opt in vec_epsilon_opt:\n",
    "    params = {'env': env,\n",
    "              'num_episodes': num_episodes,\n",
    "              'epsilon_exploration_rule': return_lambda_explor(epsilon_min, epsilon_max, n_star),\n",
    "              'test_freq': 250,\n",
    "              'epsilon_opt': epsilon_opt,\n",
    "              'against_opt': True}\n",
    "    q_learning_params_list.append(params)"
   ]
  },
  {
   "cell_type": "code",
   "execution_count": null,
   "metadata": {},
   "outputs": [],
   "source": [
    "if train:\n",
    "    stats_dict_eps_opt_list = train_avg(var_name, vec_epsilon_opt, q_learning_params_list, num_avg=num_avg, save_stats=save_stats)"
   ]
  },
  {
   "cell_type": "code",
   "execution_count": null,
   "metadata": {
    "pycharm": {
     "name": "#%%\n"
    }
   },
   "outputs": [],
   "source": [
    "if load:\n",
    "    output_folder = os.path.join(os.getcwd(), 'results')\n",
    "    os.makedirs(output_folder, exist_ok=True)\n",
    "    fname = output_folder + '/stats_dict_epsilon_opt_list.pkl'\n",
    "    with open(fname, 'rb') as handle:\n",
    "        stats_dict_eps_opt_list = pickle.load(handle)\n",
    "\n",
    "plot_epsilon_opt = [0., 0.2, 0.5, 0.8, 1.]\n",
    "plot_stats(stats_dict_eps_opt_list, plot_epsilon_opt, \"epsilon_opt\", \"\\epsilon_{opt}\", save=save_figs, keys=['test_Mopt', 'test_Mrand'])"
   ]
  },
  {
   "cell_type": "markdown",
   "metadata": {
    "pycharm": {
     "name": "#%% md\n"
    }
   },
   "source": [
    "##### Plot for all the experimented values"
   ]
  },
  {
   "cell_type": "code",
   "execution_count": null,
   "metadata": {
    "pycharm": {
     "name": "#%%\n"
    }
   },
   "outputs": [],
   "source": [
    "plot_stats(stats_dict_eps_opt_list, vec_epsilon_opt, \"epsilon_opt\", \"\\epsilon_{opt}\", save=False, keys=['test_Mopt', 'test_Mrand'])"
   ]
  },
  {
   "cell_type": "markdown",
   "metadata": {},
   "source": [
    "#### Question 5: Optimal values of $M_{\\text{opt}}$ and $M_{\\text{rand}}$"
   ]
  },
  {
   "cell_type": "code",
   "execution_count": null,
   "metadata": {},
   "outputs": [],
   "source": [
    "np.random.seed(seed)\n",
    "random.seed(seed)\n",
    "# Setting hyperparams\n",
    "n_star = 1\n",
    "epsilon_min = 0.1\n",
    "epsilon_max = 0.8\n",
    "# Training\n",
    "Q, stats = q_learning(env, num_episodes=20000, epsilon_exploration_rule=return_lambda_explor(epsilon_min, epsilon_max, n_star), verbose=False, epsilon_opt=0.5, against_opt=True)\n",
    "# Measuring performance\n",
    "m_opt = measure_performance(QPlayer(Q=Q), OptimalPlayer(epsilon=0.))\n",
    "print(\"M_opt = \", m_opt)\n",
    "m_rand = measure_performance(QPlayer(Q=Q), OptimalPlayer(epsilon=1.))\n",
    "print(\"M_rand = \", m_rand)"
   ]
  },
  {
   "cell_type": "markdown",
   "metadata": {
    "pycharm": {
     "name": "#%% md\n"
    }
   },
   "source": [
    "### 2.2 Learning by self-practice"
   ]
  },
  {
   "cell_type": "code",
   "execution_count": null,
   "outputs": [],
   "source": [
    "# Hyperparameters for self learning\n",
    "alpha = 0.01    # Learning rate"
   ],
   "metadata": {
    "collapsed": false,
    "pycharm": {
     "name": "#%%\n"
    }
   }
  },
  {
   "cell_type": "markdown",
   "metadata": {},
   "source": [
    "#### Question 7: Self-learning with constant rate of exploration $\\epsilon$"
   ]
  },
  {
   "cell_type": "code",
   "execution_count": null,
   "metadata": {
    "pycharm": {
     "name": "#%%\n"
    }
   },
   "outputs": [],
   "source": [
    "epsilon_vec = np.round(np.linspace(0,1,11), decimals=2)\n",
    "print(epsilon_vec)\n",
    "var_name = 'eps_self'\n",
    "q_learning_params_list = []\n",
    "for eps in epsilon_vec:\n",
    "    params = {'env': env,\n",
    "              'alpha': alpha,\n",
    "              'num_episodes': num_episodes,\n",
    "              'epsilon_exploration': eps,\n",
    "              'test_freq': test_freq,\n",
    "              'self_practice': True,\n",
    "              'verbose': True}\n",
    "    q_learning_params_list.append(params)"
   ]
  },
  {
   "cell_type": "code",
   "execution_count": null,
   "metadata": {},
   "outputs": [],
   "source": [
    "if train:\n",
    "    stats_dict_eps_self_list = train_avg(var_name, epsilon_vec, q_learning_params_list, num_avg=num_avg, save_stats=save_stats)"
   ]
  },
  {
   "cell_type": "code",
   "execution_count": null,
   "metadata": {
    "pycharm": {
     "name": "#%%\n"
    }
   },
   "outputs": [],
   "source": [
    "if load:\n",
    "    output_folder = os.path.join(os.getcwd(), 'results')\n",
    "    os.makedirs(output_folder, exist_ok=True)\n",
    "    fname = output_folder + '/stats_dict_eps_self_list.pkl'\n",
    "    with open(fname, 'rb') as handle:\n",
    "        stats_dict_eps_self_list = pickle.load(handle)\n",
    "\n",
    "epsilon_vec_plot = [0, 0.1, 0.4, 0.6, 0.8] # are these okay?\n",
    "plot_stats(stats_dict_eps_self_list, epsilon_vec_plot, \"epsilon_self\", \"\\epsilon\", save=save_figs, perc=True, keys=['test_Mopt', 'test_Mrand'])"
   ]
  },
  {
   "cell_type": "markdown",
   "metadata": {
    "pycharm": {
     "name": "#%% md\n"
    }
   },
   "source": [
    "##### Plot for all the experimented values"
   ]
  },
  {
   "cell_type": "code",
   "execution_count": null,
   "metadata": {
    "pycharm": {
     "name": "#%%\n"
    }
   },
   "outputs": [],
   "source": [
    "plot_stats(stats_dict_eps_self_list, epsilon_vec, \"epsilon_self\", \"\\epsilon\", save=False, keys=['test_Mopt', 'test_Mrand'])"
   ]
  },
  {
   "cell_type": "markdown",
   "metadata": {},
   "source": [
    "#### Question 8: Decaying exploration rule for different values of $n^*$"
   ]
  },
  {
   "cell_type": "code",
   "execution_count": null,
   "metadata": {},
   "outputs": [],
   "source": [
    "epsilon_min = 0.1\n",
    "epsilon_max = 0.8\n",
    "vec_n_star = np.hstack((np.array([1, 100, 500, 750]), np.round(np.logspace(3, np.log10(40000), 16))))"
   ]
  },
  {
   "cell_type": "code",
   "execution_count": null,
   "outputs": [],
   "source": [
    "num_splits = 4\n",
    "chunks_list = np.array_split(vec_n_star, num_splits)\n",
    "print(chunks_list)\n",
    "qlearning_params_list = []\n",
    "print('alpha = ', alpha)\n",
    "for (idx, chunk) in enumerate(chunks_list):\n",
    "    qlearning_params_list.append([])\n",
    "    for n_star in chunk:\n",
    "        params = {'env': env,\n",
    "                  'num_episodes': num_episodes,\n",
    "                  'epsilon_exploration_rule': return_lambda_explor(epsilon_min, epsilon_max, n_star),\n",
    "                  'test_freq': test_freq,\n",
    "                  'alpha': alpha,\n",
    "                  'self_practice': True}\n",
    "        qlearning_params_list[idx].append(params)"
   ],
   "metadata": {
    "collapsed": false,
    "pycharm": {
     "name": "#%%\n"
    }
   }
  },
  {
   "cell_type": "code",
   "execution_count": null,
   "outputs": [],
   "source": [
    "chunk_num = 0\n",
    "if train:\n",
    "    var_name = 'q_learning_n_star_self_' + str(chunk_num)\n",
    "    chunk = chunks_list[chunk_num]\n",
    "    stats_dict_nstar = train_avg(var_name, chunk, qlearning_params_list[chunk_num], num_avg=num_avg, save_stats=save_stats)"
   ],
   "metadata": {
    "collapsed": false,
    "pycharm": {
     "name": "#%%\n"
    }
   }
  },
  {
   "cell_type": "code",
   "execution_count": null,
   "metadata": {
    "pycharm": {
     "name": "#%%\n"
    }
   },
   "outputs": [],
   "source": [
    "# Merge\n",
    "stats_dicts = {}\n",
    "if save_stats:\n",
    "    stats_dict_nstar_list = []\n",
    "    output_folder = os.path.join(os.getcwd(), 'results')\n",
    "    os.makedirs(output_folder, exist_ok=True)\n",
    "    for i in range(len(chunks_list)):\n",
    "        fname = output_folder + '/stats_dict_q_learning_n_star_self_' + str(i) + '_list.pkl'\n",
    "        with open(fname, 'rb') as handle:\n",
    "            stats_dicts.update({i: pickle.load(handle)})\n",
    "    for i in range(num_avg):\n",
    "        to_append = {}\n",
    "        for key in stats_dicts.keys():\n",
    "            to_append.update(stats_dicts[key][i])\n",
    "        stats_dict_nstar_list.append(to_append)\n",
    "    fname = output_folder + '/stats_dict_q_learning_n_star_self_list.pkl'\n",
    "    with open(fname, 'wb') as handle:\n",
    "        pickle.dump(stats_dict_nstar_list, handle, protocol=pickle.HIGHEST_PROTOCOL)"
   ]
  },
  {
   "cell_type": "code",
   "execution_count": null,
   "metadata": {
    "pycharm": {
     "name": "#%%\n"
    }
   },
   "outputs": [],
   "source": [
    "if load:\n",
    "    output_folder = os.path.join(os.getcwd(), 'results')\n",
    "    os.makedirs(output_folder, exist_ok=True)\n",
    "    fname = output_folder + '/stats_dict_q_learning_n_star_self_list.pkl'\n",
    "    with open(fname, 'rb') as handle:\n",
    "        stats_dict_nstar_self_list = pickle.load(handle)\n",
    "\n",
    "plot_n_star = [1., 1000., 11696., 24460., 31279., 40000.]\n",
    "plot_stats(stats_dict_nstar_self_list, plot_n_star, 'n_star_self', \"n^{\\star}\", decaying_exploration=True, save=save_figs, perc=True, keys=['test_Mopt', 'test_Mrand'])"
   ]
  },
  {
   "cell_type": "markdown",
   "metadata": {
    "pycharm": {
     "name": "#%% md\n"
    }
   },
   "source": [
    "##### Plot for all the experimented values"
   ]
  },
  {
   "cell_type": "code",
   "execution_count": null,
   "metadata": {
    "pycharm": {
     "name": "#%%\n"
    }
   },
   "outputs": [],
   "source": [
    "plot_stats(stats_dict_nstar_self_list, vec_n_star, 'n_star_self', \"n^{\\star}\", save=False, keys=['test_Mopt', 'test_Mrand'])"
   ]
  },
  {
   "cell_type": "markdown",
   "metadata": {},
   "source": [
    "#### Optimal values of $M_{\\text{opt}}$ and $M_{\\text{rand}}$"
   ]
  },
  {
   "cell_type": "code",
   "execution_count": null,
   "metadata": {
    "scrolled": false
   },
   "outputs": [],
   "source": [
    "#np.random.seed(seed)\n",
    "#random.seed(seed)\n",
    "# Setting hyperparams\n",
    "# Training\n",
    "m_opt_vec = []\n",
    "m_rand_vec = []\n",
    "for i in range(10):\n",
    "    Q, stats = q_learning(env, alpha=0.01, num_episodes=20000, epsilon_exploration = 0.6, self_practice=True)\n",
    "    # Measuring performance\n",
    "    m_opt = measure_performance(QPlayer(Q=Q), OptimalPlayer(epsilon=0.))\n",
    "    m_rand = measure_performance(QPlayer(Q=Q), OptimalPlayer(epsilon=1.))\n",
    "    m_opt_vec.append(m_opt)\n",
    "    m_rand_vec.append(m_rand)\n",
    "    print(\"Run\", i+1, \": M_opt = \", np.round(m_opt, decimals=3), \"\\t M_rand = \", np.round(m_rand, decimals=3))\n",
    "\n",
    "print('*********************', ' AVERAGE STATS ', '*********************')\n",
    "print(\"Median:\\tM_opt = \", np.round(np.median(m_opt_vec),decimals=3), \"\\t M_rand = \", np.round(np.median(m_opt_vec),decimals=3))\n",
    "print(\"25th quantile:\\tM_opt = \", np.round(np.percentile(m_opt_vec, q=25),decimals=3), \"\\t M_rand = \", np.round(np.percentile(m_opt_vec, q=25),decimals=3))\n",
    "print(\"75th quantile:\\tM_opt = \", np.round(np.percentile(m_opt_vec, q=75),decimals=3), \"\\t M_rand = \", np.round(np.percentile(m_opt_vec, q=75),decimals=3))"
   ]
  },
  {
   "cell_type": "code",
   "execution_count": null,
   "metadata": {},
   "outputs": [],
   "source": [
    "epsilon_exploration = 0.2\n",
    "stats_dict_list = []\n",
    "for i in range(num_avg):\n",
    "    print('************** RUN', i+1, 'OF', num_avg, '**************')\n",
    "    stats_dict = {}\n",
    "    start = time.time()\n",
    "    Q, stats = q_learning(env, epsilon_exploration=epsilon_exploration, num_episodes=num_episodes, \n",
    "                          test_freq=250, verbose=True, self_practice=True)\n",
    "    M_opt = measure_performance(QPlayer(Q=Q), OptimalPlayer(epsilon=0.))\n",
    "    M_rand = measure_performance(QPlayer(Q=Q), OptimalPlayer(epsilon=1.))\n",
    "    print(\"M_opt =\", M_opt)\n",
    "    print(\"M_rand =\", M_rand)\n",
    "    stats_dict.update({epsilon_exploration: (stats, M_opt, M_rand)})\n",
    "    stats_dict_list.append(stats_dict)\n",
    "    print('RUN', i+1, 'took', np.round(time.time()-start,decimals=1), 'seconds')"
   ]
  },
  {
   "cell_type": "code",
   "execution_count": null,
   "metadata": {},
   "outputs": [],
   "source": [
    "plot_stats(stats_dict_list, [epsilon_exploration], 'epsilon_exploration_Q7', '\\epsilon', save=save_figs, keys = ['test_Mopt', 'test_Mrand'], perc=True)"
   ]
  },
  {
   "cell_type": "markdown",
   "metadata": {},
   "source": [
    "#### Question 10: Heatmaps of the Q-values in 3 significant states"
   ]
  },
  {
   "cell_type": "code",
   "execution_count": null,
   "metadata": {
    "pycharm": {
     "name": "#%%\n"
    }
   },
   "outputs": [],
   "source": [
    "# Parametri ottimali di Q\n",
    "epsilon_min = 0.1\n",
    "epsilon_max = 0.8\n",
    "n_star = 20000\n",
    "epsilon_exploration_rule = return_lambda_explor(epsilon_min, epsilon_max, n_star)\n",
    "Q, stats = q_learning(env, epsilon_exploration_rule=epsilon_exploration_rule, num_episodes=20000, verbose=True, self_practice=True)"
   ]
  },
  {
   "cell_type": "code",
   "execution_count": null,
   "metadata": {},
   "outputs": [],
   "source": [
    "grids = [[1., 0., 0., -1., 1., 0., 0., -1., 0.], [-1., 0., 0., 1., -1., 0., 0., 1., 0.], [1., -1., 0., 0., 0., 0., 0., 0., 0.]]\n",
    "heatmaps_subplots(grids, Q, save=save_figs)"
   ]
  },
  {
   "cell_type": "markdown",
   "metadata": {
    "pycharm": {
     "name": "#%% md\n"
    }
   },
   "source": [
    "## Deep Q-Learning"
   ]
  },
  {
   "cell_type": "code",
   "execution_count": null,
   "metadata": {},
   "outputs": [],
   "source": []
  }
 ],
 "metadata": {
  "kernelspec": {
   "display_name": "CS456",
   "language": "python",
   "name": "cs456"
  },
  "language_info": {
   "codemirror_mode": {
    "name": "ipython",
    "version": 3
   },
   "file_extension": ".py",
   "mimetype": "text/x-python",
   "name": "python",
   "nbconvert_exporter": "python",
   "pygments_lexer": "ipython3",
   "version": "3.7.11"
  }
 },
 "nbformat": 4,
 "nbformat_minor": 4
}