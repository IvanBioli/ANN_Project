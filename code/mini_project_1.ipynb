{
 "cells": [
  {
   "cell_type": "code",
   "execution_count": 13,
   "metadata": {},
   "outputs": [
    {
     "name": "stdout",
     "output_type": "stream",
     "text": [
      "The autoreload extension is already loaded. To reload it, use:\n",
      "  %reload_ext autoreload\n"
     ]
    }
   ],
   "source": [
    "import time\n",
    "import pickle\n",
    "\n",
    "import numpy as np\n",
    "\n",
    "%load_ext autoreload\n",
    "%autoreload 2\n",
    "%reload_ext autoreload\n",
    "from utils import *\n",
    "from q_learning import *"
   ]
  },
  {
   "cell_type": "code",
   "execution_count": 14,
   "metadata": {
    "pycharm": {
     "name": "#%%\n"
    }
   },
   "outputs": [],
   "source": [
    "# Configurations\n",
    "save_stats = True\n",
    "save_figs = False\n",
    "load = False\n",
    "\n",
    "seed = 0"
   ]
  },
  {
   "cell_type": "markdown",
   "metadata": {},
   "source": [
    "## 2. Q-Learning"
   ]
  },
  {
   "cell_type": "code",
   "execution_count": 15,
   "metadata": {
    "pycharm": {
     "name": "#%%\n"
    }
   },
   "outputs": [],
   "source": [
    "env = TictactoeEnv()\n",
    "\n",
    "# Hyper-parameters\n",
    "alpha = 0.05    # Learning rate\n",
    "gamma = 0.99    # Discount factor\n",
    "epsilon_opt = 0.5   # Optimal player's epsilon\n",
    "num_episodes = 20000 # number of episodes\n",
    "num_avg = 2 # training runs\n",
    "test_freq = 250"
   ]
  },
  {
   "cell_type": "markdown",
   "metadata": {
    "pycharm": {
     "name": "#%% md\n"
    }
   },
   "source": [
    "### 2.1 Learning from experts"
   ]
  },
  {
   "cell_type": "code",
   "execution_count": 16,
   "metadata": {
    "pycharm": {
     "name": "#%%\n"
    }
   },
   "outputs": [],
   "source": [
    "var_name = 'epsilon'\n",
    "epsilon_vec = [0.1]\n",
    "q_learning_params_list = []\n",
    "for eps in epsilon_vec:\n",
    "    params = {'env': env,\n",
    "              'num_episodes': num_episodes,\n",
    "              'epsilon_exploration': eps,\n",
    "              'test_freq': test_freq,\n",
    "              'against_opt': True}\n",
    "    q_learning_params_list.append(params)"
   ]
  },
  {
   "cell_type": "code",
   "execution_count": null,
   "metadata": {
    "pycharm": {
     "name": "#%%\n"
    }
   },
   "outputs": [
    {
     "name": "stdout",
     "output_type": "stream",
     "text": [
      "************** RUN 1 OF 2 **************\n",
      "------------- Training with epsilon = 0.1 -------------\n"
     ]
    }
   ],
   "source": [
    "stats_dict_eps_list = train_avg(var_name, epsilon_vec, q_learning_params_list, num_avg=num_avg, save_stats=save_stats)"
   ]
  },
  {
   "cell_type": "code",
   "execution_count": null,
   "metadata": {
    "pycharm": {
     "name": "#%%\n"
    }
   },
   "outputs": [],
   "source": [
    "if load:\n",
    "    output_folder = os.path.join(os.getcwd(), 'results')\n",
    "    os.makedirs(output_folder, exist_ok=True)\n",
    "    fname = output_folder + '/stats_dict_eps_list.pkl'\n",
    "    with open(fname, 'rb') as handle:\n",
    "        stats_dict_eps_list = pickle.load(handle)\n",
    "\n",
    "plot_stats(stats_dict_eps_list, epsilon_vec, \"epsilon\", \"\\epsilon\", save=save_figs, std=True)"
   ]
  },
  {
   "cell_type": "markdown",
   "metadata": {},
   "source": [
    "#### Question 1: Average reward with $\\epsilon = 0.1$"
   ]
  },
  {
   "cell_type": "code",
   "execution_count": null,
   "metadata": {
    "pycharm": {
     "name": "#%%\n"
    }
   },
   "outputs": [],
   "source": [
    "epsilon_exploration = 0.1\n",
    "rewards_list = []\n",
    "for i in range(num_avg):\n",
    "    Q, stats = q_learning(env, epsilon_exploration=epsilon_exploration, num_episodes=num_episodes, verbose=False, against_opt=True)\n",
    "    rewards_list.append(stats['rewards'])"
   ]
  },
  {
   "cell_type": "code",
   "execution_count": null,
   "metadata": {
    "pycharm": {
     "name": "#%%\n"
    }
   },
   "outputs": [],
   "source": [
    "# Plotting the average reward for every 250 games during training\n",
    "running_rewards_list = []\n",
    "for reward in rewards_list:\n",
    "    running_average_rewards, x = running_average(reward)\n",
    "    running_rewards_list.append(running_average_rewards)\n",
    "\n",
    "running_average_rewards = np.mean(running_rewards_list, axis=0)\n",
    "stds = np.std(running_rewards_list, axis=0)\n",
    "fig = plt.figure()\n",
    "plt.plot(x, running_average_rewards)\n",
    "plt.fill_between(x, running_average_rewards - stds, running_average_rewards + stds, alpha=0.2)\n",
    "plt.ylim([-1,1])\n",
    "plt.xlabel('Episode')\n",
    "plt.ylabel('Reward')\n",
    "plt.title('Average reward during training')\n",
    "plt.show()\n",
    "if save_figs:\n",
    "        output_folder = os.path.join(os.getcwd(), 'figures')\n",
    "        os.makedirs(output_folder, exist_ok=True)\n",
    "        fig.savefig(output_folder + '/rewards_Q1.png')\n",
    "        fig.savefig(output_folder + '/rewards_Q1.eps', format = 'eps')\n",
    "\n",
    "# Comparing the performance with the optimal player and the random player\n",
    "turns = np.array(['X','O'])\n",
    "player_opt = OptimalPlayer(epsilon=0.)\n",
    "player_rand = OptimalPlayer(epsilon=1.)\n",
    "teacher = OptimalPlayer(epsilon=0.5)\n",
    "\n",
    "names = ['Trained', 'Optimal', 'Random']\n",
    "players = [QPlayer(Q=Q), OptimalPlayer(epsilon=0.), OptimalPlayer(epsilon=1.)]\n",
    "\n",
    "for (name, player) in zip(names, players):\n",
    "    print(\"\\n-----\", name, \" player-----\")\n",
    "    start = time.time()\n",
    "    m_opt = measure_performance(player, player_opt)\n",
    "    print(time.time() - start)\n",
    "    print(\"M_opt = \", m_opt)\n",
    "    m_rand = measure_performance(player, player_rand)\n",
    "    print(\"M_rand = \", m_rand)\n",
    "    m_teacher = measure_performance(player, teacher)\n",
    "    print(\"M_teacher = \", m_teacher)"
   ]
  },
  {
   "cell_type": "markdown",
   "metadata": {
    "pycharm": {
     "name": "#%% md\n"
    }
   },
   "source": [
    "#### Questions 2 and 3: Decreasing exploration for different values of $n^{*}$"
   ]
  },
  {
   "cell_type": "code",
   "execution_count": 8,
   "metadata": {},
   "outputs": [],
   "source": [
    "test_freq = 250\n",
    "epsilon_min = 0.1\n",
    "epsilon_max = 0.8\n",
    "vec_n_star = np.hstack((np.array([1, 100, 500, 750]), np.round(np.logspace(3, np.log10(40000), 16))))"
   ]
  },
  {
   "cell_type": "code",
   "execution_count": 9,
   "metadata": {
    "pycharm": {
     "name": "#%%\n"
    }
   },
   "outputs": [],
   "source": [
    "vec_n_star_first = vec_n_star[:10]\n",
    "var_name = 'nstar_first'\n",
    "q_learning_params_list = []\n",
    "for n_star in vec_n_star_first:\n",
    "    def epsilon_exploration_rule(n):\n",
    "        return np.max([epsilon_min, epsilon_max * (1 - n/n_star)])\n",
    "    params = {'env': env,\n",
    "              'num_episodes': num_episodes,\n",
    "              'epsilon_exploration_rule': epsilon_exploration_rule,\n",
    "              'test_freq': test_freq,\n",
    "              'against_opt': True}\n",
    "    q_learning_params_list.append(params)\n",
    "save_stats = True\n",
    "load = False"
   ]
  },
  {
   "cell_type": "code",
   "execution_count": null,
   "metadata": {},
   "outputs": [],
   "source": [
    "stats_dict_nstar_first_list = train_avg(var_name, vec_n_star_first, q_learning_params_list, num_avg=num_avg, save_stats=save_stats)"
   ]
  },
  {
   "cell_type": "code",
   "execution_count": 12,
   "metadata": {},
   "outputs": [
    {
     "name": "stdout",
     "output_type": "stream",
     "text": [
      "[1.0000e+00 4.3730e+03 5.5930e+03 7.1520e+03 9.1460e+03 1.1696e+04\n",
      " 1.4957e+04 1.9127e+04 2.4460e+04 3.1279e+04 4.0000e+04]\n"
     ]
    }
   ],
   "source": [
    "var_name = 'nstar_second'\n",
    "vec_n_star_second = np.hstack([[1], vec_n_star[10:]])\n",
    "q_learning_params_list = []\n",
    "for n_star in vec_n_star_second:\n",
    "    def epsilon_exploration_rule(n):\n",
    "        return np.max([epsilon_min, epsilon_max * (1 - n/n_star)])\n",
    "    params = {'env': env,\n",
    "              'num_episodes': num_episodes,\n",
    "              'epsilon_exploration_rule': epsilon_exploration_rule,\n",
    "              'test_freq': test_freq,\n",
    "              'against_opt': True}\n",
    "    q_learning_params_list.append(params)\n",
    "save_stats = True\n",
    "load = False"
   ]
  },
  {
   "cell_type": "code",
   "execution_count": 11,
   "metadata": {},
   "outputs": [
    {
     "name": "stdout",
     "output_type": "stream",
     "text": [
      "************** RUN 1 OF 2 **************\n",
      "------------- Training with nstar_second = 4373.0 -------------\n"
     ]
    },
    {
     "ename": "KeyboardInterrupt",
     "evalue": "",
     "output_type": "error",
     "traceback": [
      "\u001b[1;31m---------------------------------------------------------------------------\u001b[0m",
      "\u001b[1;31mKeyboardInterrupt\u001b[0m                         Traceback (most recent call last)",
      "\u001b[1;32m~\\AppData\\Local\\Temp\\ipykernel_12940\\3214487493.py\u001b[0m in \u001b[0;36m<module>\u001b[1;34m\u001b[0m\n\u001b[1;32m----> 1\u001b[1;33m \u001b[0mstats_dict_nstar_first_list\u001b[0m \u001b[1;33m=\u001b[0m \u001b[0mtrain_avg\u001b[0m\u001b[1;33m(\u001b[0m\u001b[0mvar_name\u001b[0m\u001b[1;33m,\u001b[0m \u001b[0mvec_n_star_second\u001b[0m\u001b[1;33m,\u001b[0m \u001b[0mq_learning_params_list\u001b[0m\u001b[1;33m,\u001b[0m \u001b[0mnum_avg\u001b[0m\u001b[1;33m=\u001b[0m\u001b[0mnum_avg\u001b[0m\u001b[1;33m,\u001b[0m \u001b[0msave_stats\u001b[0m\u001b[1;33m=\u001b[0m\u001b[0msave_stats\u001b[0m\u001b[1;33m)\u001b[0m\u001b[1;33m\u001b[0m\u001b[1;33m\u001b[0m\u001b[0m\n\u001b[0m",
      "\u001b[1;32m~\\Documents\\Artificial Neural Networks\\ANN_Project\\code\\q_learning.py\u001b[0m in \u001b[0;36mtrain_avg\u001b[1;34m(var_name, var_values, q_learning_params_list, num_avg, save_stats)\u001b[0m\n\u001b[0;32m    213\u001b[0m             \u001b[0mstart\u001b[0m \u001b[1;33m=\u001b[0m \u001b[0mtime\u001b[0m\u001b[1;33m.\u001b[0m\u001b[0mtime\u001b[0m\u001b[1;33m(\u001b[0m\u001b[1;33m)\u001b[0m\u001b[1;33m\u001b[0m\u001b[1;33m\u001b[0m\u001b[0m\n\u001b[0;32m    214\u001b[0m             \u001b[0mq_learning_params\u001b[0m \u001b[1;33m=\u001b[0m \u001b[0mq_learning_params_list\u001b[0m\u001b[1;33m[\u001b[0m\u001b[0midx\u001b[0m\u001b[1;33m]\u001b[0m\u001b[1;33m\u001b[0m\u001b[1;33m\u001b[0m\u001b[0m\n\u001b[1;32m--> 215\u001b[1;33m             \u001b[0mQ\u001b[0m\u001b[1;33m,\u001b[0m \u001b[0mstats\u001b[0m \u001b[1;33m=\u001b[0m \u001b[0mq_learning\u001b[0m\u001b[1;33m(\u001b[0m\u001b[1;33m**\u001b[0m\u001b[0mq_learning_params\u001b[0m\u001b[1;33m)\u001b[0m\u001b[1;33m\u001b[0m\u001b[1;33m\u001b[0m\u001b[0m\n\u001b[0m\u001b[0;32m    216\u001b[0m             \u001b[0mM_opt\u001b[0m \u001b[1;33m=\u001b[0m \u001b[0mmeasure_performance\u001b[0m\u001b[1;33m(\u001b[0m\u001b[0mQPlayer\u001b[0m\u001b[1;33m(\u001b[0m\u001b[0mQ\u001b[0m\u001b[1;33m=\u001b[0m\u001b[0mQ\u001b[0m\u001b[1;33m)\u001b[0m\u001b[1;33m,\u001b[0m \u001b[0mOptimalPlayer\u001b[0m\u001b[1;33m(\u001b[0m\u001b[0mepsilon\u001b[0m\u001b[1;33m=\u001b[0m\u001b[1;36m0.\u001b[0m\u001b[1;33m)\u001b[0m\u001b[1;33m)\u001b[0m\u001b[1;33m\u001b[0m\u001b[1;33m\u001b[0m\u001b[0m\n\u001b[0;32m    217\u001b[0m             \u001b[0mM_rand\u001b[0m \u001b[1;33m=\u001b[0m \u001b[0mmeasure_performance\u001b[0m\u001b[1;33m(\u001b[0m\u001b[0mQPlayer\u001b[0m\u001b[1;33m(\u001b[0m\u001b[0mQ\u001b[0m\u001b[1;33m=\u001b[0m\u001b[0mQ\u001b[0m\u001b[1;33m)\u001b[0m\u001b[1;33m,\u001b[0m \u001b[0mOptimalPlayer\u001b[0m\u001b[1;33m(\u001b[0m\u001b[0mepsilon\u001b[0m\u001b[1;33m=\u001b[0m\u001b[1;36m1.\u001b[0m\u001b[1;33m)\u001b[0m\u001b[1;33m)\u001b[0m\u001b[1;33m\u001b[0m\u001b[1;33m\u001b[0m\u001b[0m\n",
      "\u001b[1;32m~\\Documents\\Artificial Neural Networks\\ANN_Project\\code\\q_learning.py\u001b[0m in \u001b[0;36mq_learning\u001b[1;34m(env, alpha, gamma, num_episodes, epsilon_exploration, epsilon_exploration_rule, epsilon_opt, test_freq, verbose, against_opt, self_practice)\u001b[0m\n\u001b[0;32m    195\u001b[0m     \u001b[1;32mif\u001b[0m \u001b[0magainst_opt\u001b[0m\u001b[1;33m:\u001b[0m\u001b[1;33m\u001b[0m\u001b[1;33m\u001b[0m\u001b[0m\n\u001b[0;32m    196\u001b[0m         return q_learning_against_opt(env, alpha, gamma, num_episodes, epsilon_exploration,\n\u001b[1;32m--> 197\u001b[1;33m                                       epsilon_exploration_rule,  epsilon_opt, test_freq, verbose)\n\u001b[0m\u001b[0;32m    198\u001b[0m     \u001b[1;32melse\u001b[0m\u001b[1;33m:\u001b[0m\u001b[1;33m\u001b[0m\u001b[1;33m\u001b[0m\u001b[0m\n\u001b[0;32m    199\u001b[0m         return q_learning_self_practice(env, alpha, gamma, num_episodes, epsilon_exploration,\n",
      "\u001b[1;32m~\\Documents\\Artificial Neural Networks\\ANN_Project\\code\\q_learning.py\u001b[0m in \u001b[0;36mq_learning_against_opt\u001b[1;34m(env, alpha, gamma, num_episodes, epsilon_exploration, epsilon_exploration_rule, epsilon_opt, test_freq, verbose)\u001b[0m\n\u001b[0;32m     78\u001b[0m         \u001b[1;31m# Testing the performance\u001b[0m\u001b[1;33m\u001b[0m\u001b[1;33m\u001b[0m\u001b[1;33m\u001b[0m\u001b[0m\n\u001b[0;32m     79\u001b[0m         \u001b[1;32mif\u001b[0m \u001b[1;33m(\u001b[0m\u001b[0mtest_freq\u001b[0m \u001b[1;32mis\u001b[0m \u001b[1;32mnot\u001b[0m \u001b[1;32mNone\u001b[0m\u001b[1;33m)\u001b[0m \u001b[1;32mand\u001b[0m \u001b[1;33m(\u001b[0m\u001b[1;33m(\u001b[0m\u001b[0mitr\u001b[0m\u001b[1;33m+\u001b[0m\u001b[1;36m1\u001b[0m\u001b[1;33m)\u001b[0m \u001b[1;33m%\u001b[0m \u001b[0mtest_freq\u001b[0m \u001b[1;33m==\u001b[0m \u001b[1;36m0\u001b[0m\u001b[1;33m)\u001b[0m\u001b[1;33m:\u001b[0m\u001b[1;33m\u001b[0m\u001b[1;33m\u001b[0m\u001b[0m\n\u001b[1;32m---> 80\u001b[1;33m             \u001b[0mM_opt\u001b[0m \u001b[1;33m=\u001b[0m \u001b[0mmeasure_performance\u001b[0m\u001b[1;33m(\u001b[0m\u001b[0mQPlayer\u001b[0m\u001b[1;33m(\u001b[0m\u001b[0mQ\u001b[0m\u001b[1;33m=\u001b[0m\u001b[0mQ\u001b[0m\u001b[1;33m)\u001b[0m\u001b[1;33m,\u001b[0m \u001b[0mOptimalPlayer\u001b[0m\u001b[1;33m(\u001b[0m\u001b[0mepsilon\u001b[0m\u001b[1;33m=\u001b[0m\u001b[1;36m0.\u001b[0m\u001b[1;33m)\u001b[0m\u001b[1;33m)\u001b[0m\u001b[1;33m\u001b[0m\u001b[1;33m\u001b[0m\u001b[0m\n\u001b[0m\u001b[0;32m     81\u001b[0m             \u001b[0mM_rand\u001b[0m \u001b[1;33m=\u001b[0m \u001b[0mmeasure_performance\u001b[0m\u001b[1;33m(\u001b[0m\u001b[0mQPlayer\u001b[0m\u001b[1;33m(\u001b[0m\u001b[0mQ\u001b[0m\u001b[1;33m=\u001b[0m\u001b[0mQ\u001b[0m\u001b[1;33m)\u001b[0m\u001b[1;33m,\u001b[0m \u001b[0mOptimalPlayer\u001b[0m\u001b[1;33m(\u001b[0m\u001b[0mepsilon\u001b[0m\u001b[1;33m=\u001b[0m\u001b[1;36m1.\u001b[0m\u001b[1;33m)\u001b[0m\u001b[1;33m)\u001b[0m\u001b[1;33m\u001b[0m\u001b[1;33m\u001b[0m\u001b[0m\n\u001b[0;32m     82\u001b[0m             \u001b[0mepisode_Mopt\u001b[0m\u001b[1;33m.\u001b[0m\u001b[0mappend\u001b[0m\u001b[1;33m(\u001b[0m\u001b[0mM_opt\u001b[0m\u001b[1;33m)\u001b[0m\u001b[1;33m\u001b[0m\u001b[1;33m\u001b[0m\u001b[0m\n",
      "\u001b[1;32m~\\Documents\\Artificial Neural Networks\\ANN_Project\\code\\utils.py\u001b[0m in \u001b[0;36mmeasure_performance\u001b[1;34m(player_1, player_2, num_episodes)\u001b[0m\n\u001b[0;32m     88\u001b[0m                 \u001b[0mmove\u001b[0m \u001b[1;33m=\u001b[0m \u001b[0mplayer_1\u001b[0m\u001b[1;33m.\u001b[0m\u001b[0mact\u001b[0m\u001b[1;33m(\u001b[0m\u001b[0mgrid\u001b[0m\u001b[1;33m)\u001b[0m  \u001b[1;31m# move of the first player\u001b[0m\u001b[1;33m\u001b[0m\u001b[1;33m\u001b[0m\u001b[0m\n\u001b[0;32m     89\u001b[0m             \u001b[1;32melse\u001b[0m\u001b[1;33m:\u001b[0m\u001b[1;33m\u001b[0m\u001b[1;33m\u001b[0m\u001b[0m\n\u001b[1;32m---> 90\u001b[1;33m                 \u001b[0mmove\u001b[0m \u001b[1;33m=\u001b[0m \u001b[0mplayer_2\u001b[0m\u001b[1;33m.\u001b[0m\u001b[0mact\u001b[0m\u001b[1;33m(\u001b[0m\u001b[0mgrid\u001b[0m\u001b[1;33m)\u001b[0m  \u001b[1;31m# move of the second player\u001b[0m\u001b[1;33m\u001b[0m\u001b[1;33m\u001b[0m\u001b[0m\n\u001b[0m\u001b[0;32m     91\u001b[0m             \u001b[0mgrid\u001b[0m\u001b[1;33m,\u001b[0m \u001b[0m_\u001b[0m\u001b[1;33m,\u001b[0m \u001b[0m_\u001b[0m \u001b[1;33m=\u001b[0m \u001b[0menv\u001b[0m\u001b[1;33m.\u001b[0m\u001b[0mstep\u001b[0m\u001b[1;33m(\u001b[0m\u001b[0mmove\u001b[0m\u001b[1;33m,\u001b[0m \u001b[0mprint_grid\u001b[0m\u001b[1;33m=\u001b[0m\u001b[1;32mFalse\u001b[0m\u001b[1;33m)\u001b[0m  \u001b[1;31m# updating the environment\u001b[0m\u001b[1;33m\u001b[0m\u001b[1;33m\u001b[0m\u001b[0m\n\u001b[0;32m     92\u001b[0m         \u001b[0mmeas\u001b[0m \u001b[1;33m+=\u001b[0m \u001b[0menv\u001b[0m\u001b[1;33m.\u001b[0m\u001b[0mreward\u001b[0m\u001b[1;33m(\u001b[0m\u001b[0mplayer\u001b[0m\u001b[1;33m=\u001b[0m\u001b[0mplayer_1\u001b[0m\u001b[1;33m.\u001b[0m\u001b[0mplayer\u001b[0m\u001b[1;33m)\u001b[0m  \u001b[1;31m# updating the reward of player_1\u001b[0m\u001b[1;33m\u001b[0m\u001b[1;33m\u001b[0m\u001b[0m\n",
      "\u001b[1;32m~\\Documents\\Artificial Neural Networks\\ANN_Project\\code\\tic_env.py\u001b[0m in \u001b[0;36mact\u001b[1;34m(self, grid, **kwargs)\u001b[0m\n\u001b[0;32m    363\u001b[0m             \u001b[1;32mreturn\u001b[0m \u001b[0mblock_win\u001b[0m\u001b[1;33m[\u001b[0m\u001b[0mrandom\u001b[0m\u001b[1;33m.\u001b[0m\u001b[0mrandint\u001b[0m\u001b[1;33m(\u001b[0m\u001b[1;36m0\u001b[0m\u001b[1;33m,\u001b[0m \u001b[0mlen\u001b[0m\u001b[1;33m(\u001b[0m\u001b[0mblock_win\u001b[0m\u001b[1;33m)\u001b[0m\u001b[1;33m-\u001b[0m\u001b[1;36m1\u001b[0m\u001b[1;33m)\u001b[0m\u001b[1;33m]\u001b[0m\u001b[1;33m\u001b[0m\u001b[1;33m\u001b[0m\u001b[0m\n\u001b[0;32m    364\u001b[0m         \u001b[1;31m# Fork\u001b[0m\u001b[1;33m\u001b[0m\u001b[1;33m\u001b[0m\u001b[1;33m\u001b[0m\u001b[0m\n\u001b[1;32m--> 365\u001b[1;33m         \u001b[0mfork\u001b[0m \u001b[1;33m=\u001b[0m \u001b[0mself\u001b[0m\u001b[1;33m.\u001b[0m\u001b[0mfork\u001b[0m\u001b[1;33m(\u001b[0m\u001b[0mgrid\u001b[0m\u001b[1;33m)\u001b[0m\u001b[1;33m\u001b[0m\u001b[1;33m\u001b[0m\u001b[0m\n\u001b[0m\u001b[0;32m    366\u001b[0m         \u001b[1;32mif\u001b[0m \u001b[0mfork\u001b[0m\u001b[1;33m:\u001b[0m\u001b[1;33m\u001b[0m\u001b[1;33m\u001b[0m\u001b[0m\n\u001b[0;32m    367\u001b[0m             \u001b[1;32mreturn\u001b[0m \u001b[0mfork\u001b[0m\u001b[1;33m[\u001b[0m\u001b[0mrandom\u001b[0m\u001b[1;33m.\u001b[0m\u001b[0mrandint\u001b[0m\u001b[1;33m(\u001b[0m\u001b[1;36m0\u001b[0m\u001b[1;33m,\u001b[0m \u001b[0mlen\u001b[0m\u001b[1;33m(\u001b[0m\u001b[0mfork\u001b[0m\u001b[1;33m)\u001b[0m\u001b[1;33m-\u001b[0m\u001b[1;36m1\u001b[0m\u001b[1;33m)\u001b[0m\u001b[1;33m]\u001b[0m\u001b[1;33m\u001b[0m\u001b[1;33m\u001b[0m\u001b[0m\n",
      "\u001b[1;32m~\\Documents\\Artificial Neural Networks\\ANN_Project\\code\\tic_env.py\u001b[0m in \u001b[0;36mfork\u001b[1;34m(self, grid, val)\u001b[0m\n\u001b[0;32m    272\u001b[0m             \u001b[0mgrid_\u001b[0m \u001b[1;33m=\u001b[0m \u001b[0mnp\u001b[0m\u001b[1;33m.\u001b[0m\u001b[0mcopy\u001b[0m\u001b[1;33m(\u001b[0m\u001b[0mgrid\u001b[0m\u001b[1;33m)\u001b[0m\u001b[1;33m\u001b[0m\u001b[1;33m\u001b[0m\u001b[0m\n\u001b[0;32m    273\u001b[0m             \u001b[0mgrid_\u001b[0m\u001b[1;33m[\u001b[0m\u001b[0mpos\u001b[0m\u001b[1;33m]\u001b[0m \u001b[1;33m=\u001b[0m \u001b[0mval\u001b[0m\u001b[1;33m\u001b[0m\u001b[1;33m\u001b[0m\u001b[0m\n\u001b[1;32m--> 274\u001b[1;33m             \u001b[1;32mif\u001b[0m \u001b[0mself\u001b[0m\u001b[1;33m.\u001b[0m\u001b[0mcheckFork\u001b[0m\u001b[1;33m(\u001b[0m\u001b[0mgrid_\u001b[0m\u001b[1;33m,\u001b[0m \u001b[0mval\u001b[0m\u001b[1;33m)\u001b[0m\u001b[1;33m:\u001b[0m\u001b[1;33m\u001b[0m\u001b[1;33m\u001b[0m\u001b[0m\n\u001b[0m\u001b[0;32m    275\u001b[0m                 \u001b[0mtofork\u001b[0m\u001b[1;33m.\u001b[0m\u001b[0mappend\u001b[0m\u001b[1;33m(\u001b[0m\u001b[0mpos\u001b[0m\u001b[1;33m)\u001b[0m\u001b[1;33m\u001b[0m\u001b[1;33m\u001b[0m\u001b[0m\n\u001b[0;32m    276\u001b[0m \u001b[1;33m\u001b[0m\u001b[0m\n",
      "\u001b[1;32m~\\Documents\\Artificial Neural Networks\\ANN_Project\\code\\tic_env.py\u001b[0m in \u001b[0;36mcheckFork\u001b[1;34m(self, grid, val)\u001b[0m\n\u001b[0;32m    328\u001b[0m         \u001b[0mrows\u001b[0m \u001b[1;33m=\u001b[0m \u001b[1;33m(\u001b[0m\u001b[0mnp\u001b[0m\u001b[1;33m.\u001b[0m\u001b[0msum\u001b[0m\u001b[1;33m(\u001b[0m\u001b[0mgrid\u001b[0m\u001b[1;33m,\u001b[0m \u001b[0maxis\u001b[0m\u001b[1;33m=\u001b[0m\u001b[1;36m0\u001b[0m\u001b[1;33m)\u001b[0m \u001b[1;33m==\u001b[0m \u001b[0mtarget\u001b[0m\u001b[1;33m)\u001b[0m\u001b[1;33m.\u001b[0m\u001b[0msum\u001b[0m\u001b[1;33m(\u001b[0m\u001b[1;33m)\u001b[0m\u001b[1;33m\u001b[0m\u001b[1;33m\u001b[0m\u001b[0m\n\u001b[0;32m    329\u001b[0m         \u001b[0mcols\u001b[0m \u001b[1;33m=\u001b[0m \u001b[1;33m(\u001b[0m\u001b[0mnp\u001b[0m\u001b[1;33m.\u001b[0m\u001b[0msum\u001b[0m\u001b[1;33m(\u001b[0m\u001b[0mgrid\u001b[0m\u001b[1;33m,\u001b[0m \u001b[0maxis\u001b[0m\u001b[1;33m=\u001b[0m\u001b[1;36m1\u001b[0m\u001b[1;33m)\u001b[0m \u001b[1;33m==\u001b[0m \u001b[0mtarget\u001b[0m\u001b[1;33m)\u001b[0m\u001b[1;33m.\u001b[0m\u001b[0msum\u001b[0m\u001b[1;33m(\u001b[0m\u001b[1;33m)\u001b[0m\u001b[1;33m\u001b[0m\u001b[1;33m\u001b[0m\u001b[0m\n\u001b[1;32m--> 330\u001b[1;33m         \u001b[0mdiags\u001b[0m \u001b[1;33m=\u001b[0m \u001b[1;33m(\u001b[0m\u001b[0mgrid\u001b[0m\u001b[1;33m[\u001b[0m\u001b[1;33m[\u001b[0m\u001b[1;36m0\u001b[0m\u001b[1;33m,\u001b[0m \u001b[1;36m1\u001b[0m\u001b[1;33m,\u001b[0m \u001b[1;36m2\u001b[0m\u001b[1;33m]\u001b[0m\u001b[1;33m,\u001b[0m \u001b[1;33m[\u001b[0m\u001b[1;36m0\u001b[0m\u001b[1;33m,\u001b[0m \u001b[1;36m1\u001b[0m\u001b[1;33m,\u001b[0m \u001b[1;36m2\u001b[0m\u001b[1;33m]\u001b[0m\u001b[1;33m]\u001b[0m\u001b[1;33m.\u001b[0m\u001b[0msum\u001b[0m\u001b[1;33m(\u001b[0m\u001b[1;33m)\u001b[0m \u001b[1;33m==\u001b[0m \u001b[0mtarget\u001b[0m\u001b[1;33m)\u001b[0m \u001b[1;33m+\u001b[0m \u001b[1;33m(\u001b[0m\u001b[0mgrid\u001b[0m\u001b[1;33m[\u001b[0m\u001b[1;33m[\u001b[0m\u001b[1;36m0\u001b[0m\u001b[1;33m,\u001b[0m \u001b[1;36m1\u001b[0m\u001b[1;33m,\u001b[0m \u001b[1;36m2\u001b[0m\u001b[1;33m]\u001b[0m\u001b[1;33m,\u001b[0m \u001b[1;33m[\u001b[0m\u001b[1;36m2\u001b[0m\u001b[1;33m,\u001b[0m \u001b[1;36m1\u001b[0m\u001b[1;33m,\u001b[0m \u001b[1;36m0\u001b[0m\u001b[1;33m]\u001b[0m\u001b[1;33m]\u001b[0m\u001b[1;33m.\u001b[0m\u001b[0msum\u001b[0m\u001b[1;33m(\u001b[0m\u001b[1;33m)\u001b[0m \u001b[1;33m==\u001b[0m \u001b[0mtarget\u001b[0m\u001b[1;33m)\u001b[0m\u001b[1;33m\u001b[0m\u001b[1;33m\u001b[0m\u001b[0m\n\u001b[0m\u001b[0;32m    331\u001b[0m         \u001b[1;32mif\u001b[0m \u001b[1;33m(\u001b[0m\u001b[0mrows\u001b[0m \u001b[1;33m+\u001b[0m \u001b[0mcols\u001b[0m \u001b[1;33m+\u001b[0m \u001b[0mdiags\u001b[0m\u001b[1;33m)\u001b[0m \u001b[1;33m>=\u001b[0m \u001b[1;36m2\u001b[0m\u001b[1;33m:\u001b[0m\u001b[1;33m\u001b[0m\u001b[1;33m\u001b[0m\u001b[0m\n\u001b[0;32m    332\u001b[0m             \u001b[1;32mreturn\u001b[0m \u001b[1;32mTrue\u001b[0m\u001b[1;33m\u001b[0m\u001b[1;33m\u001b[0m\u001b[0m\n",
      "\u001b[1;31mKeyboardInterrupt\u001b[0m: "
     ]
    }
   ],
   "source": [
    "stats_dict_nstar_second_list = train_avg(var_name, vec_n_star_second, q_learning_params_list, num_avg=num_avg, save_stats=save_stats)"
   ]
  },
  {
   "cell_type": "code",
   "execution_count": null,
   "metadata": {
    "pycharm": {
     "name": "#%%\n"
    }
   },
   "outputs": [],
   "source": [
    "## if not load:\n",
    "##    stats_dict_nstar_list = []\n",
    "##    for i in range(num_avg):\n",
    "##        print('************** RUN', i+1, 'OF', num_avg, '**************')\n",
    "##        stats_dict_nstar = {}\n",
    "##        for n_star in vec_n_star:\n",
    "##            print(\"------------- Training with n_star =\", n_star, \"-------------\")\n",
    "##            def epsilon_exploration_rule(n):\n",
    "##                return np.max([epsilon_min, epsilon_max * (1 - n/n_star)])\n",
    "##            start = time.time()\n",
    "##            Q, stats = q_learning(env, epsilon_exploration_rule=epsilon_exploration_rule, test_freq=test_freq, against_opt=True)\n",
    "##            M_opt = measure_performance(QPlayer(Q=Q), OptimalPlayer(epsilon=0.), num_episodes=2000)\n",
    "##            M_rand = measure_performance(QPlayer(Q=Q), OptimalPlayer(epsilon=1.), num_episodes=2000)\n",
    "##            print(\"M_opt =\", M_opt)\n",
    "##            print(\"M_rand =\", M_rand)\n",
    "##           stats_dict_nstar.update({n_star: (stats, M_opt, M_rand)})\n",
    "##            elapsed = time.time() - start\n",
    "##            print(\"Training with n_star =\", n_star, \" took:\", time.strftime(\"%Hh%Mm%Ss\", time.gmtime(elapsed)), \"\\n\\n\")\n",
    "##        stats_dict_nstar_list.append(stats_dict_nstar)\n",
    "\n",
    "##    if save_stats:\n",
    "##        output_folder = os.path.join(os.getcwd(), 'results')\n",
    "##        os.makedirs(output_folder, exist_ok=True)\n",
    "##        fname = output_folder + '/stats_dict_nstar_list.pkl'\n",
    "##        with open(fname, 'wb') as handle:\n",
    "##            pickle.dump(stats_dict_nstar_list, handle, protocol=pickle.HIGHEST_PROTOCOL)"
   ]
  },
  {
   "cell_type": "code",
   "execution_count": null,
   "metadata": {
    "pycharm": {
     "name": "#%%\n"
    }
   },
   "outputs": [],
   "source": [
    "load = True\n",
    "if load:\n",
    "    output_folder = os.path.join(os.getcwd(), 'results')\n",
    "    os.makedirs(output_folder, exist_ok=True)\n",
    "    fname = output_folder + '/stats_dict_nstar_list.pkl'\n",
    "    with open(fname, 'rb') as handle:\n",
    "        stats_dict_nstar_list = pickle.load(handle)\n",
    "\n",
    "plot_n_star = [1., 24460., 40000]\n",
    "plot_stats(stats_dict_nstar_first_list, plot_n_star, 'n_star_first', \"n^{\\star}\", save=True, decaying_exploration=True)\n",
    "\n",
    "plot_n_star = [1., 4373., 9146.]\n",
    "plot_stats(stats_dict_nstar_second_list, plot_n_star, 'n_star_second', \"n^{\\star}\", save=True, decaying_exploration=True)\n",
    "# plot_stats(stats_dict_nstar, vec_n_star, 'n_star', \"n^{\\star}\", save=False)"
   ]
  },
  {
   "cell_type": "markdown",
   "metadata": {
    "pycharm": {
     "name": "#%% md\n"
    }
   },
   "source": [
    "#### Questions 4 and 5: Good experts and bad experts"
   ]
  },
  {
   "cell_type": "code",
   "execution_count": null,
   "metadata": {
    "pycharm": {
     "name": "#%%\n"
    }
   },
   "outputs": [],
   "source": [
    "n_star = 4000 # we pick the best according to previous experiments\n",
    "M = 11\n",
    "var_name = 'epsilon_opt'\n",
    "vec_epsilon_opt = np.linspace(0, 1, M)\n",
    "q_learning_params_list = []\n",
    "for epsilon_opt in vec_epsilon_opt:\n",
    "    def epsilon_exploration_rule(n):\n",
    "        return np.max([epsilon_min, epsilon_max * (1 - n/n_star)])\n",
    "    params = {'env': env,\n",
    "              'num_episodes': num_episodes,\n",
    "              'epsilon_exploration_rule': epsilon_exploration_rule,\n",
    "              'test_freq': 250,\n",
    "              'epsilon_opt': epsilon_opt,\n",
    "              'against_opt': True}\n",
    "    q_learning_params_list.append(params)"
   ]
  },
  {
   "cell_type": "code",
   "execution_count": null,
   "metadata": {},
   "outputs": [],
   "source": [
    "stats_dict_eps_opt_list = train_avg(var_name, vec_epsilon_opt, q_learning_param_list, num_avg=num_avg, save_stats=save_stats)"
   ]
  },
  {
   "cell_type": "code",
   "execution_count": null,
   "metadata": {
    "pycharm": {
     "name": "#%%\n"
    }
   },
   "outputs": [],
   "source": [
    "## if not load:\n",
    "##    stats_dict_nstar_list = []\n",
    "##    for i in range(num_avg):\n",
    "##        print('************** RUN', i+1, 'OF', num_avg, '**************')\n",
    "##        stats_dict_nstar = {}\n",
    "##        for n_star in vec_n_star:\n",
    "##            print(\"------------- Training with n_star =\", n_star, \"-------------\")\n",
    "##            def epsilon_exploration_rule(n):\n",
    "##                return np.max([epsilon_min, epsilon_max * (1 - n/n_star)])\n",
    "##            start = time.time()\n",
    "##            Q, stats = q_learning(env, epsilon_exploration_rule=epsilon_exploration_rule, test_freq=test_freq, against_opt=True)\n",
    "##            M_opt = measure_performance(QPlayer(Q=Q), OptimalPlayer(epsilon=0.), num_episodes=2000)\n",
    "##            M_rand = measure_performance(QPlayer(Q=Q), OptimalPlayer(epsilon=1.), num_episodes=2000)\n",
    "##            print(\"M_opt =\", M_opt)\n",
    "##            print(\"M_rand =\", M_rand)\n",
    "##            stats_dict_nstar.update({n_star: (stats, M_opt, M_rand)})\n",
    "##            elapsed = time.time() - start\n",
    "##            print(\"Training with n_star =\", n_star, \" took:\", time.strftime(\"%Hh%Mm%Ss\", time.gmtime(elapsed)), \"\\n\\n\")\n",
    "##        stats_dict_nstar_list.append(stats_dict_nstar)\n",
    "\n",
    "##    if save_stats:\n",
    "##        output_folder = os.path.join(os.getcwd(), 'results')\n",
    "##        os.makedirs(output_folder, exist_ok=True)\n",
    "##        fname = output_folder + '/stats_dict_nstar_list.pkl'\n",
    "##        with open(fname, 'wb') as handle:\n",
    "##            pickle.dump(stats_dict_nstar_list, handle, protocol=pickle.HIGHEST_PROTOCOL)"
   ]
  },
  {
   "cell_type": "code",
   "execution_count": null,
   "metadata": {
    "pycharm": {
     "name": "#%%\n"
    }
   },
   "outputs": [],
   "source": [
    "## if not load:\n",
    "##    stats_dict_epsilon_opt = {}\n",
    "##    for epsilon_opt in vec_epsilon_opt:\n",
    "##        print(\"------------- Training with epsilon_opt =\", epsilon_opt, \"-------------\")\n",
    "##        start = time.time()\n",
    "##        Q, stats = q_learning(env, epsilon_opt=epsilon_opt, test_freq=test_freq, against_opt=True)\n",
    "##        M_opt = measure_performance(QPlayer(Q=Q), OptimalPlayer(epsilon=0.), num_episodes=2000)\n",
    "##        M_rand = measure_performance(QPlayer(Q=Q), OptimalPlayer(epsilon=1.), num_episodes=2000)\n",
    "##        print(\"M_opt =\", M_opt)\n",
    "##        print(\"M_rand =\", M_rand)\n",
    "##        stats_dict_epsilon_opt.update({epsilon_opt: (stats, M_opt, M_rand)})\n",
    "##        elapsed = time.time() - start\n",
    "##        print(\"Training with epsilon_opt =\", epsilon_opt, \" took:\", time.strftime(\"%Hh%Mm%Ss\", time.gmtime(elapsed)))\n",
    "\n",
    "##    if save_stats:\n",
    "##        output_folder = os.path.join(os.getcwd(), 'results')\n",
    "##        os.makedirs(output_folder, exist_ok=True)\n",
    "##        fname = output_folder + '/stats_dict_epsilon_opt.pkl'\n",
    "##        with open(fname, 'wb') as handle:\n",
    "##            pickle.dump(stats_dict_epsilon_opt, handle, protocol=pickle.HIGHEST_PROTOCOL)"
   ]
  },
  {
   "cell_type": "code",
   "execution_count": null,
   "metadata": {
    "pycharm": {
     "name": "#%%\n"
    }
   },
   "outputs": [],
   "source": [
    "if load:\n",
    "    output_folder = os.path.join(os.getcwd(), 'results')\n",
    "    os.makedirs(output_folder, exist_ok=True)\n",
    "    fname = output_folder + '/stats_dict_epsilon_opt.pkl'\n",
    "    with open(fname, 'rb') as handle:\n",
    "        stats_dict_eps_opt_list = pickle.load(handle)\n",
    "\n",
    "plot_epsilon_opt = [0., 0.5, 1.]\n",
    "plot_stats(stats_dict_eps_opt_list, plot_epsilon_opt, \"epsilon_opt\", \"\\epsilon_{opt}\", save=True)\n",
    "# plot_stats(stats_dict_epsilon_opt, vec_epsilon_opt, \"epsilon_opt\", \"\\epsilon_{opt}\", save=False)"
   ]
  },
  {
   "cell_type": "markdown",
   "metadata": {
    "pycharm": {
     "name": "#%% md\n"
    }
   },
   "source": [
    "### 2.2 Learning by self-practice"
   ]
  },
  {
   "cell_type": "markdown",
   "metadata": {},
   "source": [
    "#### Question 7: Self-learning with constant rate of exploration $\\epsilon$"
   ]
  },
  {
   "cell_type": "code",
   "execution_count": null,
   "metadata": {
    "pycharm": {
     "name": "#%%\n"
    }
   },
   "outputs": [],
   "source": [
    "epsilon_vec = np.array([0, 0.0001, 0.0005, 0.001, 0.005, 0.01, 0.05, 0.1, 0.5, 1])\n",
    "var_name = 'eps_self'\n",
    "q_learning_params_list = []\n",
    "for eps in epsilon_vec:\n",
    "     params = {'env': env,\n",
    "              'num_episodes': num_episodes,\n",
    "              'epsilon_exploration': eps,\n",
    "              'test_freq': test_freq,\n",
    "              'self_practice': True}\n",
    "    q_learning_params_list.append(params)\n",
    "# epsilon_vec = np.hstack((epsilon_vec_plot, np.setdiff1d(np.logspace(-4, -1, 10), epsilon_vec_plot)))"
   ]
  },
  {
   "cell_type": "code",
   "execution_count": null,
   "metadata": {},
   "outputs": [],
   "source": [
    "stats_dict_eps_self_list = train_avg(var_name, epsilon_vec, q_learning_params_list, num_avg=num_avg, save_stats=save_stats)"
   ]
  },
  {
   "cell_type": "code",
   "execution_count": null,
   "metadata": {
    "scrolled": false
   },
   "outputs": [],
   "source": [
    "## if not load:\n",
    "##    env = TictactoeEnv()\n",
    "##    stats_dict_eps_self = {}\n",
    "##    for epsilon in epsilon_vec:\n",
    "##        print(\"------------- Training with epsilon =\", epsilon, \"-------------\")\n",
    "##        Q, stats = q_learning(env, num_episodes=num_episodes,\n",
    "                            epsilon_exploration=epsilon, test_freq = 250, verbose=False, self_practice=True)\n",
    "##        M_opt = measure_performance(QPlayer(Q=Q), OptimalPlayer(epsilon=0.), num_episodes=2000)\n",
    "##        M_rand = measure_performance(QPlayer(Q=Q), OptimalPlayer(epsilon=1.), num_episodes=2000)\n",
    "##        print(\"M_opt =\", M_opt)\n",
    "##        print(\"M_rand =\", M_rand)\n",
    "##        stats_dict_eps_self.update({epsilon: (stats, M_opt, M_rand)})\n",
    "\n",
    "##    if save_stats:\n",
    "##        output_folder = os.path.join(os.getcwd(), 'results')\n",
    "##        os.makedirs(output_folder, exist_ok=True)\n",
    "##        fname = output_folder + '/stats_dict_eps_self.pkl'\n",
    "##        with open(fname, 'wb') as handle:\n",
    "##            pickle.dump(stats_dict_eps_self, handle, protocol=pickle.HIGHEST_PROTOCOL)"
   ]
  },
  {
   "cell_type": "code",
   "execution_count": null,
   "metadata": {
    "pycharm": {
     "is_executing": true,
     "name": "#%%\n"
    }
   },
   "outputs": [],
   "source": [
    "if load:\n",
    "    output_folder = os.path.join(os.getcwd(), 'results')\n",
    "    os.makedirs(output_folder, exist_ok=True)\n",
    "    fname = output_folder + '/stats_dict_eps_self.pkl'\n",
    "    with open(fname, 'rb') as handle:\n",
    "        stats_dict_eps_self_list = pickle.load(handle)\n",
    "\n",
    "epsilon_vec_plot = [0, 0.001, 0.01, 0.1] # are these okay?\n",
    "plot_stats(stats_dict_eps_self_list, epsilon_vec_plot, \"epsilon_self\", \"\\epsilon\", save=save_figs)\n",
    "# plot_stats(stats_dict_eps_self_list, epsilon_vec, \"epsilon_self\", \"\\epsilon\", save=False)"
   ]
  },
  {
   "cell_type": "markdown",
   "metadata": {},
   "source": [
    "#### Question 8: Decaying exploration rule for different values of $n^*$"
   ]
  },
  {
   "cell_type": "code",
   "execution_count": null,
   "metadata": {},
   "outputs": [],
   "source": [
    "epsilon_min = 0.1\n",
    "epsilon_max = 0.8\n",
    "vec_n_star = np.hstack((np.array([1, 100, 500, 750]), np.round(np.logspace(3, np.log10(40000), 16))))"
   ]
  },
  {
   "cell_type": "code",
   "execution_count": null,
   "metadata": {
    "pycharm": {
     "name": "#%%\n"
    }
   },
   "outputs": [],
   "source": [
    "var_name = 'nstar_first_self'\n",
    "vec_n_star_first = vec_n_star[:10]\n",
    "q_learning_params_list = []\n",
    "for n_star in vec_n_star_first:\n",
    "    def epsilon_exploration_rule(n):\n",
    "        return np.max([epsilon_min, epsilon_max * (1 - n/n_star)])\n",
    "    params = {'env': env,\n",
    "              'num_episodes': num_episodes,\n",
    "              'epsilon_exploration_rule': epsilon_exploration_rule,\n",
    "              'test_freq': test_freq,\n",
    "              'self_practice': True}\n",
    "    q_learning_params_list.append(params)\n",
    "save_stats = True\n",
    "load = False"
   ]
  },
  {
   "cell_type": "code",
   "execution_count": null,
   "metadata": {},
   "outputs": [],
   "source": [
    "stats_dict_nstar_self_first_list = train_avg(var_name, vec_n_star_first, q_learning_params_list, num_avg=num_avg, save_stats=save_stats)"
   ]
  },
  {
   "cell_type": "code",
   "execution_count": null,
   "metadata": {},
   "outputs": [],
   "source": [
    "var_name = 'nstar_second'\n",
    "vec_n_star_first = np.hstack([[1], vec_n_star[:10]])\n",
    "q_learning_params_list = []\n",
    "for n_star in vec_n_star_second:\n",
    "    def epsilon_exploration_rule(n):\n",
    "        return np.max([epsilon_min, epsilon_max * (1 - n/n_star)])\n",
    "    params = {'env': env,\n",
    "              'num_episodes': num_episodes,\n",
    "              'epsilon_exploration_rule': epsilon_exploration_rule,\n",
    "              'test_freq': test_freq,\n",
    "              'self_practice': True}\n",
    "    q_learning_params_list.append(params)\n",
    "save_stats = True\n",
    "load = False"
   ]
  },
  {
   "cell_type": "code",
   "execution_count": null,
   "metadata": {},
   "outputs": [],
   "source": [
    "stats_dict_nstar_self_second_list = train_avg(var_name, vec_n_star_second, q_learning_params_list, num_avg=num_avg, save_stats=save_stats)"
   ]
  },
  {
   "cell_type": "code",
   "execution_count": null,
   "metadata": {},
   "outputs": [],
   "source": [
    "## load = True\n",
    "## if not load:\n",
    "##    stats_dict_nstar_self = {}\n",
    "##    for n_star in vec_n_star:\n",
    "##        print(\"------------- Training with n_star =\", n_star, \"-------------\")\n",
    "##        def epsilon_exploration_rule(n):\n",
    "##            return np.max([epsilon_min, epsilon_max * (1 - n/n_star)])\n",
    "##        start = time.time()\n",
    "##        Q, stats = q_learning(env, epsilon_exploration_rule=epsilon_exploration_rule,\n",
    "##                                test_freq=test_freq,  num_episodes=num_episodes, verbose=False, self_practice=True)\n",
    "##        M_opt = measure_performance(QPlayer(Q=Q), OptimalPlayer(epsilon=0.), num_episodes=200)\n",
    "##        M_rand = measure_performance(QPlayer(Q=Q), OptimalPlayer(epsilon=1.), num_episodes=200)\n",
    "##        print(\"M_opt =\", M_opt)\n",
    "##        print(\"M_rand =\", M_rand)\n",
    "##        stats_dict_nstar_self.update({n_star: (stats, M_opt, M_rand)})\n",
    "##        elapsed = time.time() - start\n",
    "##        print(\"Training with n_star =\", n_star, \"took:\", time.strftime(\"%Hh%Mm%Ss\", time.gmtime(elapsed)), \"\\n\\n\")\n",
    "\n",
    "##    if save_stats:\n",
    "##        output_folder = os.path.join(os.getcwd(), 'results')\n",
    "##        os.makedirs(output_folder, exist_ok=True)\n",
    "##        fname = output_folder + '/stats_dict_nstar_self.pkl'\n",
    "##        with open(fname, 'wb') as handle:\n",
    "##            pickle.dump(stats_dict_nstar_self, handle, protocol=pickle.HIGHEST_PROTOCOL)"
   ]
  },
  {
   "cell_type": "code",
   "execution_count": null,
   "metadata": {
    "pycharm": {
     "name": "#%%\n"
    }
   },
   "outputs": [],
   "source": [
    "if load:\n",
    "    output_folder = os.path.join(os.getcwd(), 'results')\n",
    "    os.makedirs(output_folder, exist_ok=True)\n",
    "    fname = output_folder + '/stats_dict_nstar_self.pkl'\n",
    "    with open(fname, 'rb') as handle:\n",
    "        stats_dict_nstar_self_list = pickle.load(handle)\n",
    "\n",
    "plot_n_star = [1., 4373., 24460., 40000]\n",
    "plot_stats(stats_dict_nstar_self_first_list, plot_n_star, 'n_star_self_1', \"n^{\\star}\", save=save_figs)\n",
    "\n",
    "plot_n_star = [1., 4373., 9146.]\n",
    "plot_stats(stats_dict_nstar_self_second_list, plot_n_star, 'n_star_self_2', \"n^{\\star}\", save=save_figs)\n",
    "# plot_stats(stats_dict_nstar_self_list, vec_n_star, 'n_star', \"n^{\\star}\", save=False)"
   ]
  },
  {
   "cell_type": "markdown",
   "metadata": {},
   "source": [
    "#### Question 10: Heatmaps of the Q-values in 3 significant states"
   ]
  },
  {
   "cell_type": "code",
   "execution_count": null,
   "metadata": {
    "pycharm": {
     "name": "#%%\n"
    }
   },
   "outputs": [],
   "source": [
    "# Parametri ottimali di Q\n",
    "np.random.seed(seed)\n",
    "epsilon_min = 0.1\n",
    "epsilon_max = 0.8\n",
    "n_star = 4373\n",
    "def epsilon_exploration_rule(n):\n",
    "            return np.max([epsilon_min, epsilon_max * (1 - n/n_star)])\n",
    "Q, stats = q_learning(env, epsilon_exploration_rule=epsilon_exploration_rule, num_episodes=20000, verbose=True, self_practice=True)"
   ]
  },
  {
   "cell_type": "code",
   "execution_count": null,
   "metadata": {},
   "outputs": [],
   "source": [
    "grids = [[1., 0., 0., -1., 1., 0., 0., -1., 0.], [-1., 0., 0., 1., -1., 0., 0., 1., 0.], [1., -1., 0., 0., 0., 0., 0., 0., 0.]]\n",
    "heatmaps_subplots(grids, Q)"
   ]
  },
  {
   "cell_type": "markdown",
   "metadata": {
    "pycharm": {
     "name": "#%% md\n"
    }
   },
   "source": [
    "## Deep Q-Learning"
   ]
  },
  {
   "cell_type": "code",
   "execution_count": null,
   "metadata": {},
   "outputs": [],
   "source": []
  }
 ],
 "metadata": {
  "kernelspec": {
   "display_name": "CS456",
   "language": "python",
   "name": "cs456"
  },
  "language_info": {
   "codemirror_mode": {
    "name": "ipython",
    "version": 3
   },
   "file_extension": ".py",
   "mimetype": "text/x-python",
   "name": "python",
   "nbconvert_exporter": "python",
   "pygments_lexer": "ipython3",
   "version": "3.7.11"
  }
 },
 "nbformat": 4,
 "nbformat_minor": 4
}
