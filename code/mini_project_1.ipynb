{
 "cells": [
  {
   "cell_type": "code",
   "execution_count": 1,
   "metadata": {},
   "outputs": [],
   "source": [
    "import numpy as np\n",
    "from tic_env import TictactoeEnv, OptimalPlayer\n",
    "from collections import defaultdict\n",
    "import matplotlib.pyplot as plt\n",
    "import matplotlib.cm as cmap\n",
    "import seaborn as sns\n",
    "import scipy.stats as st\n",
    "import time\n",
    "import os\n",
    "import pickle"
   ]
  },
  {
   "cell_type": "code",
   "execution_count": 2,
   "metadata": {
    "pycharm": {
     "name": "#%%\n"
    }
   },
   "outputs": [],
   "source": [
    "# Configurations\n",
    "save_stats = False\n",
    "save_figs = True\n",
    "load = True"
   ]
  },
  {
   "cell_type": "markdown",
   "metadata": {},
   "source": [
    "## 0. Utils for Q-Learning"
   ]
  },
  {
   "cell_type": "code",
   "execution_count": 3,
   "metadata": {},
   "outputs": [],
   "source": [
    "def epsilon_greedy_action(grid, Q, epsilon):\n",
    "    \"\"\"\n",
    "    Performs a (1-epsilon)-greedy action starting from the given state and the given Q-values\n",
    "    @param grid: current state\n",
    "    @param Q: current Q-values\n",
    "    @param epsilon: exploration parameter\n",
    "    \"\"\"\n",
    "    # get the available positions\n",
    "    avail_indices, avail_mask = available(grid)\n",
    "\n",
    "    if np.random.uniform(0,1) < epsilon:\n",
    "         # with probability epsilon make a random move (exploration)\n",
    "        return avail_indices[np.random.randint(0, len(avail_indices))]\n",
    "    else:\n",
    "        # with probability 1-epsilon choose the action with highest immediate reward (exploitation)\n",
    "        q = Q[encode_state(grid)]\n",
    "        q[np.logical_not(avail_mask)] = np.nan # set all the Q(state, action) with action currently non available to nan \n",
    "        max_indices = np.argwhere(q == np.nanmax(q)) # best action(s) along the available ones\n",
    "        return int(max_indices[np.random.randint(0, len(max_indices))]) # ties are split randomly\n",
    "\n",
    "class QPlayer:\n",
    "    \"\"\"\n",
    "    Class for an agent which plays according to the current updates of the Q-values during the learning\n",
    "    \"\"\"\n",
    "    def __init__(self, Q, player='X'):\n",
    "        \"\"\"\n",
    "        __init__\n",
    "        @param self: self\n",
    "        @param Q: current Q-values\n",
    "        @param player: 'X' or 'O'\n",
    "        \"\"\"\n",
    "        self.Q = Q # initialize Q-values\n",
    "        self.player = player\n",
    "\n",
    "    def set_player(self, player='X', j=-1):\n",
    "        \"\"\"\n",
    "        Set player to be either 'X' or 'O'\n",
    "        @param self: self\n",
    "        @param player: 'X' or 'O' ('X' by default)\n",
    "        @param j: to change 'X' and 'O'\n",
    "        \"\"\"\n",
    "        self.player = player\n",
    "        if j != -1:\n",
    "            self.player = 'X' if j % 2 == 0 else 'O'\n",
    "\n",
    "    def act(self, grid, **kwargs):\n",
    "        \"\"\"\n",
    "        Performs a greedy move, i.e. a (1-epsilon)-greedy action with epsilon equal to zero\n",
    "        @param self: self\n",
    "        @param grid: current state\n",
    "        @param kwargs: keyword arguments\n",
    "        @return: the action chosen greedily\n",
    "        \"\"\"\n",
    "        return epsilon_greedy_action(grid, self.Q, 0)\n",
    "    \n",
    "def measure_performance(player_1, player_2, num_episodes = 500):\n",
    "    \"\"\"\n",
    "    Measures performance of player 1 against player 2\n",
    "    @param player_1: first player (usually a QPlayer member)\n",
    "    @param player_2: second player (usually a OptimalPlayer member)\n",
    "    @param num_episodes: number of episodes played\n",
    "    @return: percentage of wins of player_1 against player_2\n",
    "    \"\"\"\n",
    "    meas = 0\n",
    "    turns = np.array(['X','O'])\n",
    "    env = TictactoeEnv() # setting the environment\n",
    "    for itr in range(num_episodes):\n",
    "        env.reset() # reset at the beginning of each episode\n",
    "        grid, _, _ = env.observe()\n",
    "        # alternating the turns to start\n",
    "        player_1.set_player(turns[itr%2])\n",
    "        player_2.set_player(turns[(itr+1)%2])\n",
    "        while not env.end:\n",
    "            if env.current_player == player_1.player:\n",
    "                move = player_1.act(grid) # move of the first player\n",
    "            else:\n",
    "                move = player_2.act(grid) # move of the second player\n",
    "            grid, _, _ = env.step(move, print_grid=False) # updating the environment\n",
    "        meas += env.reward(player=player_1.player) # updating the reward of player_1\n",
    "    return meas/num_episodes\n",
    "\n",
    "def running_average(vec, windows_size = 250):\n",
    "    \"\"\"\n",
    "    Computes the running average of vec every windows_size elements\n",
    "    Example: if windows_size=250 then it computes the mean of vec from 1 to 250, from 251 to 500 and so on...\n",
    "    @param vec: numpy.ndarray\n",
    "    @param windows_size: windows_size\n",
    "    @return: mean of vec every windows_size elements\n",
    "    \"\"\"\n",
    "    idx = np.arange(0, len(vec), windows_size) # (i * windows_size for i = 1, ..., len(vec) / windows_size))\n",
    "    return [np.sum(vec[i:i+windows_size])/windows_size for i in idx], idx + windows_size\n",
    "\n",
    "def encode_state(state):\n",
    "    \"\"\"\n",
    "    Constructs bytes containing the raw data bytes in the array.\n",
    "    @param state: numpy.ndarray\n",
    "    @return: the bytes representation of the state\n",
    "    \"\"\"\n",
    "    return state.tobytes()\n",
    "\n",
    "def available(grid):\n",
    "    \"\"\"\n",
    "    Getter for the available positions given a grid\n",
    "    @param grid: current state\n",
    "    @return: available indices and available mask (numpy.ndarray True or False)\n",
    "    \"\"\"\n",
    "    avail_indices = []\n",
    "    avail_mask = [False] * 9\n",
    "    for i in range(9):\n",
    "        pos = (int(i/3), i % 3)\n",
    "        if grid[pos] == 0:\n",
    "            avail_indices.append(i) # add i to the available indices\n",
    "            avail_mask[i] = True # set the mask of the position i to True\n",
    "    return avail_indices, avail_mask"
   ]
  },
  {
   "cell_type": "code",
   "execution_count": 4,
   "metadata": {},
   "outputs": [],
   "source": [
    "def q_learning_against_opt(env, alpha = 0.5, gamma = 0.99, num_episodes = 20000, epsilon_exploration = 0.1,\n",
    "               epsilon_exploration_rule = None, epsilon_opt = 0.5, test_freq = None, verbose = False):\n",
    "    \"\"\"\n",
    "    TODO\n",
    "    \"\"\"\n",
    "    turns = np.array(['X','O'])\n",
    "    # Q-values map\n",
    "    # Dictionary that maps the np.ndarray.tobyte() representation of the grid to an array of action values\n",
    "    Q = defaultdict(lambda: np.zeros(9))    # All Q-values are initialized to 0\n",
    "    # Stats of training\n",
    "    episode_rewards = np.empty(num_episodes)\n",
    "    if test_freq is not None:\n",
    "        episode_Mopt = [measure_performance(QPlayer(Q=Q), OptimalPlayer(epsilon=0.))]\n",
    "        episode_Mrand = [measure_performance(QPlayer(Q=Q), OptimalPlayer(epsilon=1.))]\n",
    "    else:\n",
    "        episode_Mopt = []\n",
    "        episode_Mrand = []\n",
    "    if verbose and (test_freq is not None):\n",
    "                print('Episode  0 :\\tM_opt = ', episode_Mopt[0], '\\tM_rand = ', episode_Mrand[0])\n",
    "    # Rule for exploration\n",
    "    if epsilon_exploration_rule is None:\n",
    "        def epsilon_exploration_rule(n):\n",
    "            return epsilon_exploration\n",
    "\n",
    "    for itr in range(num_episodes):\n",
    "        my_player = turns[itr % 2]\n",
    "        player_opt = OptimalPlayer(epsilon=epsilon_opt, player=turns[(itr+1) % 2])\n",
    "        env.reset()\n",
    "        state, _, _ = env.observe()\n",
    "        # First step of the adversarial\n",
    "        if env.current_player == player_opt.player:\n",
    "            move = player_opt.act(state)\n",
    "            state, _, _ = env.step(move)\n",
    "        action = epsilon_greedy_action(state, Q, epsilon_exploration_rule(itr+1))\n",
    "        while not env.end:\n",
    "            next_state, _, _ = env.step(action)     # Move according to the policy\n",
    "            if not env.end:\n",
    "                move = player_opt.act(next_state)   # Adversarial move\n",
    "                next_state, _, _ = env.step(move)\n",
    "            # Sarsa update rule\n",
    "            reward = env.reward(player=my_player)\n",
    "            if not env.end:\n",
    "                next_action = epsilon_greedy_action(next_state, Q, epsilon_exploration_rule(itr+1))\n",
    "                target = reward + gamma * Q[encode_state(next_state)][next_action]\n",
    "            else:\n",
    "                target = reward\n",
    "            Q[encode_state(state)][action] += alpha * (target - Q[encode_state(state)][action])\n",
    "            # Preparing for the next move\n",
    "            state = next_state\n",
    "            action = next_action\n",
    "\n",
    "        episode_rewards[itr] = env.reward(player=my_player)\n",
    "\n",
    "        # Testing the performance\n",
    "        if (test_freq is not None) and ((itr+1)%test_freq == 0):\n",
    "            M_opt = measure_performance(QPlayer(Q=Q), OptimalPlayer(epsilon=0.))\n",
    "            M_rand = measure_performance(QPlayer(Q=Q), OptimalPlayer(epsilon=1.))\n",
    "            episode_Mopt.append(M_opt)\n",
    "            episode_Mrand.append(M_rand)\n",
    "            if verbose:\n",
    "                print('Episode ', itr+1, ':\\tM_opt = ', M_opt, '\\tM_rand = ', M_rand)\n",
    "    # Dictionary of stats\n",
    "    stats = {\n",
    "        'rewards': episode_rewards,\n",
    "        'test_Mopt': episode_Mopt,\n",
    "        'test_Mrand': episode_Mrand,\n",
    "    }\n",
    "    return Q, stats"
   ]
  },
  {
   "cell_type": "code",
   "execution_count": 5,
   "metadata": {},
   "outputs": [],
   "source": [
    "def q_learning_self_practice(env, alpha = 0.5, gamma = 0.99, num_episodes = 20000, epsilon_exploration = 0.1,\n",
    "                             epsilon_exploration_rule = None, test_freq = None, verbose = False):\n",
    "    \"\"\"\n",
    "    TODO\n",
    "    \"\"\"\n",
    "    turns = np.array(['X','O'])\n",
    "    # Q-values map\n",
    "    # Dictionary that maps the np.ndarray.tobyte() representation of the grid to an array of action values\n",
    "    Q = defaultdict(lambda: np.zeros(9))    # All Q-values are initialized to 0\n",
    "    # Stats of training\n",
    "    episode_rewards = np.empty(num_episodes)\n",
    "    # Stats of training\n",
    "    if test_freq is not None:\n",
    "        episode_Mopt = [measure_performance(QPlayer(Q=Q), OptimalPlayer(epsilon=0.))]\n",
    "        episode_Mrand = [measure_performance(QPlayer(Q=Q), OptimalPlayer(epsilon=1.))]\n",
    "    else:\n",
    "        episode_Mopt = []\n",
    "        episode_Mrand = []\n",
    "    if verbose and (test_freq is not None):\n",
    "                print('Episode  0 :\\tM_opt = ', episode_Mopt[0], '\\tM_rand = ', episode_Mrand[0])\n",
    "    # Rule for exploration\n",
    "    if epsilon_exploration_rule is None:\n",
    "        def epsilon_exploration_rule(n):\n",
    "            return epsilon_exploration\n",
    "\n",
    "    for itr in range(num_episodes):\n",
    "        my_player = turns[itr % 2]\n",
    "        env.reset()\n",
    "        state, _, _ = env.observe()\n",
    "        # First two turns outside the loop (at least five turns are played)\n",
    "        action = epsilon_greedy_action(state, Q, epsilon_exploration_rule(itr + 1))\n",
    "        state_adv, _, _ = env.step(action)\n",
    "        action_adv = epsilon_greedy_action(state_adv, Q, epsilon_exploration_rule(itr + 1))\n",
    "        while not env.end:\n",
    "            # Adversarial turn\n",
    "            state_adv, _, _ = env.observe()\n",
    "            reward = - env.reward(player=env.current_player)    # Reward of the player who made the last move\n",
    "            next_state, _, _ = env.step(action_adv)\n",
    "            # Player's turn\n",
    "            if not env.end:\n",
    "                next_action = epsilon_greedy_action(next_state, Q, epsilon_exploration_rule(itr + 1))\n",
    "                target = reward + gamma * Q[encode_state(next_state)][next_action]\n",
    "            else:   # action_adv is the one that makes the game end\n",
    "                reward = - env.reward(player=env.current_player)    # reward of the player who made the game end, i.e. the adversary of the current player\n",
    "                # Update for the adversary of the current player\n",
    "                Q[encode_state(state_adv)][action_adv] += alpha * reward\n",
    "                # Target for the current player\n",
    "                target = - reward + gamma * Q[encode_state(next_state)][next_action]\n",
    "            Q[encode_state(state)][action] += alpha * (target - Q[encode_state(state)][action])\n",
    "\n",
    "            # Preparing for the next iteration\n",
    "            action = action_adv\n",
    "            state = state_adv\n",
    "            action_adv = next_action\n",
    "\n",
    "\n",
    "        episode_rewards[itr] = env.reward(player=my_player)\n",
    "        # Testing the performance\n",
    "        if (test_freq is not None) and ((itr+1)%test_freq == 0):\n",
    "            M_opt = measure_performance(QPlayer(Q=Q), OptimalPlayer(epsilon=0.))\n",
    "            M_rand = measure_performance(QPlayer(Q=Q), OptimalPlayer(epsilon=1.))\n",
    "            episode_Mopt.append(M_opt)\n",
    "            episode_Mrand.append(M_rand)\n",
    "            if verbose:\n",
    "                print('Episode ', itr+1, ':\\tM_opt = ', M_opt, '\\tM_rand = ', M_rand)\n",
    "    \n",
    "    # Dictionary of stats\n",
    "    stats = {\n",
    "        'rewards': episode_rewards,\n",
    "        'test_Mopt': episode_Mopt,\n",
    "        'test_Mrand': episode_Mrand,\n",
    "    }\n",
    "    return Q, stats"
   ]
  },
  {
   "cell_type": "code",
   "execution_count": 6,
   "metadata": {},
   "outputs": [],
   "source": [
    "def plot_stats(stats_dict, vec_var, var_name, var_legend_name, save = False):\n",
    "    \"\"\"\n",
    "    Creates the plots for reward and M_opt, M_rand\n",
    "    @param stats_dict: dictionary containing all the stats \n",
    "    @param vec_var: vector of all the variables\n",
    "    @param var_name: variables name\n",
    "    @param var_legend_name: variables name for the legend\n",
    "    @param save: true to save figures in output folder\n",
    "    \"\"\"\n",
    "    # creating the environment for the two plots\n",
    "    fig_reward, ax_reward = plt.subplots()\n",
    "    fig_performance, ax = plt.subplots(1,2, figsize=(13.4,4.8))\n",
    "    fig_performance.subplots_adjust(top=0.9, left=0.1, right=0.9, bottom=0.12) # adjust the spacing between subplots\n",
    "\n",
    "    for var in vec_var:\n",
    "        (stats, M_opt, M_rand) = stats_dict[var]\n",
    "        # Plot of the average reward during training\n",
    "        running_average_rewards, x_reward = running_average(stats['rewards']) # compute average reward\n",
    "        ax_reward.plot(x_reward, running_average_rewards, label=\"$\"+ var_legend_name +\" = \"+ str(var) +\"$\")\n",
    "        # Plot of M_opt and M_rand during training\n",
    "        x_performance = np.arange(0, len(stats['rewards'])+1, len(stats['rewards']) / (len(stats['test_Mopt']) - 1))\n",
    "        ax[0].plot(x_performance, stats['test_Mopt'], label=\"$\"+ var_legend_name +\" = \"+ str(var) +\"$\")\n",
    "        ax[1].plot(x_performance, stats['test_Mrand'], label=\"$\"+ var_legend_name +\" = \"+ str(var) +\"$\")\n",
    "        print(var_name + \" =\", var,\": \\tM_opt = \", M_opt, \"\\tM_rand = \", M_rand) # print the performance\n",
    "\n",
    "    ax_reward.set_ylim([-1,1])\n",
    "    ax_reward.set_xlabel('Episode')\n",
    "    ax_reward.set_ylabel('Reward')\n",
    "    ax_reward.set_title('Average reward during training')\n",
    "    ax_reward.legend(loc='upper center', bbox_to_anchor=(0.5, -0.15), \n",
    "                     fancybox=True, shadow=True, ncol=5, fontsize=10)  # legend below outside the plot\n",
    "\n",
    "\n",
    "    ax[0].hlines(y=0, xmin=x_reward[0], xmax=x_reward[-1],\n",
    "                 color='r', linestyle='--') # plot also the zero line for M_opt, as it is the highest M_opt achieved\n",
    "    ax[0].set_ylim([-1,0.1])\n",
    "    ax[0].set_xlabel('Episode')\n",
    "    ax[0].set_ylabel('$M_{opt}$')\n",
    "    ax[0].set_title('$M_{opt}$ during training')\n",
    "\n",
    "    ax[1].set_ylim([-1,1])\n",
    "    ax[1].set_xlabel('Episode')\n",
    "    ax[1].set_ylabel('$M_{rand}$')\n",
    "    ax[1].set_title('$M_{rand}$ during training')\n",
    "    \n",
    "    ax.flatten()[-2].legend(loc='upper center', bbox_to_anchor=(1.1, -0.15),\n",
    "                            fancybox=True, shadow=True, ncol=5, fontsize=10)  # unique legend for the two plots\n",
    "    plt.show()\n",
    "    \n",
    "    # saving onto file\n",
    "    if save:\n",
    "        output_folder = os.path.join(os.getcwd(), 'figures') # set the output folder\n",
    "        os.makedirs(output_folder, exist_ok=True)\n",
    "        # saving figures in \"eps\" format\n",
    "        fig_performance.savefig(output_folder + '/performance_'+var_name+'.png')\n",
    "        fig_reward.savefig(output_folder + '/rewards_'+var_name+'.png')\n",
    "        fig_performance.savefig(output_folder + '/performance_'+var_name+'.eps', format='eps')\n",
    "        fig_reward.savefig(output_folder + '/rewards_'+var_name+'.eps', format='eps')"
   ]
  },
  {
   "cell_type": "markdown",
   "metadata": {},
   "source": [
    "## 2. Q-Learning"
   ]
  },
  {
   "cell_type": "code",
   "execution_count": 7,
   "metadata": {},
   "outputs": [],
   "source": [
    "def q_learning(env, alpha = 0.5, gamma = 0.99, num_episodes = 20000, epsilon_exploration = 0.1,\n",
    "                             epsilon_exploration_rule = None, epsilon_opt = 0.5, test_freq = None, verbose = False, \n",
    "                             against_opt=False, self_practice=False):\n",
    "    \"\"\"\n",
    "    TODO\n",
    "    \"\"\"\n",
    "    if (int(against_opt) + int(self_practice) != 1):\n",
    "        raise ValueError(\"Please choose a training method\")\n",
    "    if against_opt:\n",
    "        return q_learning_against_opt(env, alpha, gamma, num_episodes, epsilon_exploration,\n",
    "                             epsilon_exploration_rule,  epsilon_opt, test_freq, verbose)\n",
    "    else:\n",
    "        return q_learning_self_practice(env, alpha, gamma, num_episodes, epsilon_exploration,\n",
    "                             epsilon_exploration_rule, test_freq, verbose)"
   ]
  },
  {
   "cell_type": "code",
   "execution_count": 8,
   "metadata": {
    "pycharm": {
     "name": "#%%\n"
    }
   },
   "outputs": [],
   "source": [
    "env = TictactoeEnv()\n",
    "\n",
    "# Hyper-parameters\n",
    "alpha = 0.05    # Learning rate\n",
    "gamma = 0.99    # Discount factor\n",
    "epsilon_opt = 0.5   # Optimal player's epsilon\n",
    "num_episodes = 20000"
   ]
  },
  {
   "cell_type": "markdown",
   "metadata": {
    "pycharm": {
     "name": "#%% md\n"
    }
   },
   "source": [
    "### 2.1 Learning from experts"
   ]
  },
  {
   "cell_type": "code",
   "execution_count": null,
   "metadata": {
    "pycharm": {
     "name": "#%%\n"
    }
   },
   "outputs": [],
   "source": [
    "epsilon_vec_plot = np.array([0, 0.0001, 0.0005, 0.001, 0.005, 0.01, 0.05, 0.1, 0.5, 1])\n",
    "epsilon_vec = np.hstack((epsilon_vec_plot, np.setdiff1d(np.logspace(-4, -1, 10), epsilon_vec_plot)))"
   ]
  },
  {
   "cell_type": "code",
   "execution_count": null,
   "metadata": {
    "pycharm": {
     "name": "#%%\n"
    }
   },
   "outputs": [],
   "source": [
    "if not load:\n",
    "    env = TictactoeEnv()\n",
    "    stats_dict_eps = {}\n",
    "    for epsilon in epsilon_vec:\n",
    "        print(\"------------- Training with epsilon =\", epsilon, \"-------------\")\n",
    "        start = time.time()\n",
    "        Q, stats = q_learning(env, num_episodes=num_episodes,\n",
    "                              epsilon_exploration=epsilon, test_freq=250, verbose=False, against_opt=True)\n",
    "        M_opt = measure_performance(QPlayer(Q=Q), OptimalPlayer(epsilon=0.), num_episodes=2000)\n",
    "        M_rand = measure_performance(QPlayer(Q=Q), OptimalPlayer(epsilon=1.), num_episodes=2000)\n",
    "        print(\"M_opt =\", M_opt)\n",
    "        print(\"M_rand =\", M_rand)\n",
    "        stats_dict_eps.update({epsilon: (stats, M_opt, M_rand)})\n",
    "        elapsed = time.time() - start\n",
    "        print(\"Training with epsilon =\", epsilon, \" took:\", time.strftime(\"%Hh%Mm%Ss\", time.gmtime(elapsed)), \"\\n\\n\")\n",
    "\n",
    "    if save_stats:\n",
    "        output_folder = os.path.join(os.getcwd(), 'results')\n",
    "        os.makedirs(output_folder, exist_ok=True)\n",
    "        fname = output_folder + '/stats_dict_eps.pkl'\n",
    "        with open(fname, 'wb') as handle:\n",
    "            pickle.dump(stats_dict_eps, handle, protocol=pickle.HIGHEST_PROTOCOL)"
   ]
  },
  {
   "cell_type": "code",
   "execution_count": null,
   "metadata": {
    "pycharm": {
     "name": "#%%\n"
    }
   },
   "outputs": [],
   "source": [
    "if load:\n",
    "    output_folder = os.path.join(os.getcwd(), 'results')\n",
    "    os.makedirs(output_folder, exist_ok=True)\n",
    "    fname = output_folder + '/stats_dict_eps_self.pkl'\n",
    "    with open(fname, 'rb') as handle:\n",
    "        stats_dict_eps = pickle.load(handle)\n",
    "\n",
    "plot_stats(stats_dict_eps, epsilon_vec_plot, \"epsilon\", \"\\epsilon\", save=True)"
   ]
  },
  {
   "cell_type": "code",
   "execution_count": 9,
   "metadata": {
    "pycharm": {
     "name": "#%%\n"
    }
   },
   "outputs": [],
   "source": [
    "epsilon_exploration = 0.05\n",
    "Q, stats = q_learning(env, epsilon_exploration=epsilon_exploration, num_episodes=num_episodes, verbose=False, against_opt=True)"
   ]
  },
  {
   "cell_type": "code",
   "execution_count": 10,
   "metadata": {
    "pycharm": {
     "name": "#%%\n"
    }
   },
   "outputs": [
    {
     "data": {
      "image/png": "[encoded data removed]",
      "text/plain": [
       "<Figure size 432x288 with 1 Axes>"
      ]
     },
     "metadata": {
      "needs_background": "light"
     },
     "output_type": "display_data"
    },
    {
     "name": "stdout",
     "output_type": "stream",
     "text": [
      "\n",
      "----- Trained  player-----\n",
      "M_opt =  0.0\n",
      "M_rand =  0.788\n",
      "\n",
      "----- Optimal  player-----\n",
      "M_opt =  0.0\n",
      "M_rand =  0.92\n",
      "\n",
      "----- Random  player-----\n",
      "M_opt =  -0.932\n",
      "M_rand =  0.0\n"
     ]
    }
   ],
   "source": [
    "# Plotting the average reward for every 250 games during training\n",
    "running_average_rewards, x = running_average(stats['rewards'])\n",
    "fig = plt.figure()\n",
    "plt.plot(x, running_average_rewards)\n",
    "plt.ylim([-1,1])\n",
    "plt.xlabel('Episode')\n",
    "plt.ylabel('Reward')\n",
    "plt.title('Average reward during training')\n",
    "plt.show()\n",
    "if save_figs:\n",
    "        output_folder = os.path.join(os.getcwd(), 'figures')\n",
    "        os.makedirs(output_folder, exist_ok=True)\n",
    "        fig.savefig(output_folder + '/rewards_Q1.png')\n",
    "        fig.savefig(output_folder + '/rewards_Q1.eps', format = 'eps')\n",
    "\n",
    "# Comparing the performance with the optimal player and the random player\n",
    "turns = np.array(['X','O'])\n",
    "player_opt = OptimalPlayer(epsilon=0.)\n",
    "player_rand = OptimalPlayer(epsilon=1.)\n",
    "\n",
    "names = ['Trained', 'Optimal', 'Random']\n",
    "players = [QPlayer(Q=Q), OptimalPlayer(epsilon=0.), OptimalPlayer(epsilon=1.)]\n",
    "\n",
    "for (name, player) in zip(names, players):\n",
    "    print(\"\\n-----\", name, \" player-----\")\n",
    "    m_opt = measure_performance(player, player_opt)\n",
    "    print(\"M_opt = \", m_opt)\n",
    "    m_rand = measure_performance(player, player_rand)\n",
    "    print(\"M_rand = \", m_rand)"
   ]
  },
  {
   "cell_type": "markdown",
   "metadata": {
    "pycharm": {
     "name": "#%% md\n"
    }
   },
   "source": [
    "#### 2.1.1 Decreasing exploration"
   ]
  },
  {
   "cell_type": "code",
   "execution_count": null,
   "metadata": {
    "pycharm": {
     "name": "#%%\n"
    }
   },
   "outputs": [],
   "source": [
    "test_freq = 250\n",
    "epsilon_min = 0.1\n",
    "epsilon_max = 0.8\n",
    "vec_n_star = np.hstack((np.array([1, 100, 500, 750]), np.round(np.logspace(3, np.log10(40000), 16))))"
   ]
  },
  {
   "cell_type": "code",
   "execution_count": null,
   "metadata": {
    "pycharm": {
     "name": "#%%\n"
    }
   },
   "outputs": [],
   "source": [
    "if not load:\n",
    "    stats_dict_nstar = {}\n",
    "    for n_star in vec_n_star:\n",
    "        print(\"------------- Training with n_star =\", n_star, \"-------------\")\n",
    "        def epsilon_exploration_rule(n):\n",
    "            return np.max([epsilon_min, epsilon_max * (1 - n/n_star)])\n",
    "        start = time.time()\n",
    "        Q, stats = q_learning(env, epsilon_exploration_rule=epsilon_exploration_rule, test_freq=test_freq, against_opt=True)\n",
    "        M_opt = measure_performance(QPlayer(Q=Q), OptimalPlayer(epsilon=0.), num_episodes=2000)\n",
    "        M_rand = measure_performance(QPlayer(Q=Q), OptimalPlayer(epsilon=1.), num_episodes=2000)\n",
    "        print(\"M_opt =\", M_opt)\n",
    "        print(\"M_rand =\", M_rand)\n",
    "        stats_dict_nstar.update({n_star: (stats, M_opt, M_rand)})\n",
    "        elapsed = time.time() - start\n",
    "        print(\"Training with n_star =\", n_star, \" took:\", time.strftime(\"%Hh%Mm%Ss\", time.gmtime(elapsed)), \"\\n\\n\")\n",
    "\n",
    "    if save_stats:\n",
    "        output_folder = os.path.join(os.getcwd(), 'results')\n",
    "        os.makedirs(output_folder, exist_ok=True)\n",
    "        fname = output_folder + '/stats_dict_nstar.pkl'\n",
    "        with open(fname, 'wb') as handle:\n",
    "            pickle.dump(stats_dict_nstar, handle, protocol=pickle.HIGHEST_PROTOCOL)"
   ]
  },
  {
   "cell_type": "code",
   "execution_count": null,
   "metadata": {
    "pycharm": {
     "name": "#%%\n"
    }
   },
   "outputs": [],
   "source": [
    "if load:\n",
    "    output_folder = os.path.join(os.getcwd(), 'results')\n",
    "    os.makedirs(output_folder, exist_ok=True)\n",
    "    fname = output_folder + '/stats_dict_nstar.pkl'\n",
    "    with open(fname, 'rb') as handle:\n",
    "        stats_dict_nstar = pickle.load(handle)\n",
    "\n",
    "plot_n_star = [1., 24460., 40000]\n",
    "plot_stats(stats_dict_nstar, plot_n_star, 'n_star', \"n^{\\star}\", save=True)\n",
    "\n",
    "plot_n_star = [1., 4373., 9146.]\n",
    "plot_stats(stats_dict_nstar, plot_n_star, 'n_star', \"n^{\\star}\", save=True)\n",
    "# plot_stats(stats_dict_nstar, vec_n_star, 'n_star', \"n^{\\star}\", save=False)"
   ]
  },
  {
   "cell_type": "markdown",
   "metadata": {
    "pycharm": {
     "name": "#%% md\n"
    }
   },
   "source": [
    "#### 2.1.2 Good experts and bad experts"
   ]
  },
  {
   "cell_type": "code",
   "execution_count": null,
   "metadata": {
    "pycharm": {
     "name": "#%%\n"
    }
   },
   "outputs": [],
   "source": [
    "n_star = 4000 # this should be picked from before not inserted manually\n",
    "M = 11\n",
    "vec_epsilon_opt = np.linspace(0,1,M)\n",
    "print(vec_epsilon_opt)"
   ]
  },
  {
   "cell_type": "code",
   "execution_count": null,
   "metadata": {
    "pycharm": {
     "name": "#%%\n"
    }
   },
   "outputs": [],
   "source": [
    "if not load:\n",
    "    stats_dict_epsilon_opt = {}\n",
    "    for epsilon_opt in vec_epsilon_opt:\n",
    "        print(\"------------- Training with epsilon_opt =\", epsilon_opt, \"-------------\")\n",
    "        start = time.time()\n",
    "        Q, stats = q_learning(env, epsilon_opt=epsilon_opt, test_freq=test_freq, against_opt=True)\n",
    "        M_opt = measure_performance(QPlayer(Q=Q), OptimalPlayer(epsilon=0.), num_episodes=2000)\n",
    "        M_rand = measure_performance(QPlayer(Q=Q), OptimalPlayer(epsilon=1.), num_episodes=2000)\n",
    "        print(\"M_opt =\", M_opt)\n",
    "        print(\"M_rand =\", M_rand)\n",
    "        stats_dict_epsilon_opt.update({epsilon_opt: (stats, M_opt, M_rand)})\n",
    "        elapsed = time.time() - start\n",
    "        print(\"Training with epsilon_opt =\", epsilon_opt, \" took:\", time.strftime(\"%Hh%Mm%Ss\", time.gmtime(elapsed)))\n",
    "\n",
    "    if save_stats:\n",
    "        output_folder = os.path.join(os.getcwd(), 'results')\n",
    "        os.makedirs(output_folder, exist_ok=True)\n",
    "        fname = output_folder + '/stats_dict_epsilon_opt.pkl'\n",
    "        with open(fname, 'wb') as handle:\n",
    "            pickle.dump(stats_dict_epsilon_opt, handle, protocol=pickle.HIGHEST_PROTOCOL)"
   ]
  },
  {
   "cell_type": "code",
   "execution_count": null,
   "metadata": {
    "pycharm": {
     "name": "#%%\n"
    }
   },
   "outputs": [],
   "source": [
    "if load:\n",
    "    output_folder = os.path.join(os.getcwd(), 'results')\n",
    "    os.makedirs(output_folder, exist_ok=True)\n",
    "    fname = output_folder + '/stats_dict_epsilon_opt.pkl'\n",
    "    with open(fname, 'rb') as handle:\n",
    "        stats_dict_epsilon_opt = pickle.load(handle)\n",
    "\n",
    "plot_epsilon_opt = [0., 0.5, 1.]\n",
    "plot_stats(stats_dict_epsilon_opt, plot_epsilon_opt, \"epsilon_opt\", \"\\epsilon_{opt}\", save=True)\n",
    "# plot_stats(stats_dict_epsilon_opt, vec_epsilon_opt, \"epsilon_opt\", \"\\epsilon_{opt}\", save=False)"
   ]
  },
  {
   "cell_type": "markdown",
   "metadata": {
    "pycharm": {
     "name": "#%% md\n"
    }
   },
   "source": [
    "### 2.2 Learning by self-practice"
   ]
  },
  {
   "cell_type": "markdown",
   "metadata": {},
   "source": [
    "#### Question 7: Fixed $\\epsilon$ first"
   ]
  },
  {
   "cell_type": "code",
   "execution_count": null,
   "metadata": {
    "pycharm": {
     "name": "#%%\n"
    }
   },
   "outputs": [],
   "source": [
    "epsilon_vec_plot = np.array([0, 0.0001, 0.0005, 0.001, 0.005, 0.01, 0.05, 0.1, 0.5, 1])\n",
    "epsilon_vec = np.hstack((epsilon_vec_plot, np.setdiff1d(np.logspace(-4, -1, 10), epsilon_vec_plot)))"
   ]
  },
  {
   "cell_type": "code",
   "execution_count": null,
   "metadata": {
    "scrolled": false
   },
   "outputs": [],
   "source": [
    "if not load:\n",
    "    env = TictactoeEnv()\n",
    "    stats_dict_eps_self = {}\n",
    "    for epsilon in epsilon_vec:\n",
    "        print(\"------------- Training with epsilon =\", epsilon, \"-------------\")\n",
    "        Q, stats = q_learning(env, num_episodes=num_episodes,\n",
    "                            epsilon_exploration=epsilon, test_freq = 250, verbose=False, self_practice=True)\n",
    "        M_opt = measure_performance(QPlayer(Q=Q), OptimalPlayer(epsilon=0.), num_episodes=2000)\n",
    "        M_rand = measure_performance(QPlayer(Q=Q), OptimalPlayer(epsilon=1.), num_episodes=2000)\n",
    "        print(\"M_opt =\", M_opt)\n",
    "        print(\"M_rand =\", M_rand)\n",
    "        stats_dict_eps_self.update({epsilon: (stats, M_opt, M_rand)})\n",
    "\n",
    "    if save_stats:\n",
    "        output_folder = os.path.join(os.getcwd(), 'results')\n",
    "        os.makedirs(output_folder, exist_ok=True)\n",
    "        fname = output_folder + '/stats_dict_eps_self.pkl'\n",
    "        with open(fname, 'wb') as handle:\n",
    "            pickle.dump(stats_dict_eps_self, handle, protocol=pickle.HIGHEST_PROTOCOL)"
   ]
  },
  {
   "cell_type": "code",
   "execution_count": null,
   "metadata": {
    "pycharm": {
     "name": "#%%\n"
    }
   },
   "outputs": [],
   "source": [
    "if load:\n",
    "    output_folder = os.path.join(os.getcwd(), 'results')\n",
    "    os.makedirs(output_folder, exist_ok=True)\n",
    "    fname = output_folder + '/stats_dict_eps_self.pkl'\n",
    "    with open(fname, 'rb') as handle:\n",
    "        stats_dict_eps_self = pickle.load(handle)\n",
    "\n",
    "epsilon_vec_plot = [0, 0.005, 0.1, 0.5]\n",
    "plot_stats(stats_dict_eps_self, epsilon_vec_plot, \"epsilon_self\", \"\\epsilon\", save=save_figs)\n",
    "plot_stats(stats_dict_eps_self, epsilon_vec, \"epsilon_self\", \"\\epsilon\", save=save_figs)"
   ]
  },
  {
   "cell_type": "markdown",
   "metadata": {},
   "source": [
    "#### Question 8: Changing exploration rule, $\\epsilon$ decay"
   ]
  },
  {
   "cell_type": "code",
   "execution_count": null,
   "metadata": {
    "pycharm": {
     "name": "#%%\n"
    }
   },
   "outputs": [],
   "source": [
    "vec_n_star = np.hstack((np.array([1, 100, 500, 750]), np.round(np.logspace(3, np.log10(40000), 16))))\n",
    "epsilon_min = 0.1\n",
    "epsilon_max = 0.8"
   ]
  },
  {
   "cell_type": "code",
   "execution_count": null,
   "metadata": {},
   "outputs": [],
   "source": [
    "if not load:\n",
    "    stats_dict_nstar_self = {}\n",
    "    for n_star in vec_n_star:\n",
    "        print(\"------------- Training with n_star =\", n_star, \"-------------\")\n",
    "        def epsilon_exploration_rule(n):\n",
    "            return np.max([epsilon_min, epsilon_max * (1 - n/n_star)])\n",
    "        start = time.time()\n",
    "        Q, stats = q_learning(env, epsilon_exploration_rule=epsilon_exploration_rule,\n",
    "                                test_freq=test_freq,  num_episodes=num_episodes, verbose=False, self_practice=True)\n",
    "        M_opt = measure_performance(QPlayer(Q=Q), OptimalPlayer(epsilon=0.), num_episodes=200)\n",
    "        M_rand = measure_performance(QPlayer(Q=Q), OptimalPlayer(epsilon=1.), num_episodes=200)\n",
    "        print(\"M_opt =\", M_opt)\n",
    "        print(\"M_rand =\", M_rand)\n",
    "        stats_dict_nstar_self.update({n_star: (stats, M_opt, M_rand)})\n",
    "        elapsed = time.time() - start\n",
    "        print(\"Training with n_star =\", n_star, \"took:\", time.strftime(\"%Hh%Mm%Ss\", time.gmtime(elapsed)), \"\\n\\n\")\n",
    "\n",
    "    if save_stats:\n",
    "        output_folder = os.path.join(os.getcwd(), 'results')\n",
    "        os.makedirs(output_folder, exist_ok=True)\n",
    "        fname = output_folder + '/stats_dict_nstar_self.pkl'\n",
    "        with open(fname, 'wb') as handle:\n",
    "            pickle.dump(stats_dict_nstar_self, handle, protocol=pickle.HIGHEST_PROTOCOL)"
   ]
  },
  {
   "cell_type": "code",
   "execution_count": null,
   "metadata": {
    "pycharm": {
     "name": "#%%\n"
    }
   },
   "outputs": [],
   "source": [
    "if load:\n",
    "    output_folder = os.path.join(os.getcwd(), 'results')\n",
    "    os.makedirs(output_folder, exist_ok=True)\n",
    "    fname = output_folder + '/stats_dict_nstar_self.pkl'\n",
    "    with open(fname, 'rb') as handle:\n",
    "        stats_dict_nstar_self = pickle.load(handle)\n",
    "\n",
    "plot_n_star = [1., 4373., 24460., 40000]\n",
    "plot_stats(stats_dict_nstar_self, plot_n_star, 'n_star', \"n^{\\star}\", save=save_figs)\n",
    "\n",
    "plot_n_star = [1., 4373., 9146.]\n",
    "plot_stats(stats_dict_nstar_self, plot_n_star, 'n_star', \"n^{\\star}\", save=save_figs)\n",
    "plot_stats(stats_dict_nstar_self, vec_n_star, 'n_star', \"n^{\\star}\", save=False)"
   ]
  },
  {
   "cell_type": "markdown",
   "metadata": {},
   "source": [
    "#### Question 9: TODO look for optimal $M_{opt}$ and $M_{rand}$"
   ]
  },
  {
   "cell_type": "code",
   "execution_count": null,
   "metadata": {},
   "outputs": [],
   "source": [
    "### look for optimal values of M_opt and M_rand"
   ]
  },
  {
   "cell_type": "markdown",
   "metadata": {},
   "source": [
    "#### Question 10: heat maps in 3 different states"
   ]
  },
  {
   "cell_type": "code",
   "execution_count": null,
   "metadata": {
    "pycharm": {
     "name": "#%%\n"
    }
   },
   "outputs": [],
   "source": [
    "# Parametri ottimali di Q\n",
    "epsilon_min = 0.1\n",
    "epsilon_max = 0.8\n",
    "n_star = 4373\n",
    "def epsilon_exploration_rule(n):\n",
    "            return np.max([epsilon_min, epsilon_max * (1 - n/n_star)])\n",
    "Q, stats = q_learning(env, epsilon_exploration_rule=epsilon_exploration_rule, num_episodes=20000, verbose=True, self_practice=True)"
   ]
  },
  {
   "cell_type": "code",
   "execution_count": null,
   "metadata": {
    "pycharm": {
     "name": "#%%\n"
    }
   },
   "outputs": [],
   "source": [
    "def heatmaps_subplots(grids, Q):\n",
    "    fig, ax = plt.subplots(1, grids.shape[0], sharex='col', figsize=(15, 5))\n",
    "    plt.subplots_adjust(wspace=1.5)\n",
    "    grids_ = np.reshape(grids, (grids.shape[0], 3, 3))\n",
    "    vmin = np.nanmin([Q[encode_state(grids[i, :])][:] for i in range(grids.shape[0])])\n",
    "    vmax = np.nanmax([Q[encode_state(grids[i, :])][:] for i in range(grids.shape[0])])\n",
    "    for i in range(grids.shape[0]):\n",
    "        grid = grids[i, :]\n",
    "        grid = np.reshape(grid, (3,3))\n",
    "        df = Q[encode_state(grid)][:]\n",
    "        df = np.reshape(df, (3, 3))\n",
    "        ax[i].table(cellText=grids_[i])\n",
    "        sns.heatmap(df, annot=True, mask=(grids_[i] != 0), linewidths=.5, vmin=vmin, vmax=vmax,\n",
    "                    ax=ax[i], xticklabels=False, yticklabels=False, cmap=\"YlGnBu\", \n",
    "                    cbar=False if i < (grids.shape[0]-1) else True, cbar_kws={\"shrink\": 1.2})\n",
    "        ax[i].axis(\"off\")"
   ]
  },
  {
   "cell_type": "code",
   "execution_count": null,
   "metadata": {},
   "outputs": [],
   "source": [
    "grids = np.array([[1., 0., 0., -1., 1., 0., 0., -1., 0.], [-1., 0., 0., 1., 0., 0., 0., 1., -1.], [1., -1., 0., 0., 0., 0., 0., 0., 0.]])\n",
    "heatmaps_subplots(grids, Q)"
   ]
  },
  {
   "cell_type": "markdown",
   "metadata": {
    "pycharm": {
     "name": "#%% md\n"
    }
   },
   "source": [
    "## Deep Q-Learning"
   ]
  },
  {
   "cell_type": "code",
   "execution_count": null,
   "metadata": {},
   "outputs": [],
   "source": []
  }
 ],
 "metadata": {
  "kernelspec": {
   "display_name": "CS456",
   "language": "python",
   "name": "cs456"
  },
  "language_info": {
   "codemirror_mode": {
    "name": "ipython",
    "version": 3
   },
   "file_extension": ".py",
   "mimetype": "text/x-python",
   "name": "python",
   "nbconvert_exporter": "python",
   "pygments_lexer": "ipython3",
   "version": "3.7.11"
  }
 },
 "nbformat": 4,
 "nbformat_minor": 4
}
