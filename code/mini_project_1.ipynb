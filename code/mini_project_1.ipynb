{
 "cells": [
  {
   "cell_type": "code",
   "execution_count": 41,
   "metadata": {},
   "outputs": [],
   "source": [
    "import numpy as np\n",
    "from tic_env import TictactoeEnv, OptimalPlayer\n",
    "from collections import defaultdict\n",
    "import matplotlib.pyplot as plt\n",
    "import matplotlib.cm as cmap\n",
    "import seaborn as sns\n",
    "import scipy.stats as st\n",
    "import time\n",
    "import os\n",
    "import pickle"
   ]
  },
  {
   "cell_type": "code",
   "execution_count": 52,
   "metadata": {
    "pycharm": {
     "name": "#%%\n"
    }
   },
   "outputs": [],
   "source": [
    "# Configurations\n",
    "save_stats = True\n",
    "save_figs = False"
   ]
  },
  {
   "cell_type": "markdown",
   "metadata": {},
   "source": [
    "## 2. Q-Learning"
   ]
  },
  {
   "cell_type": "code",
   "execution_count": 43,
   "metadata": {
    "pycharm": {
     "name": "#%%\n"
    }
   },
   "outputs": [],
   "source": [
    "def measure_performance(player_1, player_2, num_episodes = 500):\n",
    "    \"\"\"\n",
    "    Measures performance of player 1 against player 2 (percentage of wins player 1)\n",
    "    TODO\n",
    "    \"\"\"\n",
    "    meas = 0\n",
    "    turns = np.array(['X','O'])\n",
    "    env = TictactoeEnv()\n",
    "    for itr in range(num_episodes):\n",
    "        env.reset()\n",
    "        grid, _, _ = env.observe()\n",
    "        player_1.set_player(turns[itr%2])\n",
    "        player_2.set_player(turns[(itr+1)%2])\n",
    "        while not env.end:\n",
    "            if env.current_player == player_1.player:\n",
    "                move = player_1.act(grid)\n",
    "            else:\n",
    "                move = player_2.act(grid)\n",
    "            grid, _, _ = env.step(move, print_grid=False)\n",
    "        meas += env.reward(player=player_1.player)\n",
    "    return meas/num_episodes\n",
    "\n",
    "def running_average(vec, windows_size = 250):\n",
    "    idx = np.arange(0,len(vec),windows_size)\n",
    "    return [np.sum(vec[i:i+windows_size])/windows_size for i in idx], idx + windows_size\n",
    "\n",
    "def encode_state(state):\n",
    "    return state.tobytes()\n",
    "\n",
    "def available(grid):\n",
    "    \"\"\"\n",
    "    TODO\n",
    "    \"\"\"\n",
    "    avail_indices = []\n",
    "    avail_mask = [False] * 9\n",
    "    for i in range(9):\n",
    "        pos = (int(i/3), i % 3)\n",
    "        if grid[pos] == 0:\n",
    "            avail_indices.append(i)\n",
    "            avail_mask[i] = True\n",
    "    return avail_indices, avail_mask\n",
    "\n",
    "def epsilon_greedy_action(grid, Q, epsilon, num_actions = 9):\n",
    "    \"\"\"\n",
    "    TODO\n",
    "    \"\"\"\n",
    "    avail_indices, avail_mask = available(grid)\n",
    "\n",
    "    if np.random.uniform(0,1) < epsilon:\n",
    "        return avail_indices[np.random.randint(0, len(avail_indices))]\n",
    "    else:\n",
    "        q = Q[encode_state(grid)]\n",
    "        q[np.logical_not(avail_mask)] = np.nan\n",
    "        max_indices = np.argwhere(q == np.nanmax(q))\n",
    "        return int(max_indices[np.random.randint(0, len(max_indices))])\n",
    "\n",
    "class QPlayer:\n",
    "    \"\"\"\n",
    "    TODO\n",
    "    \"\"\"\n",
    "    def __init__(self, Q, player='X'):\n",
    "        self.Q = Q\n",
    "        self.player = player  # 'x' or 'O'\n",
    "\n",
    "    def set_player(self, player='X', j=-1):\n",
    "        self.player = player\n",
    "        if j != -1:\n",
    "            self.player = 'X' if j % 2 == 0 else 'O'\n",
    "\n",
    "    def act(self, grid, **kwargs):\n",
    "        \"\"\"\n",
    "        TODO\n",
    "        \"\"\"\n",
    "        return epsilon_greedy_action(grid, self.Q, 0)\n",
    "\n",
    "\n",
    "def q_learning(env, alpha = 0.5, gamma = 0.99, num_episodes = 20000, epsilon_exploration = 0.1,\n",
    "               epsilon_exploration_rule = None, epsilon_opt = 0.5, test_freq = None, verbose = False):\n",
    "    \"\"\"\n",
    "    TODO\n",
    "    \"\"\"\n",
    "    turns = np.array(['X','O'])\n",
    "    # Q-values map\n",
    "    # Dictionary that maps the np.ndarray.tobyte() representation of the grid to an array of action values\n",
    "    Q = defaultdict(lambda: np.zeros(9))    # All Q-values are initialized to 0\n",
    "    # Stats of training\n",
    "    episode_rewards = np.empty(num_episodes)\n",
    "    episode_Mopt = [measure_performance(QPlayer(Q=Q), OptimalPlayer(epsilon=0.))]\n",
    "    episode_Mrand = [measure_performance(QPlayer(Q=Q), OptimalPlayer(epsilon=1.))]\n",
    "    if verbose:\n",
    "                print('Episode  0 :\\tM_opt = ', episode_Mopt[0], '\\tM_rand = ', episode_Mrand[0])\n",
    "    # Rule for exploration\n",
    "    if epsilon_exploration_rule is None:\n",
    "        def epsilon_exploration_rule(n):\n",
    "            return epsilon_exploration\n",
    "\n",
    "    for itr in range(num_episodes):\n",
    "        my_player = turns[itr % 2]\n",
    "        player_opt = OptimalPlayer(epsilon=epsilon_opt, player=turns[(itr+1) % 2])\n",
    "        env.reset()\n",
    "        state, _, _ = env.observe()\n",
    "        # First step of the adversarial\n",
    "        if env.current_player == player_opt.player:\n",
    "            move = player_opt.act(state)\n",
    "            state, _, _ = env.step(move)\n",
    "        action = epsilon_greedy_action(state, Q, epsilon_exploration_rule(itr+1))\n",
    "        while not env.end:\n",
    "            next_state, _, _ = env.step(action)     # Move according to the policy\n",
    "            if not env.end:\n",
    "                move = player_opt.act(next_state)   # Adversarial move\n",
    "                next_state, _, _ = env.step(move)\n",
    "            # Sarsa update rule\n",
    "            reward = env.reward(player=my_player)\n",
    "            if not env.end:\n",
    "                next_action = epsilon_greedy_action(next_state, Q, epsilon_exploration_rule(itr+1))\n",
    "                target = reward + gamma * Q[encode_state(next_state)][next_action]\n",
    "            else:\n",
    "                target = reward\n",
    "            Q[encode_state(state)][action] += alpha * (target - Q[encode_state(state)][action])\n",
    "            # Preparing for the next move\n",
    "            state = next_state\n",
    "            action = next_action\n",
    "\n",
    "        episode_rewards[itr] = env.reward(player=my_player)\n",
    "\n",
    "        # Testing the performance\n",
    "        if (test_freq is not None) and ((itr+1)%test_freq == 0):\n",
    "            M_opt = measure_performance(QPlayer(Q=Q), OptimalPlayer(epsilon=0.))\n",
    "            M_rand = measure_performance(QPlayer(Q=Q), OptimalPlayer(epsilon=1.))\n",
    "            episode_Mopt.append(M_opt)\n",
    "            episode_Mrand.append(M_rand)\n",
    "            if verbose:\n",
    "                print('Episode ', itr+1, ':\\tM_opt = ', M_opt, '\\tM_rand = ', M_rand)\n",
    "    # Dictionary of stats\n",
    "    stats = {\n",
    "        'rewards': episode_rewards,\n",
    "        'test_Mopt': episode_Mopt,\n",
    "        'test_Mrand': episode_Mrand,\n",
    "    }\n",
    "    return Q, stats"
   ]
  },
  {
   "cell_type": "markdown",
   "metadata": {
    "pycharm": {
     "name": "#%% md\n"
    }
   },
   "source": [
    "### 2.1 Learning from experts"
   ]
  },
  {
   "cell_type": "code",
   "execution_count": 44,
   "metadata": {
    "pycharm": {
     "name": "#%%\n"
    }
   },
   "outputs": [
    {
     "name": "stdout",
     "output_type": "stream",
     "text": [
      "Episode  0 :\tM_opt =  -0.938 \tM_rand =  0.026\n"
     ]
    },
    {
     "ename": "KeyboardInterrupt",
     "evalue": "",
     "output_type": "error",
     "traceback": [
      "\u001B[1;31m---------------------------------------------------------------------------\u001B[0m",
      "\u001B[1;31mKeyboardInterrupt\u001B[0m                         Traceback (most recent call last)",
      "\u001B[1;32m~\\AppData\\Local\\Temp\\ipykernel_14592\\2118911571.py\u001B[0m in \u001B[0;36m<module>\u001B[1;34m\u001B[0m\n\u001B[0;32m      8\u001B[0m \u001B[0mepsilon_exploration\u001B[0m \u001B[1;33m=\u001B[0m \u001B[1;36m0.01\u001B[0m\u001B[1;33m\u001B[0m\u001B[1;33m\u001B[0m\u001B[0m\n\u001B[0;32m      9\u001B[0m \u001B[1;33m\u001B[0m\u001B[0m\n\u001B[1;32m---> 10\u001B[1;33m \u001B[0mQ\u001B[0m\u001B[1;33m,\u001B[0m \u001B[0mstats\u001B[0m \u001B[1;33m=\u001B[0m \u001B[0mq_learning\u001B[0m\u001B[1;33m(\u001B[0m\u001B[0menv\u001B[0m\u001B[1;33m,\u001B[0m \u001B[0mepsilon_exploration\u001B[0m\u001B[1;33m=\u001B[0m\u001B[0mepsilon_exploration\u001B[0m\u001B[1;33m,\u001B[0m \u001B[0mnum_episodes\u001B[0m\u001B[1;33m=\u001B[0m\u001B[0mnum_episodes\u001B[0m\u001B[1;33m,\u001B[0m \u001B[0mverbose\u001B[0m\u001B[1;33m=\u001B[0m\u001B[1;32mTrue\u001B[0m\u001B[1;33m)\u001B[0m\u001B[1;33m\u001B[0m\u001B[1;33m\u001B[0m\u001B[0m\n\u001B[0m",
      "\u001B[1;32m~\\AppData\\Local\\Temp\\ipykernel_14592\\2717487506.py\u001B[0m in \u001B[0;36mq_learning\u001B[1;34m(env, alpha, gamma, num_episodes, epsilon_exploration, epsilon_exploration_rule, epsilon_opt, test_freq, verbose)\u001B[0m\n\u001B[0;32m    108\u001B[0m             \u001B[0mnext_state\u001B[0m\u001B[1;33m,\u001B[0m \u001B[0m_\u001B[0m\u001B[1;33m,\u001B[0m \u001B[0m_\u001B[0m \u001B[1;33m=\u001B[0m \u001B[0menv\u001B[0m\u001B[1;33m.\u001B[0m\u001B[0mstep\u001B[0m\u001B[1;33m(\u001B[0m\u001B[0maction\u001B[0m\u001B[1;33m)\u001B[0m     \u001B[1;31m# Move according to the policy\u001B[0m\u001B[1;33m\u001B[0m\u001B[1;33m\u001B[0m\u001B[0m\n\u001B[0;32m    109\u001B[0m             \u001B[1;32mif\u001B[0m \u001B[1;32mnot\u001B[0m \u001B[0menv\u001B[0m\u001B[1;33m.\u001B[0m\u001B[0mend\u001B[0m\u001B[1;33m:\u001B[0m\u001B[1;33m\u001B[0m\u001B[1;33m\u001B[0m\u001B[0m\n\u001B[1;32m--> 110\u001B[1;33m                 \u001B[0mmove\u001B[0m \u001B[1;33m=\u001B[0m \u001B[0mplayer_opt\u001B[0m\u001B[1;33m.\u001B[0m\u001B[0mact\u001B[0m\u001B[1;33m(\u001B[0m\u001B[0mnext_state\u001B[0m\u001B[1;33m)\u001B[0m   \u001B[1;31m# Adversarial move\u001B[0m\u001B[1;33m\u001B[0m\u001B[1;33m\u001B[0m\u001B[0m\n\u001B[0m\u001B[0;32m    111\u001B[0m                 \u001B[0mnext_state\u001B[0m\u001B[1;33m,\u001B[0m \u001B[0m_\u001B[0m\u001B[1;33m,\u001B[0m \u001B[0m_\u001B[0m \u001B[1;33m=\u001B[0m \u001B[0menv\u001B[0m\u001B[1;33m.\u001B[0m\u001B[0mstep\u001B[0m\u001B[1;33m(\u001B[0m\u001B[0mmove\u001B[0m\u001B[1;33m)\u001B[0m\u001B[1;33m\u001B[0m\u001B[1;33m\u001B[0m\u001B[0m\n\u001B[0;32m    112\u001B[0m             \u001B[1;31m# Sarsa update rule\u001B[0m\u001B[1;33m\u001B[0m\u001B[1;33m\u001B[0m\u001B[1;33m\u001B[0m\u001B[0m\n",
      "\u001B[1;32m~\\Documents\\GitHub\\ANN_Project\\code\\tic_env.py\u001B[0m in \u001B[0;36mact\u001B[1;34m(self, grid, **kwargs)\u001B[0m\n\u001B[0;32m    355\u001B[0m \u001B[1;33m\u001B[0m\u001B[0m\n\u001B[0;32m    356\u001B[0m         \u001B[1;31m# Win\u001B[0m\u001B[1;33m\u001B[0m\u001B[1;33m\u001B[0m\u001B[1;33m\u001B[0m\u001B[0m\n\u001B[1;32m--> 357\u001B[1;33m         \u001B[0mwin\u001B[0m \u001B[1;33m=\u001B[0m \u001B[0mself\u001B[0m\u001B[1;33m.\u001B[0m\u001B[0mwin\u001B[0m\u001B[1;33m(\u001B[0m\u001B[0mgrid\u001B[0m\u001B[1;33m)\u001B[0m\u001B[1;33m\u001B[0m\u001B[1;33m\u001B[0m\u001B[0m\n\u001B[0m\u001B[0;32m    358\u001B[0m         \u001B[1;32mif\u001B[0m \u001B[0mwin\u001B[0m\u001B[1;33m:\u001B[0m\u001B[1;33m\u001B[0m\u001B[1;33m\u001B[0m\u001B[0m\n\u001B[0;32m    359\u001B[0m             \u001B[1;32mreturn\u001B[0m \u001B[0mwin\u001B[0m\u001B[1;33m[\u001B[0m\u001B[0mrandom\u001B[0m\u001B[1;33m.\u001B[0m\u001B[0mrandint\u001B[0m\u001B[1;33m(\u001B[0m\u001B[1;36m0\u001B[0m\u001B[1;33m,\u001B[0m \u001B[0mlen\u001B[0m\u001B[1;33m(\u001B[0m\u001B[0mwin\u001B[0m\u001B[1;33m)\u001B[0m\u001B[1;33m-\u001B[0m\u001B[1;36m1\u001B[0m\u001B[1;33m)\u001B[0m\u001B[1;33m]\u001B[0m\u001B[1;33m\u001B[0m\u001B[1;33m\u001B[0m\u001B[0m\n",
      "\u001B[1;32m~\\Documents\\GitHub\\ANN_Project\\code\\tic_env.py\u001B[0m in \u001B[0;36mwin\u001B[1;34m(self, grid, val)\u001B[0m\n\u001B[0;32m    241\u001B[0m             \u001B[0mgrid_\u001B[0m \u001B[1;33m=\u001B[0m \u001B[0mnp\u001B[0m\u001B[1;33m.\u001B[0m\u001B[0mcopy\u001B[0m\u001B[1;33m(\u001B[0m\u001B[0mgrid\u001B[0m\u001B[1;33m)\u001B[0m\u001B[1;33m\u001B[0m\u001B[1;33m\u001B[0m\u001B[0m\n\u001B[0;32m    242\u001B[0m             \u001B[0mgrid_\u001B[0m\u001B[1;33m[\u001B[0m\u001B[0mpos\u001B[0m\u001B[1;33m]\u001B[0m \u001B[1;33m=\u001B[0m \u001B[0mval\u001B[0m\u001B[1;33m\u001B[0m\u001B[1;33m\u001B[0m\u001B[0m\n\u001B[1;32m--> 243\u001B[1;33m             \u001B[1;32mif\u001B[0m \u001B[0mself\u001B[0m\u001B[1;33m.\u001B[0m\u001B[0mcheckWin\u001B[0m\u001B[1;33m(\u001B[0m\u001B[0mgrid_\u001B[0m\u001B[1;33m,\u001B[0m \u001B[0mval\u001B[0m\u001B[1;33m)\u001B[0m\u001B[1;33m:\u001B[0m\u001B[1;33m\u001B[0m\u001B[1;33m\u001B[0m\u001B[0m\n\u001B[0m\u001B[0;32m    244\u001B[0m                 \u001B[0mtowin\u001B[0m\u001B[1;33m.\u001B[0m\u001B[0mappend\u001B[0m\u001B[1;33m(\u001B[0m\u001B[0mpos\u001B[0m\u001B[1;33m)\u001B[0m\u001B[1;33m\u001B[0m\u001B[1;33m\u001B[0m\u001B[0m\n\u001B[0;32m    245\u001B[0m \u001B[1;33m\u001B[0m\u001B[0m\n",
      "\u001B[1;32m~\\Documents\\GitHub\\ANN_Project\\code\\tic_env.py\u001B[0m in \u001B[0;36mcheckWin\u001B[1;34m(self, grid, val)\u001B[0m\n\u001B[0;32m    315\u001B[0m             \u001B[1;32mreturn\u001B[0m \u001B[1;32mTrue\u001B[0m\u001B[1;33m\u001B[0m\u001B[1;33m\u001B[0m\u001B[0m\n\u001B[0;32m    316\u001B[0m         \u001B[1;31m# check diagonals\u001B[0m\u001B[1;33m\u001B[0m\u001B[1;33m\u001B[0m\u001B[1;33m\u001B[0m\u001B[0m\n\u001B[1;32m--> 317\u001B[1;33m         \u001B[1;32melif\u001B[0m \u001B[0mgrid\u001B[0m\u001B[1;33m[\u001B[0m\u001B[1;33m[\u001B[0m\u001B[1;36m0\u001B[0m\u001B[1;33m,\u001B[0m \u001B[1;36m1\u001B[0m\u001B[1;33m,\u001B[0m \u001B[1;36m2\u001B[0m\u001B[1;33m]\u001B[0m\u001B[1;33m,\u001B[0m \u001B[1;33m[\u001B[0m\u001B[1;36m0\u001B[0m\u001B[1;33m,\u001B[0m \u001B[1;36m1\u001B[0m\u001B[1;33m,\u001B[0m \u001B[1;36m2\u001B[0m\u001B[1;33m]\u001B[0m\u001B[1;33m]\u001B[0m\u001B[1;33m.\u001B[0m\u001B[0msum\u001B[0m\u001B[1;33m(\u001B[0m\u001B[1;33m)\u001B[0m \u001B[1;33m==\u001B[0m \u001B[0mtarget\u001B[0m \u001B[1;32mor\u001B[0m \u001B[0mgrid\u001B[0m\u001B[1;33m[\u001B[0m\u001B[1;33m[\u001B[0m\u001B[1;36m0\u001B[0m\u001B[1;33m,\u001B[0m \u001B[1;36m1\u001B[0m\u001B[1;33m,\u001B[0m \u001B[1;36m2\u001B[0m\u001B[1;33m]\u001B[0m\u001B[1;33m,\u001B[0m \u001B[1;33m[\u001B[0m\u001B[1;36m2\u001B[0m\u001B[1;33m,\u001B[0m \u001B[1;36m1\u001B[0m\u001B[1;33m,\u001B[0m \u001B[1;36m0\u001B[0m\u001B[1;33m]\u001B[0m\u001B[1;33m]\u001B[0m\u001B[1;33m.\u001B[0m\u001B[0msum\u001B[0m\u001B[1;33m(\u001B[0m\u001B[1;33m)\u001B[0m \u001B[1;33m==\u001B[0m \u001B[0mtarget\u001B[0m\u001B[1;33m:\u001B[0m\u001B[1;33m\u001B[0m\u001B[1;33m\u001B[0m\u001B[0m\n\u001B[0m\u001B[0;32m    318\u001B[0m             \u001B[1;32mreturn\u001B[0m \u001B[1;32mTrue\u001B[0m\u001B[1;33m\u001B[0m\u001B[1;33m\u001B[0m\u001B[0m\n\u001B[0;32m    319\u001B[0m         \u001B[1;32melse\u001B[0m\u001B[1;33m:\u001B[0m\u001B[1;33m\u001B[0m\u001B[1;33m\u001B[0m\u001B[0m\n",
      "\u001B[1;31mKeyboardInterrupt\u001B[0m: "
     ]
    }
   ],
   "source": [
    "env = TictactoeEnv()\n",
    "\n",
    "# Hyper-parameters\n",
    "alpha = 0.05    # Learning rate\n",
    "gamma = 0.99    # Discount factor\n",
    "epsilon_opt = 0.5   # Optimal player's epsilon\n",
    "num_episodes = 20000\n",
    "epsilon_exploration = 0.01\n",
    "\n",
    "Q, stats = q_learning(env, epsilon_exploration=epsilon_exploration, num_episodes=num_episodes, verbose=True)"
   ]
  },
  {
   "cell_type": "code",
   "execution_count": null,
   "metadata": {
    "pycharm": {
     "name": "#%%\n"
    }
   },
   "outputs": [],
   "source": [
    "# Plotting the average reward for every 250 games during training\n",
    "running_average_rewards, x = running_average(stats['rewards'])\n",
    "plt.plot(x, running_average_rewards)\n",
    "plt.ylim([-1,1])\n",
    "plt.xlabel('Episode')\n",
    "plt.ylabel('Reward')\n",
    "plt.title('Average reward during training')\n",
    "plt.show()\n",
    "\n",
    "# Comparing the performance with the optimal player and the random player\n",
    "turns = np.array(['X','O'])\n",
    "player_opt = OptimalPlayer(epsilon=0.)\n",
    "player_rand = OptimalPlayer(epsilon=1.)\n",
    "\n",
    "names = ['Optimal', 'Random', 'Trained']\n",
    "players = [OptimalPlayer(epsilon=0.), OptimalPlayer(epsilon=1.), QPlayer(Q=Q)]\n",
    "\n",
    "for (name, player) in zip(names, players):\n",
    "    print(\"\\n-----\", name, \" player-----\")\n",
    "    m_opt = measure_performance(player, player_opt)\n",
    "    print(\"M_opt = \", m_opt)\n",
    "    m_rand = measure_performance(player, player_rand)\n",
    "    print(\"M_rand = \", m_rand)"
   ]
  },
  {
   "cell_type": "markdown",
   "metadata": {
    "pycharm": {
     "name": "#%% md\n"
    }
   },
   "source": [
    "#### 2.1.1 Decreasing exploration"
   ]
  },
  {
   "cell_type": "code",
   "execution_count": null,
   "metadata": {
    "pycharm": {
     "name": "#%%\n"
    }
   },
   "outputs": [],
   "source": [
    "test_freq = 250\n",
    "epsilon_min = 0.1\n",
    "epsilon_max = 0.8\n",
    "vec_n_star = np.hstack((np.array([1, 100, 500, 750]), np.round(np.logspace(3, np.log10(40000), 16))))\n",
    "print(vec_n_star)\n",
    "stats_dict_nstar = {}\n",
    "for n_star in vec_n_star:\n",
    "    print(\"------------- Training with n_star =\", n_star, \"-------------\")\n",
    "    def epsilon_exploration_rule(n):\n",
    "        return np.max([epsilon_min, epsilon_max * (1 - n/n_star)])\n",
    "    start = time.time()\n",
    "    Q, stats = q_learning(env, epsilon_exploration_rule=epsilon_exploration_rule, test_freq=test_freq)\n",
    "    M_opt = measure_performance(QPlayer(Q=Q), OptimalPlayer(epsilon=0.), num_episodes=2000)\n",
    "    M_rand = measure_performance(QPlayer(Q=Q), OptimalPlayer(epsilon=1.), num_episodes=2000)\n",
    "    print(\"M_opt =\", M_opt)\n",
    "    print(\"M_rand =\", M_rand)\n",
    "    stats_dict_nstar.update({n_star: (stats, M_opt, M_rand)})\n",
    "    elapsed = time.time() - start\n",
    "    print(\"Training with n_star =\", n_star, \" took:\", time.strftime(\"%Hh%Mm%Ss\", time.gmtime(elapsed)), \"\\n\\n\")\n",
    "\n",
    "if save_stats:\n",
    "    output_folder = os.path.join(os.getcwd(), 'results')\n",
    "    os.makedirs(output_folder, exist_ok=True)\n",
    "    fname = output_folder + '/stats_dict_nstar.pkl'\n",
    "    with open(fname, 'wb') as handle:\n",
    "        pickle.dump(stats_dict_nstar, handle, protocol=pickle.HIGHEST_PROTOCOL)"
   ]
  },
  {
   "cell_type": "code",
   "execution_count": null,
   "metadata": {
    "pycharm": {
     "name": "#%%\n"
    }
   },
   "outputs": [],
   "source": [
    "def plot_stats(stats_dict, vec_var, var_name, var_legend_name, save = False):\n",
    "    fig_reward, ax_reward = plt.subplots()\n",
    "    fig_performance, ax = plt.subplots(1,2, figsize=(13.4,4.8))\n",
    "\n",
    "    for var in vec_var:\n",
    "        (stats, M_opt, M_rand) = stats_dict[var]\n",
    "        # Plot of the average reward during training\n",
    "        running_average_rewards, x_reward = running_average(stats['rewards'])\n",
    "        ax_reward.plot(x_reward, running_average_rewards, label=\"$\"+ var_legend_name +\" = \"+ str(var) +\"$\")\n",
    "        # Plot of M_opt and M_rand during training\n",
    "        x_performance = np.arange(0, len(stats['rewards'])+1, len(stats['rewards']) / (len(stats['test_Mopt']) - 1))\n",
    "        ax[0].plot(x_performance, stats['test_Mopt'], label=\"$\"+ var_legend_name +\" = \"+ str(var) +\"$\")\n",
    "        ax[1].plot(x_performance, stats['test_Mrand'], label=\"$\"+ var_legend_name +\" = \"+ str(var) +\"$\")\n",
    "        print(var_name + \" =\", var,\": \\tM_opt = \", M_opt, \"\\tM_rand = \", M_rand)\n",
    "\n",
    "    ax_reward.set_ylim([-1,1])\n",
    "    ax_reward.set_xlabel('Episode')\n",
    "    ax_reward.set_ylabel('Reward')\n",
    "    ax_reward.set_title('Average reward during training')\n",
    "    ax_reward.legend(loc='lower right')\n",
    "\n",
    "\n",
    "    ax[0].hlines(y=0, xmin=x[0], xmax=x[-1], color='r', linestyle='--')\n",
    "    ax[0].set_ylim([-1,0.1])\n",
    "    ax[0].set_xlabel('Episode')\n",
    "    ax[0].set_ylabel('$M_{opt}$')\n",
    "    ax[0].set_title('$M_{opt}$ during training')\n",
    "    ax[0].legend(loc='lower right')\n",
    "\n",
    "    ax[1].set_ylim([-1,1])\n",
    "    ax[1].set_xlabel('Episode')\n",
    "    ax[1].set_ylabel('$M_{rand}$')\n",
    "    ax[1].set_title('$M_{rand}$ during training')\n",
    "    ax[1].legend(loc='lower right')\n",
    "    plt.show()\n",
    "    if save:\n",
    "        output_folder = os.path.join(os.getcwd(), 'figures')\n",
    "        os.makedirs(output_folder, exist_ok=True)\n",
    "        fig_performance.savefig(output_folder + '/performance_'+var_name+'.png')\n",
    "        fig_reward.savefig(output_folder + '/rewards_'+var_name+'.png')"
   ]
  },
  {
   "cell_type": "code",
   "execution_count": null,
   "metadata": {
    "pycharm": {
     "name": "#%%\n"
    }
   },
   "outputs": [],
   "source": [
    "plot_n_star = vec_n_star\n",
    "plot_stats(stats_dict_nstar, plot_n_star, 'n_star', \"n^{\\star}\", save=save_figs)"
   ]
  },
  {
   "cell_type": "markdown",
   "metadata": {
    "pycharm": {
     "name": "#%% md\n"
    }
   },
   "source": [
    "#### 2.1.2 Good experts and bad experts"
   ]
  },
  {
   "cell_type": "code",
   "execution_count": null,
   "metadata": {
    "pycharm": {
     "name": "#%%\n"
    }
   },
   "outputs": [],
   "source": [
    "n_star = 4000 # this should be picked from before not inserted manually\n",
    "#vec_epsilon_opt = [0, 0.3, 0.5, 0.7, 1]\n",
    "M = 10 # how much we want to stratify [0, 1]\n",
    "# a reasonable choice for the epsilon vector here to me is\n",
    "vec_epsilon_opt = np.hstack([np.array([0]), st.uniform.rvs(loc=np.arange(M) / M, scale=1/M), np.array([1])])\n",
    "print(vec_epsilon_opt)\n",
    "stats_dict_epsilon_opt = {}\n",
    "for epsilon_opt in vec_epsilon_opt:\n",
    "    print(\"------------- Training with epsilon_opt =\", epsilon_opt, \"-------------\")\n",
    "    start = time.time()\n",
    "    Q, stats = q_learning(env, epsilon_opt=epsilon_opt, test_freq=test_freq)\n",
    "    M_opt = measure_performance(QPlayer(Q=Q), OptimalPlayer(epsilon=0.), num_episodes=2000)\n",
    "    M_rand = measure_performance(QPlayer(Q=Q), OptimalPlayer(epsilon=1.), num_episodes=2000)\n",
    "    print(\"M_opt =\", M_opt)\n",
    "    print(\"M_rand =\", M_rand)\n",
    "    stats_dict_epsilon_opt.update({epsilon_opt: (stats, M_opt, M_rand)})\n",
    "    elapsed = time.time() - start\n",
    "    print(\"Training with epsilon_opt =\", epsilon_opt, \" took:\", time.strftime(\"%Hh%Mm%Ss\", time.gmtime(elapsed)))\n",
    "\n",
    "if save_stats:\n",
    "    output_folder = os.path.join(os.getcwd(), 'results')\n",
    "    os.makedirs(output_folder, exist_ok=True)\n",
    "    fname = output_folder + '/stats_dict_epsilon_opt.pkl'\n",
    "    with open(fname, 'wb') as handle:\n",
    "        pickle.dump(stats_dict_epsilon_opt, handle, protocol=pickle.HIGHEST_PROTOCOL)"
   ]
  },
  {
   "cell_type": "code",
   "execution_count": null,
   "metadata": {
    "pycharm": {
     "name": "#%%\n"
    }
   },
   "outputs": [],
   "source": [
    "plot_epsilon_opt = vec_epsilon_opt\n",
    "plot_stats(stats_dict_epsilon_opt, plot_epsilon_opt, \"epsilon_opt\", \"\\epsilon_{opt}\", save=save_figs)"
   ]
  },
  {
   "cell_type": "markdown",
   "metadata": {
    "pycharm": {
     "name": "#%% md\n"
    }
   },
   "source": [
    "### 2.2 Learning by self-practice"
   ]
  },
  {
   "cell_type": "code",
   "execution_count": 46,
   "outputs": [],
   "source": [
    "def q_learning_self_practice(env, alpha = 0.5, gamma = 0.99, num_episodes = 20000, epsilon_exploration = 0.1,\n",
    "                             epsilon_exploration_rule = None, test_freq = None, verbose = False):\n",
    "    \"\"\"\n",
    "    TODO\n",
    "    \"\"\"\n",
    "    turns = np.array(['X','O'])\n",
    "    # Q-values map\n",
    "    # Dictionary that maps the np.ndarray.tobyte() representation of the grid to an array of action values\n",
    "    Q = defaultdict(lambda: np.zeros(9))    # All Q-values are initialized to 0\n",
    "    # Stats of training\n",
    "    episode_rewards = np.empty(num_episodes)\n",
    "    # Stats of training\n",
    "    episode_Mopt = [measure_performance(QPlayer(Q=Q), OptimalPlayer(epsilon=0.))]\n",
    "    episode_Mrand = [measure_performance(QPlayer(Q=Q), OptimalPlayer(epsilon=1.))]\n",
    "    if verbose:\n",
    "                print('Episode  0 :\\tM_opt = ', episode_Mopt[0], '\\tM_rand = ', episode_Mrand[0])\n",
    "    # Rule for exploration\n",
    "    if epsilon_exploration_rule is None:\n",
    "        def epsilon_exploration_rule(n):\n",
    "            return epsilon_exploration\n",
    "\n",
    "    for itr in range(num_episodes):\n",
    "        my_player = turns[itr % 2]\n",
    "        env.reset()\n",
    "        state, _, _ = env.observe()\n",
    "        # First two turns outside the loop (at least five turns are played)\n",
    "        action = epsilon_greedy_action(state, Q, epsilon_exploration_rule(itr + 1))\n",
    "        state_adv, _, _ = env.step(action)\n",
    "        action_adv = epsilon_greedy_action(state_adv, Q, epsilon_exploration_rule(itr + 1))\n",
    "        while not env.end:\n",
    "            # Adversarial turn\n",
    "            state_adv, _, _ = env.observe()\n",
    "            reward = - env.reward(player=env.current_player)    # Reward of the player who made the last move\n",
    "            next_state, _, _ = env.step(action_adv)\n",
    "            # Player's turn\n",
    "            if not env.end:\n",
    "                next_action = epsilon_greedy_action(next_state, Q, epsilon_exploration_rule(itr + 1))\n",
    "                target = reward + gamma * Q[encode_state(next_state)][next_action]\n",
    "            else:   # action_adv is the one that makes the game end\n",
    "                reward = - env.reward(player=env.current_player)    # reward of the player who made the game end, i.e. the adversary of the current player\n",
    "                # Update for the adversary of the current player\n",
    "                Q[encode_state(state_adv)][action_adv] += alpha * reward\n",
    "                # Target for the current player\n",
    "                target = - reward + gamma * Q[encode_state(next_state)][next_action]\n",
    "            Q[encode_state(state)][action] += alpha * (target - Q[encode_state(state)][action])\n",
    "\n",
    "            # Preparing for the next iteration\n",
    "            action = action_adv\n",
    "            state = state_adv\n",
    "            action_adv = next_action\n",
    "\n",
    "\n",
    "        episode_rewards[itr] = env.reward(player=my_player)\n",
    "        # Testing the performance\n",
    "        if (test_freq is not None) and ((itr+1)%test_freq == 0):\n",
    "            M_opt = measure_performance(QPlayer(Q=Q), OptimalPlayer(epsilon=0.))\n",
    "            M_rand = measure_performance(QPlayer(Q=Q), OptimalPlayer(epsilon=1.))\n",
    "            episode_Mopt.append(M_opt)\n",
    "            episode_Mrand.append(M_rand)\n",
    "            if verbose:\n",
    "                print('Episode ', itr+1, ':\\tM_opt = ', M_opt, '\\tM_rand = ', M_rand)\n",
    "    # Dictionary of stats\n",
    "\n",
    "\n",
    "    stats = {\n",
    "        'rewards': episode_rewards,\n",
    "        'test_Mopt': episode_Mopt,\n",
    "        'test_Mrand': episode_Mrand,\n",
    "    }\n",
    "    return Q, stats"
   ],
   "metadata": {
    "collapsed": false,
    "pycharm": {
     "name": "#%%\n"
    }
   }
  },
  {
   "cell_type": "markdown",
   "metadata": {},
   "source": [
    "#### Question 7: Fixed $\\epsilon$ first"
   ]
  },
  {
   "cell_type": "code",
   "execution_count": 47,
   "metadata": {
    "scrolled": false
   },
   "outputs": [
    {
     "name": "stdout",
     "output_type": "stream",
     "text": [
      "------------- Training with epsilon = 0.1 -------------\n",
      "Episode  0 :\tM_opt =  -0.922 \tM_rand =  0.026\n",
      "Episode  250 :\tM_opt =  -0.932 \tM_rand =  0.19\n",
      "Episode  500 :\tM_opt =  -0.848 \tM_rand =  0.232\n",
      "Episode  750 :\tM_opt =  -0.912 \tM_rand =  0.216\n",
      "Episode  1000 :\tM_opt =  -0.954 \tM_rand =  0.04\n",
      "Episode  1250 :\tM_opt =  -0.946 \tM_rand =  0.44\n",
      "Episode  1500 :\tM_opt =  -0.942 \tM_rand =  0.4\n",
      "Episode  1750 :\tM_opt =  -0.432 \tM_rand =  0.51\n",
      "Episode  2000 :\tM_opt =  -0.77 \tM_rand =  0.49\n",
      "Episode  2250 :\tM_opt =  -0.774 \tM_rand =  0.412\n",
      "Episode  2500 :\tM_opt =  -0.826 \tM_rand =  0.438\n",
      "Episode  2750 :\tM_opt =  -0.6 \tM_rand =  0.616\n",
      "Episode  3000 :\tM_opt =  -0.45 \tM_rand =  0.6\n",
      "Episode  3250 :\tM_opt =  -0.478 \tM_rand =  0.576\n",
      "Episode  3500 :\tM_opt =  -0.562 \tM_rand =  0.588\n",
      "Episode  3750 :\tM_opt =  -0.466 \tM_rand =  0.678\n",
      "Episode  4000 :\tM_opt =  -0.734 \tM_rand =  0.776\n",
      "Episode  4250 :\tM_opt =  -0.744 \tM_rand =  0.678\n",
      "Episode  4500 :\tM_opt =  -0.262 \tM_rand =  0.782\n",
      "Episode  4750 :\tM_opt =  -0.224 \tM_rand =  0.766\n",
      "Episode  5000 :\tM_opt =  -0.398 \tM_rand =  0.762\n",
      "Episode  5250 :\tM_opt =  -0.522 \tM_rand =  0.626\n",
      "Episode  5500 :\tM_opt =  -0.414 \tM_rand =  0.606\n",
      "Episode  5750 :\tM_opt =  -0.072 \tM_rand =  0.784\n",
      "Episode  6000 :\tM_opt =  -0.194 \tM_rand =  0.794\n",
      "Episode  6250 :\tM_opt =  -0.104 \tM_rand =  0.812\n",
      "Episode  6500 :\tM_opt =  -0.104 \tM_rand =  0.872\n",
      "Episode  6750 :\tM_opt =  -0.108 \tM_rand =  0.854\n",
      "Episode  7000 :\tM_opt =  -0.072 \tM_rand =  0.746\n",
      "Episode  7250 :\tM_opt =  -0.088 \tM_rand =  0.748\n",
      "Episode  7500 :\tM_opt =  -0.584 \tM_rand =  0.88\n",
      "Episode  7750 :\tM_opt =  -0.396 \tM_rand =  0.76\n",
      "Episode  8000 :\tM_opt =  -0.47 \tM_rand =  0.838\n",
      "Episode  8250 :\tM_opt =  -0.46 \tM_rand =  0.868\n",
      "Episode  8500 :\tM_opt =  -0.402 \tM_rand =  0.78\n",
      "Episode  8750 :\tM_opt =  -0.428 \tM_rand =  0.806\n",
      "Episode  9000 :\tM_opt =  -0.45 \tM_rand =  0.82\n",
      "Episode  9250 :\tM_opt =  -0.412 \tM_rand =  0.872\n",
      "Episode  9500 :\tM_opt =  -0.348 \tM_rand =  0.842\n",
      "Episode  9750 :\tM_opt =  -0.334 \tM_rand =  0.834\n",
      "Episode  10000 :\tM_opt =  -0.414 \tM_rand =  0.848\n",
      "Episode  10250 :\tM_opt =  -0.25 \tM_rand =  0.832\n",
      "Episode  10500 :\tM_opt =  -0.254 \tM_rand =  0.838\n",
      "Episode  10750 :\tM_opt =  -0.354 \tM_rand =  0.842\n",
      "Episode  11000 :\tM_opt =  -0.246 \tM_rand =  0.902\n",
      "Episode  11250 :\tM_opt =  -0.098 \tM_rand =  0.884\n",
      "Episode  11500 :\tM_opt =  -0.288 \tM_rand =  0.864\n",
      "Episode  11750 :\tM_opt =  -0.198 \tM_rand =  0.912\n",
      "Episode  12000 :\tM_opt =  -0.208 \tM_rand =  0.876\n",
      "Episode  12250 :\tM_opt =  -0.218 \tM_rand =  0.852\n",
      "Episode  12500 :\tM_opt =  -0.252 \tM_rand =  0.832\n",
      "Episode  12750 :\tM_opt =  -0.202 \tM_rand =  0.914\n",
      "Episode  13000 :\tM_opt =  -0.136 \tM_rand =  0.864\n",
      "Episode  13250 :\tM_opt =  -0.124 \tM_rand =  0.9\n",
      "Episode  13500 :\tM_opt =  -0.234 \tM_rand =  0.856\n",
      "Episode  13750 :\tM_opt =  -0.21 \tM_rand =  0.9\n",
      "Episode  14000 :\tM_opt =  -0.324 \tM_rand =  0.918\n",
      "Episode  14250 :\tM_opt =  -0.19 \tM_rand =  0.896\n",
      "Episode  14500 :\tM_opt =  -0.112 \tM_rand =  0.916\n",
      "Episode  14750 :\tM_opt =  -0.1 \tM_rand =  0.93\n",
      "Episode  15000 :\tM_opt =  -0.108 \tM_rand =  0.91\n",
      "Episode  15250 :\tM_opt =  0.0 \tM_rand =  0.908\n",
      "Episode  15500 :\tM_opt =  -0.098 \tM_rand =  0.938\n",
      "Episode  15750 :\tM_opt =  0.0 \tM_rand =  0.914\n",
      "Episode  16000 :\tM_opt =  0.0 \tM_rand =  0.922\n",
      "Episode  16250 :\tM_opt =  0.0 \tM_rand =  0.942\n",
      "Episode  16500 :\tM_opt =  0.0 \tM_rand =  0.92\n",
      "Episode  16750 :\tM_opt =  0.0 \tM_rand =  0.93\n",
      "Episode  17000 :\tM_opt =  0.0 \tM_rand =  0.92\n",
      "Episode  17250 :\tM_opt =  -0.118 \tM_rand =  0.934\n",
      "Episode  17500 :\tM_opt =  -0.086 \tM_rand =  0.928\n",
      "Episode  17750 :\tM_opt =  0.0 \tM_rand =  0.896\n",
      "Episode  18000 :\tM_opt =  0.0 \tM_rand =  0.914\n",
      "Episode  18250 :\tM_opt =  0.0 \tM_rand =  0.906\n",
      "Episode  18500 :\tM_opt =  -0.298 \tM_rand =  0.924\n",
      "Episode  18750 :\tM_opt =  -0.316 \tM_rand =  0.876\n",
      "Episode  19000 :\tM_opt =  -0.302 \tM_rand =  0.9\n",
      "Episode  19250 :\tM_opt =  -0.296 \tM_rand =  0.922\n",
      "Episode  19500 :\tM_opt =  -0.19 \tM_rand =  0.934\n",
      "Episode  19750 :\tM_opt =  0.0 \tM_rand =  0.922\n",
      "Episode  20000 :\tM_opt =  0.0 \tM_rand =  0.942\n",
      "M_opt = 0.0\n",
      "M_rand = 0.931\n"
     ]
    }
   ],
   "source": [
    "env = TictactoeEnv()\n",
    "\n",
    "# Hyper-parameters\n",
    "alpha = 0.05    # Learning rate\n",
    "gamma = 0.99    # Discount factor\n",
    "epsilon_vec = [0.1]\n",
    "stats_dict_eps_self = {}\n",
    "for epsilon in epsilon_vec:\n",
    "    print(\"------------- Training with epsilon =\", epsilon, \"-------------\")\n",
    "    Q, stats = q_learning_self_practice(env, num_episodes=num_episodes,\n",
    "                        epsilon_exploration=epsilon, test_freq = 250, verbose=True)\n",
    "    M_opt = measure_performance(QPlayer(Q=Q), OptimalPlayer(epsilon=0.), num_episodes=2000)\n",
    "    M_rand = measure_performance(QPlayer(Q=Q), OptimalPlayer(epsilon=1.), num_episodes=2000)\n",
    "    print(\"M_opt =\", M_opt)\n",
    "    print(\"M_rand =\", M_rand)\n",
    "    stats_dict_eps_self.update({epsilon: (stats, M_opt, M_rand)})\n",
    "\n",
    "if save_stats:\n",
    "    output_folder = os.path.join(os.getcwd(), 'results')\n",
    "    os.makedirs(output_folder, exist_ok=True)\n",
    "    fname = output_folder + '/stats_dict_eps_self.pkl'\n",
    "    with open(fname, 'wb') as handle:\n",
    "        pickle.dump(stats_dict_eps_self, handle, protocol=pickle.HIGHEST_PROTOCOL)"
   ]
  },
  {
   "cell_type": "code",
   "execution_count": 48,
   "outputs": [
    {
     "name": "stdout",
     "output_type": "stream",
     "text": [
      "epsilon = 0.1 : \tM_opt =  0.0 \tM_rand =  0.931\n"
     ]
    },
    {
     "data": {
      "text/plain": "<Figure size 432x288 with 1 Axes>",
      "image/png": "[encoded data removed]"
     },
     "metadata": {
      "needs_background": "light"
     },
     "output_type": "display_data"
    },
    {
     "data": {
      "text/plain": "<Figure size 964.8x345.6 with 2 Axes>",
      "image/png": "[encoded data removed]"
     },
     "metadata": {
      "needs_background": "light"
     },
     "output_type": "display_data"
    }
   ],
   "source": [
    "plot_stats(stats_dict_eps_self, epsilon_vec, \"epsilon_self\", \"\\epsilon\", save=save_figs)"
   ],
   "metadata": {
    "collapsed": false,
    "pycharm": {
     "name": "#%%\n"
    }
   }
  },
  {
   "cell_type": "markdown",
   "metadata": {},
   "source": [
    "#### Question 8: Changing exploration rule, $\\epsilon$ decay"
   ]
  },
  {
   "cell_type": "code",
   "execution_count": 49,
   "metadata": {},
   "outputs": [
    {
     "name": "stdout",
     "output_type": "stream",
     "text": [
      "------------- Training with n_star = 5000 -------------\n",
      "Episode  0 :\tM_opt =  -0.922 \tM_rand =  -0.036\n",
      "Episode  250 :\tM_opt =  -0.92 \tM_rand =  0.106\n",
      "Episode  500 :\tM_opt =  -0.942 \tM_rand =  0.046\n",
      "Episode  750 :\tM_opt =  -0.91 \tM_rand =  0.166\n",
      "Episode  1000 :\tM_opt =  -0.9 \tM_rand =  0.256\n",
      "Episode  1250 :\tM_opt =  -0.83 \tM_rand =  0.4\n",
      "Episode  1500 :\tM_opt =  -0.932 \tM_rand =  0.278\n",
      "Episode  1750 :\tM_opt =  -0.884 \tM_rand =  0.412\n",
      "Episode  2000 :\tM_opt =  -0.92 \tM_rand =  0.448\n",
      "Episode  2250 :\tM_opt =  -0.948 \tM_rand =  0.474\n",
      "Episode  2500 :\tM_opt =  -0.852 \tM_rand =  0.576\n",
      "Episode  2750 :\tM_opt =  -0.63 \tM_rand =  0.584\n",
      "Episode  3000 :\tM_opt =  -1.0 \tM_rand =  0.486\n",
      "Episode  3250 :\tM_opt =  -0.868 \tM_rand =  0.568\n",
      "Episode  3500 :\tM_opt =  -0.658 \tM_rand =  0.642\n",
      "Episode  3750 :\tM_opt =  -0.792 \tM_rand =  0.606\n",
      "Episode  4000 :\tM_opt =  -0.538 \tM_rand =  0.616\n",
      "Episode  4250 :\tM_opt =  -0.204 \tM_rand =  0.694\n",
      "Episode  4500 :\tM_opt =  -0.052 \tM_rand =  0.796\n",
      "Episode  4750 :\tM_opt =  -0.786 \tM_rand =  0.706\n",
      "Episode  5000 :\tM_opt =  -0.218 \tM_rand =  0.778\n",
      "Episode  5250 :\tM_opt =  -0.588 \tM_rand =  0.754\n",
      "Episode  5500 :\tM_opt =  -0.536 \tM_rand =  0.68\n",
      "Episode  5750 :\tM_opt =  -0.162 \tM_rand =  0.79\n",
      "Episode  6000 :\tM_opt =  -0.368 \tM_rand =  0.8\n",
      "Episode  6250 :\tM_opt =  -0.184 \tM_rand =  0.692\n",
      "Episode  6500 :\tM_opt =  -0.192 \tM_rand =  0.74\n",
      "Episode  6750 :\tM_opt =  -0.118 \tM_rand =  0.768\n",
      "Episode  7000 :\tM_opt =  0.0 \tM_rand =  0.776\n",
      "Episode  7250 :\tM_opt =  -0.398 \tM_rand =  0.856\n",
      "Episode  7500 :\tM_opt =  -0.278 \tM_rand =  0.87\n",
      "Episode  7750 :\tM_opt =  -0.516 \tM_rand =  0.752\n",
      "Episode  8000 :\tM_opt =  -0.122 \tM_rand =  0.824\n",
      "Episode  8250 :\tM_opt =  -0.466 \tM_rand =  0.818\n",
      "Episode  8500 :\tM_opt =  -0.404 \tM_rand =  0.776\n",
      "Episode  8750 :\tM_opt =  -0.212 \tM_rand =  0.772\n",
      "Episode  9000 :\tM_opt =  -0.38 \tM_rand =  0.784\n",
      "Episode  9250 :\tM_opt =  -0.182 \tM_rand =  0.872\n",
      "Episode  9500 :\tM_opt =  -0.196 \tM_rand =  0.818\n",
      "Episode  9750 :\tM_opt =  0.0 \tM_rand =  0.854\n",
      "Episode  10000 :\tM_opt =  0.0 \tM_rand =  0.888\n",
      "Episode  10250 :\tM_opt =  -0.108 \tM_rand =  0.846\n",
      "Episode  10500 :\tM_opt =  0.0 \tM_rand =  0.88\n",
      "Episode  10750 :\tM_opt =  0.0 \tM_rand =  0.888\n",
      "Episode  11000 :\tM_opt =  0.0 \tM_rand =  0.89\n",
      "Episode  11250 :\tM_opt =  0.0 \tM_rand =  0.88\n",
      "Episode  11500 :\tM_opt =  -0.12 \tM_rand =  0.876\n",
      "Episode  11750 :\tM_opt =  -0.118 \tM_rand =  0.904\n",
      "Episode  12000 :\tM_opt =  0.0 \tM_rand =  0.85\n",
      "Episode  12250 :\tM_opt =  0.0 \tM_rand =  0.778\n",
      "Episode  12500 :\tM_opt =  -0.144 \tM_rand =  0.844\n",
      "Episode  12750 :\tM_opt =  -0.106 \tM_rand =  0.884\n",
      "Episode  13000 :\tM_opt =  -0.314 \tM_rand =  0.888\n",
      "Episode  13250 :\tM_opt =  -0.22 \tM_rand =  0.842\n",
      "Episode  13500 :\tM_opt =  -0.218 \tM_rand =  0.886\n",
      "Episode  13750 :\tM_opt =  -0.228 \tM_rand =  0.842\n",
      "Episode  14000 :\tM_opt =  0.0 \tM_rand =  0.866\n",
      "Episode  14250 :\tM_opt =  0.0 \tM_rand =  0.884\n",
      "Episode  14500 :\tM_opt =  -0.128 \tM_rand =  0.848\n",
      "Episode  14750 :\tM_opt =  0.0 \tM_rand =  0.906\n",
      "Episode  15000 :\tM_opt =  0.0 \tM_rand =  0.928\n",
      "Episode  15250 :\tM_opt =  -0.088 \tM_rand =  0.88\n",
      "Episode  15500 :\tM_opt =  0.0 \tM_rand =  0.92\n",
      "Episode  15750 :\tM_opt =  0.0 \tM_rand =  0.938\n",
      "Episode  16000 :\tM_opt =  0.0 \tM_rand =  0.926\n",
      "Episode  16250 :\tM_opt =  0.0 \tM_rand =  0.922\n",
      "Episode  16500 :\tM_opt =  0.0 \tM_rand =  0.866\n",
      "Episode  16750 :\tM_opt =  0.0 \tM_rand =  0.934\n",
      "Episode  17000 :\tM_opt =  0.0 \tM_rand =  0.902\n",
      "Episode  17250 :\tM_opt =  -0.5 \tM_rand =  0.918\n",
      "Episode  17500 :\tM_opt =  -0.09 \tM_rand =  0.9\n",
      "Episode  17750 :\tM_opt =  0.0 \tM_rand =  0.918\n",
      "Episode  18000 :\tM_opt =  0.0 \tM_rand =  0.902\n",
      "Episode  18250 :\tM_opt =  -0.124 \tM_rand =  0.858\n",
      "Episode  18500 :\tM_opt =  -0.094 \tM_rand =  0.864\n",
      "Episode  18750 :\tM_opt =  -0.194 \tM_rand =  0.854\n",
      "Episode  19000 :\tM_opt =  -0.114 \tM_rand =  0.89\n",
      "Episode  19250 :\tM_opt =  0.0 \tM_rand =  0.906\n",
      "Episode  19500 :\tM_opt =  0.0 \tM_rand =  0.896\n",
      "Episode  19750 :\tM_opt =  0.0 \tM_rand =  0.9\n",
      "Episode  20000 :\tM_opt =  0.0 \tM_rand =  0.906\n",
      "M_opt = 0.0\n",
      "M_rand = 0.91\n",
      "Training with n_star = 5000  took: 00h02m40s \n",
      "\n",
      "\n"
     ]
    }
   ],
   "source": [
    "vec_n_star = [5000]\n",
    "epsilon_min = 0.1\n",
    "epsilon_max = 0.8\n",
    "stats_dict_nstar_self = {}\n",
    "for n_star in vec_n_star:\n",
    "    print(\"------------- Training with n_star =\", n_star, \"-------------\")\n",
    "    def epsilon_exploration_rule(n):\n",
    "        return np.max([epsilon_min, epsilon_max * (1 - n/n_star)])\n",
    "    start = time.time()\n",
    "    Q, stats = q_learning_self_practice(env, epsilon_exploration_rule=epsilon_exploration_rule,\n",
    "                                        test_freq=test_freq,  num_episodes=num_episodes, verbose=True)\n",
    "    M_opt = measure_performance(QPlayer(Q=Q), OptimalPlayer(epsilon=0.), num_episodes=200)\n",
    "    M_rand = measure_performance(QPlayer(Q=Q), OptimalPlayer(epsilon=1.), num_episodes=200)\n",
    "    print(\"M_opt =\", M_opt)\n",
    "    print(\"M_rand =\", M_rand)\n",
    "    stats_dict_nstar_self.update({n_star: (stats, M_opt, M_rand)})\n",
    "    elapsed = time.time() - start\n",
    "    print(\"Training with n_star =\", n_star, \"took:\", time.strftime(\"%Hh%Mm%Ss\", time.gmtime(elapsed)), \"\\n\\n\")\n",
    "\n",
    "if save_stats:\n",
    "    output_folder = os.path.join(os.getcwd(), 'results')\n",
    "    os.makedirs(output_folder, exist_ok=True)\n",
    "    fname = output_folder + '/stats_dict_nstar_self.pkl'\n",
    "    with open(fname, 'wb') as handle:\n",
    "        pickle.dump(stats_dict_nstar_self, handle, protocol=pickle.HIGHEST_PROTOCOL)"
   ]
  },
  {
   "cell_type": "code",
   "execution_count": 51,
   "outputs": [
    {
     "name": "stdout",
     "output_type": "stream",
     "text": [
      "n_star = 5000 : \tM_opt =  0.0 \tM_rand =  0.91\n"
     ]
    },
    {
     "data": {
      "text/plain": "<Figure size 432x288 with 1 Axes>",
      "image/png": "[encoded data removed]"
     },
     "metadata": {
      "needs_background": "light"
     },
     "output_type": "display_data"
    },
    {
     "data": {
      "text/plain": "<Figure size 964.8x345.6 with 2 Axes>",
      "image/png": "[encoded data removed]"
     },
     "metadata": {
      "needs_background": "light"
     },
     "output_type": "display_data"
    }
   ],
   "source": [
    "plot_stats(stats_dict_nstar_self, vec_n_star, \"n_star_self\", \"n^{\\star}\", save=save_figs)"
   ],
   "metadata": {
    "collapsed": false,
    "pycharm": {
     "name": "#%%\n"
    }
   }
  },
  {
   "cell_type": "markdown",
   "metadata": {},
   "source": [
    "#### Question 9: TODO look for optimal $M_{opt}$ and $M_{rand}$"
   ]
  },
  {
   "cell_type": "code",
   "execution_count": null,
   "metadata": {},
   "outputs": [],
   "source": [
    "### look for optimal values of M_opt and M_rand"
   ]
  },
  {
   "cell_type": "markdown",
   "metadata": {},
   "source": [
    "#### Question 10: heat maps in 3 different states"
   ]
  },
  {
   "cell_type": "code",
   "execution_count": null,
   "metadata": {},
   "outputs": [],
   "source": [
    "def heatmaps_subplots(grids, Q):\n",
    "    fig, ax = plt.subplots(1, grids.shape[0], sharex='col', figsize=(10, 5))\n",
    "    plt.subplots_adjust(wspace=0.5)\n",
    "    for i in range(grids.shape[0]):\n",
    "        df = Q[encode_state(grids[i, :])][:]\n",
    "        df = np.reshape(df, (3, 3))\n",
    "        sns.heatmap(df, annot=True, linewidths=.5, ax=ax[i])"
   ]
  },
  {
   "cell_type": "code",
   "execution_count": 53,
   "metadata": {},
   "outputs": [
    {
     "data": {
      "text/plain": "<Figure size 720x360 with 6 Axes>",
      "image/png": "[encoded data removed]"
     },
     "metadata": {
      "needs_background": "light"
     },
     "output_type": "display_data"
    }
   ],
   "source": [
    "grids = np.array([[1, 0, -1, 1, -1, 1, 1, -1, 1], [1, -1, 1, 0, 0, 1, 0, -1, -1], [0, -1, 1, 0, 0, 1, 0, 0, -1]])\n",
    "heatmaps_subplots(grids, Q)"
   ]
  },
  {
   "cell_type": "markdown",
   "metadata": {
    "pycharm": {
     "name": "#%% md\n"
    }
   },
   "source": [
    "## Deep Q-Learning"
   ]
  },
  {
   "cell_type": "code",
   "execution_count": null,
   "metadata": {},
   "outputs": [],
   "source": []
  }
 ],
 "metadata": {
  "kernelspec": {
   "display_name": "CS456",
   "language": "python",
   "name": "cs456"
  },
  "language_info": {
   "codemirror_mode": {
    "name": "ipython",
    "version": 3
   },
   "file_extension": ".py",
   "mimetype": "text/x-python",
   "name": "python",
   "nbconvert_exporter": "python",
   "pygments_lexer": "ipython3",
   "version": "3.7.11"
  }
 },
 "nbformat": 4,
 "nbformat_minor": 4
}