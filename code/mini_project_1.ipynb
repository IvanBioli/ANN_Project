{
 "cells": [
  {
   "cell_type": "code",
   "execution_count": 3,
   "metadata": {},
   "outputs": [],
   "source": [
    "import time\n",
    "import pickle\n",
    "\n",
    "import numpy as np\n",
    "\n",
    "%load_ext autoreload\n",
    "%autoreload 2\n",
    "%reload_ext autoreload\n",
    "from utils import *\n",
    "from q_learning import *"
   ]
  },
  {
   "cell_type": "code",
   "execution_count": 4,
   "metadata": {
    "pycharm": {
     "name": "#%%\n"
    }
   },
   "outputs": [],
   "source": [
    "# Configurations\n",
    "save_stats = True\n",
    "save_figs = False\n",
    "load = False\n",
    "\n",
    "seed = 0"
   ]
  },
  {
   "cell_type": "markdown",
   "metadata": {},
   "source": [
    "## 2. Q-Learning"
   ]
  },
  {
   "cell_type": "code",
   "execution_count": 5,
   "metadata": {
    "pycharm": {
     "name": "#%%\n"
    }
   },
   "outputs": [],
   "source": [
    "env = TictactoeEnv()\n",
    "\n",
    "# Hyper-parameters\n",
    "alpha = 0.05    # Learning rate\n",
    "gamma = 0.99    # Discount factor\n",
    "epsilon_opt = 0.5   # Optimal player's epsilon\n",
    "num_episodes = 20000 # number of episodes\n",
    "num_avg = 10 # training runs\n",
    "test_freq = 250"
   ]
  },
  {
   "cell_type": "markdown",
   "metadata": {
    "pycharm": {
     "name": "#%% md\n"
    }
   },
   "source": [
    "### 2.1 Learning from experts"
   ]
  },
  {
   "cell_type": "code",
   "execution_count": 6,
   "metadata": {
    "pycharm": {
     "name": "#%%\n"
    }
   },
   "outputs": [],
   "source": [
    "var_name = 'epsilon'\n",
    "epsilon_vec = [0.1]\n",
    "q_learning_params_list = []\n",
    "for eps in epsilon_vec:\n",
    "    params = {'env': env,\n",
    "              'num_episodes': num_episodes,\n",
    "              'epsilon_exploration': eps,\n",
    "              'test_freq': test_freq,\n",
    "              'against_opt': True}\n",
    "    q_learning_params_list.append(params)"
   ]
  },
  {
   "cell_type": "code",
   "execution_count": 7,
   "metadata": {
    "pycharm": {
     "name": "#%%\n"
    }
   },
   "outputs": [
    {
     "name": "stdout",
     "output_type": "stream",
     "text": [
      "************** RUN 1 OF 10 **************\n",
      "------------- Training with epsilon = 0.1 -------------\n"
     ]
    },
    {
     "ename": "KeyboardInterrupt",
     "evalue": "",
     "output_type": "error",
     "traceback": [
      "\u001B[1;31m---------------------------------------------------------------------------\u001B[0m",
      "\u001B[1;31mKeyboardInterrupt\u001B[0m                         Traceback (most recent call last)",
      "\u001B[1;32m~\\AppData\\Local\\Temp\\ipykernel_8364\\3320756072.py\u001B[0m in \u001B[0;36m<module>\u001B[1;34m\u001B[0m\n\u001B[1;32m----> 1\u001B[1;33m \u001B[0mstats_dict_eps_list\u001B[0m \u001B[1;33m=\u001B[0m \u001B[0mtrain_avg\u001B[0m\u001B[1;33m(\u001B[0m\u001B[0mvar_name\u001B[0m\u001B[1;33m,\u001B[0m \u001B[0mepsilon_vec\u001B[0m\u001B[1;33m,\u001B[0m \u001B[0mq_learning_params_list\u001B[0m\u001B[1;33m,\u001B[0m \u001B[0mnum_avg\u001B[0m\u001B[1;33m=\u001B[0m\u001B[0mnum_avg\u001B[0m\u001B[1;33m,\u001B[0m \u001B[0msave_stats\u001B[0m\u001B[1;33m=\u001B[0m\u001B[0msave_stats\u001B[0m\u001B[1;33m)\u001B[0m\u001B[1;33m\u001B[0m\u001B[1;33m\u001B[0m\u001B[0m\n\u001B[0m",
      "\u001B[1;32m~\\Documents\\GitHub\\ANN_Project\\code\\q_learning.py\u001B[0m in \u001B[0;36mtrain_avg\u001B[1;34m(var_name, var_values, q_learning_params_list, num_avg, save_stats)\u001B[0m\n\u001B[0;32m    213\u001B[0m             \u001B[0mstart\u001B[0m \u001B[1;33m=\u001B[0m \u001B[0mtime\u001B[0m\u001B[1;33m.\u001B[0m\u001B[0mtime\u001B[0m\u001B[1;33m(\u001B[0m\u001B[1;33m)\u001B[0m\u001B[1;33m\u001B[0m\u001B[1;33m\u001B[0m\u001B[0m\n\u001B[0;32m    214\u001B[0m             \u001B[0mq_learning_params\u001B[0m \u001B[1;33m=\u001B[0m \u001B[0mq_learning_params_list\u001B[0m\u001B[1;33m[\u001B[0m\u001B[0midx\u001B[0m\u001B[1;33m]\u001B[0m\u001B[1;33m\u001B[0m\u001B[1;33m\u001B[0m\u001B[0m\n\u001B[1;32m--> 215\u001B[1;33m             \u001B[0mQ\u001B[0m\u001B[1;33m,\u001B[0m \u001B[0mstats\u001B[0m \u001B[1;33m=\u001B[0m \u001B[0mq_learning\u001B[0m\u001B[1;33m(\u001B[0m\u001B[1;33m**\u001B[0m\u001B[0mq_learning_params\u001B[0m\u001B[1;33m)\u001B[0m\u001B[1;33m\u001B[0m\u001B[1;33m\u001B[0m\u001B[0m\n\u001B[0m\u001B[0;32m    216\u001B[0m             \u001B[0mM_opt\u001B[0m \u001B[1;33m=\u001B[0m \u001B[0mmeasure_performance\u001B[0m\u001B[1;33m(\u001B[0m\u001B[0mQPlayer\u001B[0m\u001B[1;33m(\u001B[0m\u001B[0mQ\u001B[0m\u001B[1;33m=\u001B[0m\u001B[0mQ\u001B[0m\u001B[1;33m)\u001B[0m\u001B[1;33m,\u001B[0m \u001B[0mOptimalPlayer\u001B[0m\u001B[1;33m(\u001B[0m\u001B[0mepsilon\u001B[0m\u001B[1;33m=\u001B[0m\u001B[1;36m0.\u001B[0m\u001B[1;33m)\u001B[0m\u001B[1;33m)\u001B[0m\u001B[1;33m\u001B[0m\u001B[1;33m\u001B[0m\u001B[0m\n\u001B[0;32m    217\u001B[0m             \u001B[0mM_rand\u001B[0m \u001B[1;33m=\u001B[0m \u001B[0mmeasure_performance\u001B[0m\u001B[1;33m(\u001B[0m\u001B[0mQPlayer\u001B[0m\u001B[1;33m(\u001B[0m\u001B[0mQ\u001B[0m\u001B[1;33m=\u001B[0m\u001B[0mQ\u001B[0m\u001B[1;33m)\u001B[0m\u001B[1;33m,\u001B[0m \u001B[0mOptimalPlayer\u001B[0m\u001B[1;33m(\u001B[0m\u001B[0mepsilon\u001B[0m\u001B[1;33m=\u001B[0m\u001B[1;36m1.\u001B[0m\u001B[1;33m)\u001B[0m\u001B[1;33m)\u001B[0m\u001B[1;33m\u001B[0m\u001B[1;33m\u001B[0m\u001B[0m\n",
      "\u001B[1;32m~\\Documents\\GitHub\\ANN_Project\\code\\q_learning.py\u001B[0m in \u001B[0;36mq_learning\u001B[1;34m(env, alpha, gamma, num_episodes, epsilon_exploration, epsilon_exploration_rule, epsilon_opt, test_freq, verbose, against_opt, self_practice)\u001B[0m\n\u001B[0;32m    195\u001B[0m     \u001B[1;32mif\u001B[0m \u001B[0magainst_opt\u001B[0m\u001B[1;33m:\u001B[0m\u001B[1;33m\u001B[0m\u001B[1;33m\u001B[0m\u001B[0m\n\u001B[0;32m    196\u001B[0m         return q_learning_against_opt(env, alpha, gamma, num_episodes, epsilon_exploration,\n\u001B[1;32m--> 197\u001B[1;33m                                       epsilon_exploration_rule,  epsilon_opt, test_freq, verbose)\n\u001B[0m\u001B[0;32m    198\u001B[0m     \u001B[1;32melse\u001B[0m\u001B[1;33m:\u001B[0m\u001B[1;33m\u001B[0m\u001B[1;33m\u001B[0m\u001B[0m\n\u001B[0;32m    199\u001B[0m         return q_learning_self_practice(env, alpha, gamma, num_episodes, epsilon_exploration,\n",
      "\u001B[1;32m~\\Documents\\GitHub\\ANN_Project\\code\\q_learning.py\u001B[0m in \u001B[0;36mq_learning_against_opt\u001B[1;34m(env, alpha, gamma, num_episodes, epsilon_exploration, epsilon_exploration_rule, epsilon_opt, test_freq, verbose)\u001B[0m\n\u001B[0;32m     78\u001B[0m         \u001B[1;31m# Testing the performance\u001B[0m\u001B[1;33m\u001B[0m\u001B[1;33m\u001B[0m\u001B[1;33m\u001B[0m\u001B[0m\n\u001B[0;32m     79\u001B[0m         \u001B[1;32mif\u001B[0m \u001B[1;33m(\u001B[0m\u001B[0mtest_freq\u001B[0m \u001B[1;32mis\u001B[0m \u001B[1;32mnot\u001B[0m \u001B[1;32mNone\u001B[0m\u001B[1;33m)\u001B[0m \u001B[1;32mand\u001B[0m \u001B[1;33m(\u001B[0m\u001B[1;33m(\u001B[0m\u001B[0mitr\u001B[0m\u001B[1;33m+\u001B[0m\u001B[1;36m1\u001B[0m\u001B[1;33m)\u001B[0m \u001B[1;33m%\u001B[0m \u001B[0mtest_freq\u001B[0m \u001B[1;33m==\u001B[0m \u001B[1;36m0\u001B[0m\u001B[1;33m)\u001B[0m\u001B[1;33m:\u001B[0m\u001B[1;33m\u001B[0m\u001B[1;33m\u001B[0m\u001B[0m\n\u001B[1;32m---> 80\u001B[1;33m             \u001B[0mM_opt\u001B[0m \u001B[1;33m=\u001B[0m \u001B[0mmeasure_performance\u001B[0m\u001B[1;33m(\u001B[0m\u001B[0mQPlayer\u001B[0m\u001B[1;33m(\u001B[0m\u001B[0mQ\u001B[0m\u001B[1;33m=\u001B[0m\u001B[0mQ\u001B[0m\u001B[1;33m)\u001B[0m\u001B[1;33m,\u001B[0m \u001B[0mOptimalPlayer\u001B[0m\u001B[1;33m(\u001B[0m\u001B[0mepsilon\u001B[0m\u001B[1;33m=\u001B[0m\u001B[1;36m0.\u001B[0m\u001B[1;33m)\u001B[0m\u001B[1;33m)\u001B[0m\u001B[1;33m\u001B[0m\u001B[1;33m\u001B[0m\u001B[0m\n\u001B[0m\u001B[0;32m     81\u001B[0m             \u001B[0mM_rand\u001B[0m \u001B[1;33m=\u001B[0m \u001B[0mmeasure_performance\u001B[0m\u001B[1;33m(\u001B[0m\u001B[0mQPlayer\u001B[0m\u001B[1;33m(\u001B[0m\u001B[0mQ\u001B[0m\u001B[1;33m=\u001B[0m\u001B[0mQ\u001B[0m\u001B[1;33m)\u001B[0m\u001B[1;33m,\u001B[0m \u001B[0mOptimalPlayer\u001B[0m\u001B[1;33m(\u001B[0m\u001B[0mepsilon\u001B[0m\u001B[1;33m=\u001B[0m\u001B[1;36m1.\u001B[0m\u001B[1;33m)\u001B[0m\u001B[1;33m)\u001B[0m\u001B[1;33m\u001B[0m\u001B[1;33m\u001B[0m\u001B[0m\n\u001B[0;32m     82\u001B[0m             \u001B[0mepisode_Mopt\u001B[0m\u001B[1;33m.\u001B[0m\u001B[0mappend\u001B[0m\u001B[1;33m(\u001B[0m\u001B[0mM_opt\u001B[0m\u001B[1;33m)\u001B[0m\u001B[1;33m\u001B[0m\u001B[1;33m\u001B[0m\u001B[0m\n",
      "\u001B[1;32m~\\Documents\\GitHub\\ANN_Project\\code\\utils.py\u001B[0m in \u001B[0;36mmeasure_performance\u001B[1;34m(player_1, player_2, num_episodes)\u001B[0m\n\u001B[0;32m     88\u001B[0m                 \u001B[0mmove\u001B[0m \u001B[1;33m=\u001B[0m \u001B[0mplayer_1\u001B[0m\u001B[1;33m.\u001B[0m\u001B[0mact\u001B[0m\u001B[1;33m(\u001B[0m\u001B[0mgrid\u001B[0m\u001B[1;33m)\u001B[0m  \u001B[1;31m# move of the first player\u001B[0m\u001B[1;33m\u001B[0m\u001B[1;33m\u001B[0m\u001B[0m\n\u001B[0;32m     89\u001B[0m             \u001B[1;32melse\u001B[0m\u001B[1;33m:\u001B[0m\u001B[1;33m\u001B[0m\u001B[1;33m\u001B[0m\u001B[0m\n\u001B[1;32m---> 90\u001B[1;33m                 \u001B[0mmove\u001B[0m \u001B[1;33m=\u001B[0m \u001B[0mplayer_2\u001B[0m\u001B[1;33m.\u001B[0m\u001B[0mact\u001B[0m\u001B[1;33m(\u001B[0m\u001B[0mgrid\u001B[0m\u001B[1;33m)\u001B[0m  \u001B[1;31m# move of the second player\u001B[0m\u001B[1;33m\u001B[0m\u001B[1;33m\u001B[0m\u001B[0m\n\u001B[0m\u001B[0;32m     91\u001B[0m             \u001B[0mgrid\u001B[0m\u001B[1;33m,\u001B[0m \u001B[0m_\u001B[0m\u001B[1;33m,\u001B[0m \u001B[0m_\u001B[0m \u001B[1;33m=\u001B[0m \u001B[0menv\u001B[0m\u001B[1;33m.\u001B[0m\u001B[0mstep\u001B[0m\u001B[1;33m(\u001B[0m\u001B[0mmove\u001B[0m\u001B[1;33m,\u001B[0m \u001B[0mprint_grid\u001B[0m\u001B[1;33m=\u001B[0m\u001B[1;32mFalse\u001B[0m\u001B[1;33m)\u001B[0m  \u001B[1;31m# updating the environment\u001B[0m\u001B[1;33m\u001B[0m\u001B[1;33m\u001B[0m\u001B[0m\n\u001B[0;32m     92\u001B[0m         \u001B[0mmeas\u001B[0m \u001B[1;33m+=\u001B[0m \u001B[0menv\u001B[0m\u001B[1;33m.\u001B[0m\u001B[0mreward\u001B[0m\u001B[1;33m(\u001B[0m\u001B[0mplayer\u001B[0m\u001B[1;33m=\u001B[0m\u001B[0mplayer_1\u001B[0m\u001B[1;33m.\u001B[0m\u001B[0mplayer\u001B[0m\u001B[1;33m)\u001B[0m  \u001B[1;31m# updating the reward of player_1\u001B[0m\u001B[1;33m\u001B[0m\u001B[1;33m\u001B[0m\u001B[0m\n",
      "\u001B[1;32m~\\Documents\\GitHub\\ANN_Project\\code\\tic_env.py\u001B[0m in \u001B[0;36mact\u001B[1;34m(self, grid, **kwargs)\u001B[0m\n\u001B[0;32m    367\u001B[0m             \u001B[1;32mreturn\u001B[0m \u001B[0mfork\u001B[0m\u001B[1;33m[\u001B[0m\u001B[0mrandom\u001B[0m\u001B[1;33m.\u001B[0m\u001B[0mrandint\u001B[0m\u001B[1;33m(\u001B[0m\u001B[1;36m0\u001B[0m\u001B[1;33m,\u001B[0m \u001B[0mlen\u001B[0m\u001B[1;33m(\u001B[0m\u001B[0mfork\u001B[0m\u001B[1;33m)\u001B[0m\u001B[1;33m-\u001B[0m\u001B[1;36m1\u001B[0m\u001B[1;33m)\u001B[0m\u001B[1;33m]\u001B[0m\u001B[1;33m\u001B[0m\u001B[1;33m\u001B[0m\u001B[0m\n\u001B[0;32m    368\u001B[0m         \u001B[1;31m# Block fork\u001B[0m\u001B[1;33m\u001B[0m\u001B[1;33m\u001B[0m\u001B[1;33m\u001B[0m\u001B[0m\n\u001B[1;32m--> 369\u001B[1;33m         \u001B[0mblock_fork\u001B[0m \u001B[1;33m=\u001B[0m \u001B[0mself\u001B[0m\u001B[1;33m.\u001B[0m\u001B[0mblockFork\u001B[0m\u001B[1;33m(\u001B[0m\u001B[0mgrid\u001B[0m\u001B[1;33m)\u001B[0m\u001B[1;33m\u001B[0m\u001B[1;33m\u001B[0m\u001B[0m\n\u001B[0m\u001B[0;32m    370\u001B[0m         \u001B[1;32mif\u001B[0m \u001B[0mblock_fork\u001B[0m\u001B[1;33m:\u001B[0m\u001B[1;33m\u001B[0m\u001B[1;33m\u001B[0m\u001B[0m\n\u001B[0;32m    371\u001B[0m             \u001B[1;32mreturn\u001B[0m \u001B[0mblock_fork\u001B[0m\u001B[1;33m[\u001B[0m\u001B[0mrandom\u001B[0m\u001B[1;33m.\u001B[0m\u001B[0mrandint\u001B[0m\u001B[1;33m(\u001B[0m\u001B[1;36m0\u001B[0m\u001B[1;33m,\u001B[0m \u001B[0mlen\u001B[0m\u001B[1;33m(\u001B[0m\u001B[0mblock_fork\u001B[0m\u001B[1;33m)\u001B[0m\u001B[1;33m-\u001B[0m\u001B[1;36m1\u001B[0m\u001B[1;33m)\u001B[0m\u001B[1;33m]\u001B[0m\u001B[1;33m\u001B[0m\u001B[1;33m\u001B[0m\u001B[0m\n",
      "\u001B[1;32m~\\Documents\\GitHub\\ANN_Project\\code\\tic_env.py\u001B[0m in \u001B[0;36mblockFork\u001B[1;34m(self, grid)\u001B[0m\n\u001B[0;32m    287\u001B[0m         \"\"\"\n\u001B[0;32m    288\u001B[0m         \u001B[0moppon_val\u001B[0m \u001B[1;33m=\u001B[0m \u001B[1;33m-\u001B[0m\u001B[1;36m1\u001B[0m \u001B[1;32mif\u001B[0m \u001B[0mself\u001B[0m\u001B[1;33m.\u001B[0m\u001B[0mplayer\u001B[0m \u001B[1;33m==\u001B[0m \u001B[1;34m'X'\u001B[0m \u001B[1;32melse\u001B[0m \u001B[1;36m1\u001B[0m\u001B[1;33m\u001B[0m\u001B[1;33m\u001B[0m\u001B[0m\n\u001B[1;32m--> 289\u001B[1;33m         \u001B[0moppon_fork\u001B[0m \u001B[1;33m=\u001B[0m \u001B[0mself\u001B[0m\u001B[1;33m.\u001B[0m\u001B[0mfork\u001B[0m\u001B[1;33m(\u001B[0m\u001B[0mgrid\u001B[0m\u001B[1;33m,\u001B[0m \u001B[0moppon_val\u001B[0m\u001B[1;33m)\u001B[0m\u001B[1;33m\u001B[0m\u001B[1;33m\u001B[0m\u001B[0m\n\u001B[0m\u001B[0;32m    290\u001B[0m         \u001B[1;32mif\u001B[0m \u001B[0mlen\u001B[0m\u001B[1;33m(\u001B[0m\u001B[0moppon_fork\u001B[0m\u001B[1;33m)\u001B[0m \u001B[1;33m<=\u001B[0m \u001B[1;36m1\u001B[0m\u001B[1;33m:\u001B[0m\u001B[1;33m\u001B[0m\u001B[1;33m\u001B[0m\u001B[0m\n\u001B[0;32m    291\u001B[0m             \u001B[1;32mreturn\u001B[0m \u001B[0moppon_fork\u001B[0m\u001B[1;33m\u001B[0m\u001B[1;33m\u001B[0m\u001B[0m\n",
      "\u001B[1;32m~\\Documents\\GitHub\\ANN_Project\\code\\tic_env.py\u001B[0m in \u001B[0;36mfork\u001B[1;34m(self, grid, val)\u001B[0m\n\u001B[0;32m    272\u001B[0m             \u001B[0mgrid_\u001B[0m \u001B[1;33m=\u001B[0m \u001B[0mnp\u001B[0m\u001B[1;33m.\u001B[0m\u001B[0mcopy\u001B[0m\u001B[1;33m(\u001B[0m\u001B[0mgrid\u001B[0m\u001B[1;33m)\u001B[0m\u001B[1;33m\u001B[0m\u001B[1;33m\u001B[0m\u001B[0m\n\u001B[0;32m    273\u001B[0m             \u001B[0mgrid_\u001B[0m\u001B[1;33m[\u001B[0m\u001B[0mpos\u001B[0m\u001B[1;33m]\u001B[0m \u001B[1;33m=\u001B[0m \u001B[0mval\u001B[0m\u001B[1;33m\u001B[0m\u001B[1;33m\u001B[0m\u001B[0m\n\u001B[1;32m--> 274\u001B[1;33m             \u001B[1;32mif\u001B[0m \u001B[0mself\u001B[0m\u001B[1;33m.\u001B[0m\u001B[0mcheckFork\u001B[0m\u001B[1;33m(\u001B[0m\u001B[0mgrid_\u001B[0m\u001B[1;33m,\u001B[0m \u001B[0mval\u001B[0m\u001B[1;33m)\u001B[0m\u001B[1;33m:\u001B[0m\u001B[1;33m\u001B[0m\u001B[1;33m\u001B[0m\u001B[0m\n\u001B[0m\u001B[0;32m    275\u001B[0m                 \u001B[0mtofork\u001B[0m\u001B[1;33m.\u001B[0m\u001B[0mappend\u001B[0m\u001B[1;33m(\u001B[0m\u001B[0mpos\u001B[0m\u001B[1;33m)\u001B[0m\u001B[1;33m\u001B[0m\u001B[1;33m\u001B[0m\u001B[0m\n\u001B[0;32m    276\u001B[0m \u001B[1;33m\u001B[0m\u001B[0m\n",
      "\u001B[1;32m~\\Documents\\GitHub\\ANN_Project\\code\\tic_env.py\u001B[0m in \u001B[0;36mcheckFork\u001B[1;34m(self, grid, val)\u001B[0m\n\u001B[0;32m    328\u001B[0m         \u001B[0mrows\u001B[0m \u001B[1;33m=\u001B[0m \u001B[1;33m(\u001B[0m\u001B[0mnp\u001B[0m\u001B[1;33m.\u001B[0m\u001B[0msum\u001B[0m\u001B[1;33m(\u001B[0m\u001B[0mgrid\u001B[0m\u001B[1;33m,\u001B[0m \u001B[0maxis\u001B[0m\u001B[1;33m=\u001B[0m\u001B[1;36m0\u001B[0m\u001B[1;33m)\u001B[0m \u001B[1;33m==\u001B[0m \u001B[0mtarget\u001B[0m\u001B[1;33m)\u001B[0m\u001B[1;33m.\u001B[0m\u001B[0msum\u001B[0m\u001B[1;33m(\u001B[0m\u001B[1;33m)\u001B[0m\u001B[1;33m\u001B[0m\u001B[1;33m\u001B[0m\u001B[0m\n\u001B[0;32m    329\u001B[0m         \u001B[0mcols\u001B[0m \u001B[1;33m=\u001B[0m \u001B[1;33m(\u001B[0m\u001B[0mnp\u001B[0m\u001B[1;33m.\u001B[0m\u001B[0msum\u001B[0m\u001B[1;33m(\u001B[0m\u001B[0mgrid\u001B[0m\u001B[1;33m,\u001B[0m \u001B[0maxis\u001B[0m\u001B[1;33m=\u001B[0m\u001B[1;36m1\u001B[0m\u001B[1;33m)\u001B[0m \u001B[1;33m==\u001B[0m \u001B[0mtarget\u001B[0m\u001B[1;33m)\u001B[0m\u001B[1;33m.\u001B[0m\u001B[0msum\u001B[0m\u001B[1;33m(\u001B[0m\u001B[1;33m)\u001B[0m\u001B[1;33m\u001B[0m\u001B[1;33m\u001B[0m\u001B[0m\n\u001B[1;32m--> 330\u001B[1;33m         \u001B[0mdiags\u001B[0m \u001B[1;33m=\u001B[0m \u001B[1;33m(\u001B[0m\u001B[0mgrid\u001B[0m\u001B[1;33m[\u001B[0m\u001B[1;33m[\u001B[0m\u001B[1;36m0\u001B[0m\u001B[1;33m,\u001B[0m \u001B[1;36m1\u001B[0m\u001B[1;33m,\u001B[0m \u001B[1;36m2\u001B[0m\u001B[1;33m]\u001B[0m\u001B[1;33m,\u001B[0m \u001B[1;33m[\u001B[0m\u001B[1;36m0\u001B[0m\u001B[1;33m,\u001B[0m \u001B[1;36m1\u001B[0m\u001B[1;33m,\u001B[0m \u001B[1;36m2\u001B[0m\u001B[1;33m]\u001B[0m\u001B[1;33m]\u001B[0m\u001B[1;33m.\u001B[0m\u001B[0msum\u001B[0m\u001B[1;33m(\u001B[0m\u001B[1;33m)\u001B[0m \u001B[1;33m==\u001B[0m \u001B[0mtarget\u001B[0m\u001B[1;33m)\u001B[0m \u001B[1;33m+\u001B[0m \u001B[1;33m(\u001B[0m\u001B[0mgrid\u001B[0m\u001B[1;33m[\u001B[0m\u001B[1;33m[\u001B[0m\u001B[1;36m0\u001B[0m\u001B[1;33m,\u001B[0m \u001B[1;36m1\u001B[0m\u001B[1;33m,\u001B[0m \u001B[1;36m2\u001B[0m\u001B[1;33m]\u001B[0m\u001B[1;33m,\u001B[0m \u001B[1;33m[\u001B[0m\u001B[1;36m2\u001B[0m\u001B[1;33m,\u001B[0m \u001B[1;36m1\u001B[0m\u001B[1;33m,\u001B[0m \u001B[1;36m0\u001B[0m\u001B[1;33m]\u001B[0m\u001B[1;33m]\u001B[0m\u001B[1;33m.\u001B[0m\u001B[0msum\u001B[0m\u001B[1;33m(\u001B[0m\u001B[1;33m)\u001B[0m \u001B[1;33m==\u001B[0m \u001B[0mtarget\u001B[0m\u001B[1;33m)\u001B[0m\u001B[1;33m\u001B[0m\u001B[1;33m\u001B[0m\u001B[0m\n\u001B[0m\u001B[0;32m    331\u001B[0m         \u001B[1;32mif\u001B[0m \u001B[1;33m(\u001B[0m\u001B[0mrows\u001B[0m \u001B[1;33m+\u001B[0m \u001B[0mcols\u001B[0m \u001B[1;33m+\u001B[0m \u001B[0mdiags\u001B[0m\u001B[1;33m)\u001B[0m \u001B[1;33m>=\u001B[0m \u001B[1;36m2\u001B[0m\u001B[1;33m:\u001B[0m\u001B[1;33m\u001B[0m\u001B[1;33m\u001B[0m\u001B[0m\n\u001B[0;32m    332\u001B[0m             \u001B[1;32mreturn\u001B[0m \u001B[1;32mTrue\u001B[0m\u001B[1;33m\u001B[0m\u001B[1;33m\u001B[0m\u001B[0m\n",
      "\u001B[1;31mKeyboardInterrupt\u001B[0m: "
     ]
    }
   ],
   "source": [
    "stats_dict_eps_list = train_avg(var_name, epsilon_vec, q_learning_params_list, num_avg=num_avg, save_stats=save_stats)"
   ]
  },
  {
   "cell_type": "code",
   "execution_count": null,
   "metadata": {
    "pycharm": {
     "name": "#%%\n"
    }
   },
   "outputs": [],
   "source": [
    "if load:\n",
    "    output_folder = os.path.join(os.getcwd(), 'results')\n",
    "    os.makedirs(output_folder, exist_ok=True)\n",
    "    fname = output_folder + '/stats_dict_eps_list.pkl'\n",
    "    with open(fname, 'rb') as handle:\n",
    "        stats_dict_eps_list = pickle.load(handle)\n",
    "\n",
    "plot_stats(stats_dict_eps_list, epsilon_vec, \"epsilon\", \"\\epsilon\", save=save_figs, std=True)"
   ]
  },
  {
   "cell_type": "markdown",
   "metadata": {},
   "source": [
    "#### Question 1: Average reward with $\\epsilon = 0.1$"
   ]
  },
  {
   "cell_type": "code",
   "execution_count": null,
   "metadata": {
    "pycharm": {
     "name": "#%%\n"
    }
   },
   "outputs": [],
   "source": [
    "epsilon_exploration = 0.1\n",
    "rewards_list = []\n",
    "for i in range(num_avg):\n",
    "    Q, stats = q_learning(env, epsilon_exploration=epsilon_exploration, num_episodes=num_episodes, verbose=False, against_opt=True)\n",
    "    rewards_list.append(stats['rewards'])"
   ]
  },
  {
   "cell_type": "code",
   "execution_count": null,
   "metadata": {
    "pycharm": {
     "name": "#%%\n"
    }
   },
   "outputs": [],
   "source": [
    "# Plotting the average reward for every 250 games during training\n",
    "running_rewards_list = []\n",
    "for reward in rewards_list:\n",
    "    running_average_rewards, x = running_average(reward)\n",
    "    running_rewards_list.append(running_average_rewards)\n",
    "\n",
    "running_average_rewards = np.mean(running_rewards_list, axis=0)\n",
    "stds = np.std(running_rewards_list, axis=0)\n",
    "fig = plt.figure()\n",
    "plt.plot(x, running_average_rewards)\n",
    "plt.fill_between(x, running_average_rewards - stds, running_average_rewards + stds, alpha=0.2)\n",
    "plt.ylim([-1,1])\n",
    "plt.xlabel('Episode')\n",
    "plt.ylabel('Reward')\n",
    "plt.title('Average reward during training')\n",
    "plt.show()\n",
    "if save_figs:\n",
    "        output_folder = os.path.join(os.getcwd(), 'figures')\n",
    "        os.makedirs(output_folder, exist_ok=True)\n",
    "        fig.savefig(output_folder + '/rewards_Q1.png')\n",
    "        fig.savefig(output_folder + '/rewards_Q1.eps', format = 'eps')\n",
    "\n",
    "# Comparing the performance with the optimal player and the random player\n",
    "turns = np.array(['X','O'])\n",
    "player_opt = OptimalPlayer(epsilon=0.)\n",
    "player_rand = OptimalPlayer(epsilon=1.)\n",
    "teacher = OptimalPlayer(epsilon=0.5)\n",
    "\n",
    "names = ['Trained', 'Optimal', 'Random']\n",
    "players = [QPlayer(Q=Q), OptimalPlayer(epsilon=0.), OptimalPlayer(epsilon=1.)]\n",
    "\n",
    "for (name, player) in zip(names, players):\n",
    "    print(\"\\n-----\", name, \" player-----\")\n",
    "    start = time.time()\n",
    "    m_opt = measure_performance(player, player_opt)\n",
    "    print(time.time() - start)\n",
    "    print(\"M_opt = \", m_opt)\n",
    "    m_rand = measure_performance(player, player_rand)\n",
    "    print(\"M_rand = \", m_rand)\n",
    "    m_teacher = measure_performance(player, teacher)\n",
    "    print(\"M_teacher = \", m_teacher)"
   ]
  },
  {
   "cell_type": "markdown",
   "metadata": {
    "pycharm": {
     "name": "#%% md\n"
    }
   },
   "source": [
    "#### Questions 2 and 3: Decreasing exploration for different values of $n^{*}$"
   ]
  },
  {
   "cell_type": "code",
   "execution_count": 8,
   "metadata": {},
   "outputs": [],
   "source": [
    "test_freq = 250\n",
    "epsilon_min = 0.1\n",
    "epsilon_max = 0.8\n",
    "vec_n_star = np.hstack((np.array([1, 100, 500, 750]), np.round(np.logspace(3, np.log10(40000), 16))))"
   ]
  },
  {
   "cell_type": "code",
   "execution_count": 9,
   "metadata": {
    "pycharm": {
     "name": "#%%\n"
    }
   },
   "outputs": [],
   "source": [
    "vec_n_star_first = vec_n_star[:10]\n",
    "var_name = 'nstar_first'\n",
    "q_learning_params_list = []\n",
    "for n_star in vec_n_star_first:\n",
    "    def epsilon_exploration_rule(n):\n",
    "        return np.max([epsilon_min, epsilon_max * (1 - n/n_star)])\n",
    "    params = {'env': env,\n",
    "              'num_episodes': num_episodes,\n",
    "              'epsilon_exploration_rule': epsilon_exploration_rule,\n",
    "              'test_freq': test_freq,\n",
    "              'against_opt': True}\n",
    "    q_learning_params_list.append(params)"
   ]
  },
  {
   "cell_type": "code",
   "execution_count": 10,
   "metadata": {},
   "outputs": [
    {
     "name": "stdout",
     "output_type": "stream",
     "text": [
      "************** RUN 1 OF 10 **************\n",
      "------------- Training with nstar_first = 1.0 -------------\n"
     ]
    },
    {
     "ename": "KeyboardInterrupt",
     "evalue": "",
     "output_type": "error",
     "traceback": [
      "\u001B[1;31m---------------------------------------------------------------------------\u001B[0m",
      "\u001B[1;31mKeyboardInterrupt\u001B[0m                         Traceback (most recent call last)",
      "\u001B[1;32m~\\AppData\\Local\\Temp\\ipykernel_8364\\370172870.py\u001B[0m in \u001B[0;36m<module>\u001B[1;34m\u001B[0m\n\u001B[1;32m----> 1\u001B[1;33m \u001B[0mstats_dict_nstar_first_list\u001B[0m \u001B[1;33m=\u001B[0m \u001B[0mtrain_avg\u001B[0m\u001B[1;33m(\u001B[0m\u001B[0mvar_name\u001B[0m\u001B[1;33m,\u001B[0m \u001B[0mvec_n_star_first\u001B[0m\u001B[1;33m,\u001B[0m \u001B[0mq_learning_params_list\u001B[0m\u001B[1;33m,\u001B[0m \u001B[0mnum_avg\u001B[0m\u001B[1;33m=\u001B[0m\u001B[0mnum_avg\u001B[0m\u001B[1;33m,\u001B[0m \u001B[0msave_stats\u001B[0m\u001B[1;33m=\u001B[0m\u001B[0msave_stats\u001B[0m\u001B[1;33m)\u001B[0m\u001B[1;33m\u001B[0m\u001B[1;33m\u001B[0m\u001B[0m\n\u001B[0m",
      "\u001B[1;32m~\\Documents\\GitHub\\ANN_Project\\code\\q_learning.py\u001B[0m in \u001B[0;36mtrain_avg\u001B[1;34m(var_name, var_values, q_learning_params_list, num_avg, save_stats)\u001B[0m\n\u001B[0;32m    213\u001B[0m             \u001B[0mstart\u001B[0m \u001B[1;33m=\u001B[0m \u001B[0mtime\u001B[0m\u001B[1;33m.\u001B[0m\u001B[0mtime\u001B[0m\u001B[1;33m(\u001B[0m\u001B[1;33m)\u001B[0m\u001B[1;33m\u001B[0m\u001B[1;33m\u001B[0m\u001B[0m\n\u001B[0;32m    214\u001B[0m             \u001B[0mq_learning_params\u001B[0m \u001B[1;33m=\u001B[0m \u001B[0mq_learning_params_list\u001B[0m\u001B[1;33m[\u001B[0m\u001B[0midx\u001B[0m\u001B[1;33m]\u001B[0m\u001B[1;33m\u001B[0m\u001B[1;33m\u001B[0m\u001B[0m\n\u001B[1;32m--> 215\u001B[1;33m             \u001B[0mQ\u001B[0m\u001B[1;33m,\u001B[0m \u001B[0mstats\u001B[0m \u001B[1;33m=\u001B[0m \u001B[0mq_learning\u001B[0m\u001B[1;33m(\u001B[0m\u001B[1;33m**\u001B[0m\u001B[0mq_learning_params\u001B[0m\u001B[1;33m)\u001B[0m\u001B[1;33m\u001B[0m\u001B[1;33m\u001B[0m\u001B[0m\n\u001B[0m\u001B[0;32m    216\u001B[0m             \u001B[0mM_opt\u001B[0m \u001B[1;33m=\u001B[0m \u001B[0mmeasure_performance\u001B[0m\u001B[1;33m(\u001B[0m\u001B[0mQPlayer\u001B[0m\u001B[1;33m(\u001B[0m\u001B[0mQ\u001B[0m\u001B[1;33m=\u001B[0m\u001B[0mQ\u001B[0m\u001B[1;33m)\u001B[0m\u001B[1;33m,\u001B[0m \u001B[0mOptimalPlayer\u001B[0m\u001B[1;33m(\u001B[0m\u001B[0mepsilon\u001B[0m\u001B[1;33m=\u001B[0m\u001B[1;36m0.\u001B[0m\u001B[1;33m)\u001B[0m\u001B[1;33m)\u001B[0m\u001B[1;33m\u001B[0m\u001B[1;33m\u001B[0m\u001B[0m\n\u001B[0;32m    217\u001B[0m             \u001B[0mM_rand\u001B[0m \u001B[1;33m=\u001B[0m \u001B[0mmeasure_performance\u001B[0m\u001B[1;33m(\u001B[0m\u001B[0mQPlayer\u001B[0m\u001B[1;33m(\u001B[0m\u001B[0mQ\u001B[0m\u001B[1;33m=\u001B[0m\u001B[0mQ\u001B[0m\u001B[1;33m)\u001B[0m\u001B[1;33m,\u001B[0m \u001B[0mOptimalPlayer\u001B[0m\u001B[1;33m(\u001B[0m\u001B[0mepsilon\u001B[0m\u001B[1;33m=\u001B[0m\u001B[1;36m1.\u001B[0m\u001B[1;33m)\u001B[0m\u001B[1;33m)\u001B[0m\u001B[1;33m\u001B[0m\u001B[1;33m\u001B[0m\u001B[0m\n",
      "\u001B[1;32m~\\Documents\\GitHub\\ANN_Project\\code\\q_learning.py\u001B[0m in \u001B[0;36mq_learning\u001B[1;34m(env, alpha, gamma, num_episodes, epsilon_exploration, epsilon_exploration_rule, epsilon_opt, test_freq, verbose, against_opt, self_practice)\u001B[0m\n\u001B[0;32m    195\u001B[0m     \u001B[1;32mif\u001B[0m \u001B[0magainst_opt\u001B[0m\u001B[1;33m:\u001B[0m\u001B[1;33m\u001B[0m\u001B[1;33m\u001B[0m\u001B[0m\n\u001B[0;32m    196\u001B[0m         return q_learning_against_opt(env, alpha, gamma, num_episodes, epsilon_exploration,\n\u001B[1;32m--> 197\u001B[1;33m                                       epsilon_exploration_rule,  epsilon_opt, test_freq, verbose)\n\u001B[0m\u001B[0;32m    198\u001B[0m     \u001B[1;32melse\u001B[0m\u001B[1;33m:\u001B[0m\u001B[1;33m\u001B[0m\u001B[1;33m\u001B[0m\u001B[0m\n\u001B[0;32m    199\u001B[0m         return q_learning_self_practice(env, alpha, gamma, num_episodes, epsilon_exploration,\n",
      "\u001B[1;32m~\\Documents\\GitHub\\ANN_Project\\code\\q_learning.py\u001B[0m in \u001B[0;36mq_learning_against_opt\u001B[1;34m(env, alpha, gamma, num_episodes, epsilon_exploration, epsilon_exploration_rule, epsilon_opt, test_freq, verbose)\u001B[0m\n\u001B[0;32m     78\u001B[0m         \u001B[1;31m# Testing the performance\u001B[0m\u001B[1;33m\u001B[0m\u001B[1;33m\u001B[0m\u001B[1;33m\u001B[0m\u001B[0m\n\u001B[0;32m     79\u001B[0m         \u001B[1;32mif\u001B[0m \u001B[1;33m(\u001B[0m\u001B[0mtest_freq\u001B[0m \u001B[1;32mis\u001B[0m \u001B[1;32mnot\u001B[0m \u001B[1;32mNone\u001B[0m\u001B[1;33m)\u001B[0m \u001B[1;32mand\u001B[0m \u001B[1;33m(\u001B[0m\u001B[1;33m(\u001B[0m\u001B[0mitr\u001B[0m\u001B[1;33m+\u001B[0m\u001B[1;36m1\u001B[0m\u001B[1;33m)\u001B[0m \u001B[1;33m%\u001B[0m \u001B[0mtest_freq\u001B[0m \u001B[1;33m==\u001B[0m \u001B[1;36m0\u001B[0m\u001B[1;33m)\u001B[0m\u001B[1;33m:\u001B[0m\u001B[1;33m\u001B[0m\u001B[1;33m\u001B[0m\u001B[0m\n\u001B[1;32m---> 80\u001B[1;33m             \u001B[0mM_opt\u001B[0m \u001B[1;33m=\u001B[0m \u001B[0mmeasure_performance\u001B[0m\u001B[1;33m(\u001B[0m\u001B[0mQPlayer\u001B[0m\u001B[1;33m(\u001B[0m\u001B[0mQ\u001B[0m\u001B[1;33m=\u001B[0m\u001B[0mQ\u001B[0m\u001B[1;33m)\u001B[0m\u001B[1;33m,\u001B[0m \u001B[0mOptimalPlayer\u001B[0m\u001B[1;33m(\u001B[0m\u001B[0mepsilon\u001B[0m\u001B[1;33m=\u001B[0m\u001B[1;36m0.\u001B[0m\u001B[1;33m)\u001B[0m\u001B[1;33m)\u001B[0m\u001B[1;33m\u001B[0m\u001B[1;33m\u001B[0m\u001B[0m\n\u001B[0m\u001B[0;32m     81\u001B[0m             \u001B[0mM_rand\u001B[0m \u001B[1;33m=\u001B[0m \u001B[0mmeasure_performance\u001B[0m\u001B[1;33m(\u001B[0m\u001B[0mQPlayer\u001B[0m\u001B[1;33m(\u001B[0m\u001B[0mQ\u001B[0m\u001B[1;33m=\u001B[0m\u001B[0mQ\u001B[0m\u001B[1;33m)\u001B[0m\u001B[1;33m,\u001B[0m \u001B[0mOptimalPlayer\u001B[0m\u001B[1;33m(\u001B[0m\u001B[0mepsilon\u001B[0m\u001B[1;33m=\u001B[0m\u001B[1;36m1.\u001B[0m\u001B[1;33m)\u001B[0m\u001B[1;33m)\u001B[0m\u001B[1;33m\u001B[0m\u001B[1;33m\u001B[0m\u001B[0m\n\u001B[0;32m     82\u001B[0m             \u001B[0mepisode_Mopt\u001B[0m\u001B[1;33m.\u001B[0m\u001B[0mappend\u001B[0m\u001B[1;33m(\u001B[0m\u001B[0mM_opt\u001B[0m\u001B[1;33m)\u001B[0m\u001B[1;33m\u001B[0m\u001B[1;33m\u001B[0m\u001B[0m\n",
      "\u001B[1;32m~\\Documents\\GitHub\\ANN_Project\\code\\utils.py\u001B[0m in \u001B[0;36mmeasure_performance\u001B[1;34m(player_1, player_2, num_episodes)\u001B[0m\n\u001B[0;32m     89\u001B[0m             \u001B[1;32melse\u001B[0m\u001B[1;33m:\u001B[0m\u001B[1;33m\u001B[0m\u001B[1;33m\u001B[0m\u001B[0m\n\u001B[0;32m     90\u001B[0m                 \u001B[0mmove\u001B[0m \u001B[1;33m=\u001B[0m \u001B[0mplayer_2\u001B[0m\u001B[1;33m.\u001B[0m\u001B[0mact\u001B[0m\u001B[1;33m(\u001B[0m\u001B[0mgrid\u001B[0m\u001B[1;33m)\u001B[0m  \u001B[1;31m# move of the second player\u001B[0m\u001B[1;33m\u001B[0m\u001B[1;33m\u001B[0m\u001B[0m\n\u001B[1;32m---> 91\u001B[1;33m             \u001B[0mgrid\u001B[0m\u001B[1;33m,\u001B[0m \u001B[0m_\u001B[0m\u001B[1;33m,\u001B[0m \u001B[0m_\u001B[0m \u001B[1;33m=\u001B[0m \u001B[0menv\u001B[0m\u001B[1;33m.\u001B[0m\u001B[0mstep\u001B[0m\u001B[1;33m(\u001B[0m\u001B[0mmove\u001B[0m\u001B[1;33m,\u001B[0m \u001B[0mprint_grid\u001B[0m\u001B[1;33m=\u001B[0m\u001B[1;32mFalse\u001B[0m\u001B[1;33m)\u001B[0m  \u001B[1;31m# updating the environment\u001B[0m\u001B[1;33m\u001B[0m\u001B[1;33m\u001B[0m\u001B[0m\n\u001B[0m\u001B[0;32m     92\u001B[0m         \u001B[0mmeas\u001B[0m \u001B[1;33m+=\u001B[0m \u001B[0menv\u001B[0m\u001B[1;33m.\u001B[0m\u001B[0mreward\u001B[0m\u001B[1;33m(\u001B[0m\u001B[0mplayer\u001B[0m\u001B[1;33m=\u001B[0m\u001B[0mplayer_1\u001B[0m\u001B[1;33m.\u001B[0m\u001B[0mplayer\u001B[0m\u001B[1;33m)\u001B[0m  \u001B[1;31m# updating the reward of player_1\u001B[0m\u001B[1;33m\u001B[0m\u001B[1;33m\u001B[0m\u001B[0m\n\u001B[0;32m     93\u001B[0m     \u001B[1;32mreturn\u001B[0m \u001B[0mmeas\u001B[0m\u001B[1;33m/\u001B[0m\u001B[0mnum_episodes\u001B[0m\u001B[1;33m\u001B[0m\u001B[1;33m\u001B[0m\u001B[0m\n",
      "\u001B[1;32m~\\Documents\\GitHub\\ANN_Project\\code\\tic_env.py\u001B[0m in \u001B[0;36mstep\u001B[1;34m(self, position, print_grid)\u001B[0m\n\u001B[0;32m     76\u001B[0m         \u001B[0mself\u001B[0m\u001B[1;33m.\u001B[0m\u001B[0mcurrent_player\u001B[0m \u001B[1;33m=\u001B[0m \u001B[1;34m'X'\u001B[0m \u001B[1;32mif\u001B[0m \u001B[0mself\u001B[0m\u001B[1;33m.\u001B[0m\u001B[0mnum_step\u001B[0m \u001B[1;33m%\u001B[0m \u001B[1;36m2\u001B[0m \u001B[1;33m==\u001B[0m \u001B[1;36m0\u001B[0m \u001B[1;32melse\u001B[0m \u001B[1;34m'O'\u001B[0m\u001B[1;33m\u001B[0m\u001B[1;33m\u001B[0m\u001B[0m\n\u001B[0;32m     77\u001B[0m         \u001B[1;31m# check whether the game ends or not\u001B[0m\u001B[1;33m\u001B[0m\u001B[1;33m\u001B[0m\u001B[1;33m\u001B[0m\u001B[0m\n\u001B[1;32m---> 78\u001B[1;33m         \u001B[0mself\u001B[0m\u001B[1;33m.\u001B[0m\u001B[0mcheckEnd\u001B[0m\u001B[1;33m(\u001B[0m\u001B[1;33m)\u001B[0m\u001B[1;33m\u001B[0m\u001B[1;33m\u001B[0m\u001B[0m\n\u001B[0m\u001B[0;32m     79\u001B[0m \u001B[1;33m\u001B[0m\u001B[0m\n\u001B[0;32m     80\u001B[0m         \u001B[1;32mif\u001B[0m \u001B[0mprint_grid\u001B[0m\u001B[1;33m:\u001B[0m\u001B[1;33m\u001B[0m\u001B[1;33m\u001B[0m\u001B[0m\n",
      "\u001B[1;32m~\\Documents\\GitHub\\ANN_Project\\code\\tic_env.py\u001B[0m in \u001B[0;36mcheckEnd\u001B[1;34m(self)\u001B[0m\n\u001B[0;32m     98\u001B[0m             \u001B[0mself\u001B[0m\u001B[1;33m.\u001B[0m\u001B[0mend\u001B[0m \u001B[1;33m=\u001B[0m \u001B[1;32mTrue\u001B[0m\u001B[1;33m\u001B[0m\u001B[1;33m\u001B[0m\u001B[0m\n\u001B[0;32m     99\u001B[0m             \u001B[0mself\u001B[0m\u001B[1;33m.\u001B[0m\u001B[0mwinner\u001B[0m \u001B[1;33m=\u001B[0m \u001B[1;34m'X'\u001B[0m\u001B[1;33m\u001B[0m\u001B[1;33m\u001B[0m\u001B[0m\n\u001B[1;32m--> 100\u001B[1;33m         \u001B[1;32melif\u001B[0m \u001B[0mself\u001B[0m\u001B[1;33m.\u001B[0m\u001B[0mgrid\u001B[0m\u001B[1;33m[\u001B[0m\u001B[1;33m[\u001B[0m\u001B[1;36m0\u001B[0m\u001B[1;33m,\u001B[0m \u001B[1;36m1\u001B[0m\u001B[1;33m,\u001B[0m \u001B[1;36m2\u001B[0m\u001B[1;33m]\u001B[0m\u001B[1;33m,\u001B[0m \u001B[1;33m[\u001B[0m\u001B[1;36m0\u001B[0m\u001B[1;33m,\u001B[0m \u001B[1;36m1\u001B[0m\u001B[1;33m,\u001B[0m \u001B[1;36m2\u001B[0m\u001B[1;33m]\u001B[0m\u001B[1;33m]\u001B[0m\u001B[1;33m.\u001B[0m\u001B[0msum\u001B[0m\u001B[1;33m(\u001B[0m\u001B[1;33m)\u001B[0m \u001B[1;33m==\u001B[0m \u001B[1;33m-\u001B[0m\u001B[1;36m3\u001B[0m \u001B[1;32mor\u001B[0m \u001B[0mself\u001B[0m\u001B[1;33m.\u001B[0m\u001B[0mgrid\u001B[0m\u001B[1;33m[\u001B[0m\u001B[1;33m[\u001B[0m\u001B[1;36m0\u001B[0m\u001B[1;33m,\u001B[0m \u001B[1;36m1\u001B[0m\u001B[1;33m,\u001B[0m \u001B[1;36m2\u001B[0m\u001B[1;33m]\u001B[0m\u001B[1;33m,\u001B[0m \u001B[1;33m[\u001B[0m\u001B[1;36m2\u001B[0m\u001B[1;33m,\u001B[0m \u001B[1;36m1\u001B[0m\u001B[1;33m,\u001B[0m \u001B[1;36m0\u001B[0m\u001B[1;33m]\u001B[0m\u001B[1;33m]\u001B[0m\u001B[1;33m.\u001B[0m\u001B[0msum\u001B[0m\u001B[1;33m(\u001B[0m\u001B[1;33m)\u001B[0m \u001B[1;33m==\u001B[0m \u001B[1;33m-\u001B[0m\u001B[1;36m3\u001B[0m\u001B[1;33m:\u001B[0m\u001B[1;33m\u001B[0m\u001B[1;33m\u001B[0m\u001B[0m\n\u001B[0m\u001B[0;32m    101\u001B[0m             \u001B[0mself\u001B[0m\u001B[1;33m.\u001B[0m\u001B[0mend\u001B[0m \u001B[1;33m=\u001B[0m \u001B[1;32mTrue\u001B[0m\u001B[1;33m\u001B[0m\u001B[1;33m\u001B[0m\u001B[0m\n\u001B[0;32m    102\u001B[0m             \u001B[0mself\u001B[0m\u001B[1;33m.\u001B[0m\u001B[0mwinner\u001B[0m \u001B[1;33m=\u001B[0m \u001B[1;34m'O'\u001B[0m\u001B[1;33m\u001B[0m\u001B[1;33m\u001B[0m\u001B[0m\n",
      "\u001B[1;31mKeyboardInterrupt\u001B[0m: "
     ]
    }
   ],
   "source": [
    "stats_dict_nstar_first_list = train_avg(var_name, vec_n_star_first, q_learning_params_list, num_avg=num_avg, save_stats=save_stats)"
   ]
  },
  {
   "cell_type": "code",
   "execution_count": 11,
   "metadata": {},
   "outputs": [],
   "source": [
    "var_name = 'nstar_second'\n",
    "vec_n_star_second = vec_n_star[10:]\n",
    "q_learning_params_list = []\n",
    "for n_star in vec_n_star_second:\n",
    "    def epsilon_exploration_rule(n):\n",
    "        return np.max([epsilon_min, epsilon_max * (1 - n/n_star)])\n",
    "    params = {'env': env,\n",
    "              'num_episodes': num_episodes,\n",
    "              'epsilon_exploration_rule': epsilon_exploration_rule,\n",
    "              'test_freq': test_freq,\n",
    "              'against_opt': True}\n",
    "    q_learning_params_list.append(params)"
   ]
  },
  {
   "cell_type": "code",
   "execution_count": 12,
   "metadata": {},
   "outputs": [
    {
     "name": "stdout",
     "output_type": "stream",
     "text": [
      "************** RUN 1 OF 10 **************\n",
      "------------- Training with nstar_second = 4373.0 -------------\n"
     ]
    },
    {
     "ename": "KeyboardInterrupt",
     "evalue": "",
     "output_type": "error",
     "traceback": [
      "\u001B[1;31m---------------------------------------------------------------------------\u001B[0m",
      "\u001B[1;31mKeyboardInterrupt\u001B[0m                         Traceback (most recent call last)",
      "\u001B[1;32m~\\AppData\\Local\\Temp\\ipykernel_8364\\3690711125.py\u001B[0m in \u001B[0;36m<module>\u001B[1;34m\u001B[0m\n\u001B[1;32m----> 1\u001B[1;33m \u001B[0mstats_dict_nstar_second_list\u001B[0m \u001B[1;33m=\u001B[0m \u001B[0mtrain_avg\u001B[0m\u001B[1;33m(\u001B[0m\u001B[0mvar_name\u001B[0m\u001B[1;33m,\u001B[0m \u001B[0mvec_n_star_second\u001B[0m\u001B[1;33m,\u001B[0m \u001B[0mq_learning_params_list\u001B[0m\u001B[1;33m,\u001B[0m \u001B[0mnum_avg\u001B[0m\u001B[1;33m=\u001B[0m\u001B[0mnum_avg\u001B[0m\u001B[1;33m,\u001B[0m \u001B[0msave_stats\u001B[0m\u001B[1;33m=\u001B[0m\u001B[0msave_stats\u001B[0m\u001B[1;33m)\u001B[0m\u001B[1;33m\u001B[0m\u001B[1;33m\u001B[0m\u001B[0m\n\u001B[0m",
      "\u001B[1;32m~\\Documents\\GitHub\\ANN_Project\\code\\q_learning.py\u001B[0m in \u001B[0;36mtrain_avg\u001B[1;34m(var_name, var_values, q_learning_params_list, num_avg, save_stats)\u001B[0m\n\u001B[0;32m    213\u001B[0m             \u001B[0mstart\u001B[0m \u001B[1;33m=\u001B[0m \u001B[0mtime\u001B[0m\u001B[1;33m.\u001B[0m\u001B[0mtime\u001B[0m\u001B[1;33m(\u001B[0m\u001B[1;33m)\u001B[0m\u001B[1;33m\u001B[0m\u001B[1;33m\u001B[0m\u001B[0m\n\u001B[0;32m    214\u001B[0m             \u001B[0mq_learning_params\u001B[0m \u001B[1;33m=\u001B[0m \u001B[0mq_learning_params_list\u001B[0m\u001B[1;33m[\u001B[0m\u001B[0midx\u001B[0m\u001B[1;33m]\u001B[0m\u001B[1;33m\u001B[0m\u001B[1;33m\u001B[0m\u001B[0m\n\u001B[1;32m--> 215\u001B[1;33m             \u001B[0mQ\u001B[0m\u001B[1;33m,\u001B[0m \u001B[0mstats\u001B[0m \u001B[1;33m=\u001B[0m \u001B[0mq_learning\u001B[0m\u001B[1;33m(\u001B[0m\u001B[1;33m**\u001B[0m\u001B[0mq_learning_params\u001B[0m\u001B[1;33m)\u001B[0m\u001B[1;33m\u001B[0m\u001B[1;33m\u001B[0m\u001B[0m\n\u001B[0m\u001B[0;32m    216\u001B[0m             \u001B[0mM_opt\u001B[0m \u001B[1;33m=\u001B[0m \u001B[0mmeasure_performance\u001B[0m\u001B[1;33m(\u001B[0m\u001B[0mQPlayer\u001B[0m\u001B[1;33m(\u001B[0m\u001B[0mQ\u001B[0m\u001B[1;33m=\u001B[0m\u001B[0mQ\u001B[0m\u001B[1;33m)\u001B[0m\u001B[1;33m,\u001B[0m \u001B[0mOptimalPlayer\u001B[0m\u001B[1;33m(\u001B[0m\u001B[0mepsilon\u001B[0m\u001B[1;33m=\u001B[0m\u001B[1;36m0.\u001B[0m\u001B[1;33m)\u001B[0m\u001B[1;33m)\u001B[0m\u001B[1;33m\u001B[0m\u001B[1;33m\u001B[0m\u001B[0m\n\u001B[0;32m    217\u001B[0m             \u001B[0mM_rand\u001B[0m \u001B[1;33m=\u001B[0m \u001B[0mmeasure_performance\u001B[0m\u001B[1;33m(\u001B[0m\u001B[0mQPlayer\u001B[0m\u001B[1;33m(\u001B[0m\u001B[0mQ\u001B[0m\u001B[1;33m=\u001B[0m\u001B[0mQ\u001B[0m\u001B[1;33m)\u001B[0m\u001B[1;33m,\u001B[0m \u001B[0mOptimalPlayer\u001B[0m\u001B[1;33m(\u001B[0m\u001B[0mepsilon\u001B[0m\u001B[1;33m=\u001B[0m\u001B[1;36m1.\u001B[0m\u001B[1;33m)\u001B[0m\u001B[1;33m)\u001B[0m\u001B[1;33m\u001B[0m\u001B[1;33m\u001B[0m\u001B[0m\n",
      "\u001B[1;32m~\\Documents\\GitHub\\ANN_Project\\code\\q_learning.py\u001B[0m in \u001B[0;36mq_learning\u001B[1;34m(env, alpha, gamma, num_episodes, epsilon_exploration, epsilon_exploration_rule, epsilon_opt, test_freq, verbose, against_opt, self_practice)\u001B[0m\n\u001B[0;32m    195\u001B[0m     \u001B[1;32mif\u001B[0m \u001B[0magainst_opt\u001B[0m\u001B[1;33m:\u001B[0m\u001B[1;33m\u001B[0m\u001B[1;33m\u001B[0m\u001B[0m\n\u001B[0;32m    196\u001B[0m         return q_learning_against_opt(env, alpha, gamma, num_episodes, epsilon_exploration,\n\u001B[1;32m--> 197\u001B[1;33m                                       epsilon_exploration_rule,  epsilon_opt, test_freq, verbose)\n\u001B[0m\u001B[0;32m    198\u001B[0m     \u001B[1;32melse\u001B[0m\u001B[1;33m:\u001B[0m\u001B[1;33m\u001B[0m\u001B[1;33m\u001B[0m\u001B[0m\n\u001B[0;32m    199\u001B[0m         return q_learning_self_practice(env, alpha, gamma, num_episodes, epsilon_exploration,\n",
      "\u001B[1;32m~\\Documents\\GitHub\\ANN_Project\\code\\q_learning.py\u001B[0m in \u001B[0;36mq_learning_against_opt\u001B[1;34m(env, alpha, gamma, num_episodes, epsilon_exploration, epsilon_exploration_rule, epsilon_opt, test_freq, verbose)\u001B[0m\n\u001B[0;32m     78\u001B[0m         \u001B[1;31m# Testing the performance\u001B[0m\u001B[1;33m\u001B[0m\u001B[1;33m\u001B[0m\u001B[1;33m\u001B[0m\u001B[0m\n\u001B[0;32m     79\u001B[0m         \u001B[1;32mif\u001B[0m \u001B[1;33m(\u001B[0m\u001B[0mtest_freq\u001B[0m \u001B[1;32mis\u001B[0m \u001B[1;32mnot\u001B[0m \u001B[1;32mNone\u001B[0m\u001B[1;33m)\u001B[0m \u001B[1;32mand\u001B[0m \u001B[1;33m(\u001B[0m\u001B[1;33m(\u001B[0m\u001B[0mitr\u001B[0m\u001B[1;33m+\u001B[0m\u001B[1;36m1\u001B[0m\u001B[1;33m)\u001B[0m \u001B[1;33m%\u001B[0m \u001B[0mtest_freq\u001B[0m \u001B[1;33m==\u001B[0m \u001B[1;36m0\u001B[0m\u001B[1;33m)\u001B[0m\u001B[1;33m:\u001B[0m\u001B[1;33m\u001B[0m\u001B[1;33m\u001B[0m\u001B[0m\n\u001B[1;32m---> 80\u001B[1;33m             \u001B[0mM_opt\u001B[0m \u001B[1;33m=\u001B[0m \u001B[0mmeasure_performance\u001B[0m\u001B[1;33m(\u001B[0m\u001B[0mQPlayer\u001B[0m\u001B[1;33m(\u001B[0m\u001B[0mQ\u001B[0m\u001B[1;33m=\u001B[0m\u001B[0mQ\u001B[0m\u001B[1;33m)\u001B[0m\u001B[1;33m,\u001B[0m \u001B[0mOptimalPlayer\u001B[0m\u001B[1;33m(\u001B[0m\u001B[0mepsilon\u001B[0m\u001B[1;33m=\u001B[0m\u001B[1;36m0.\u001B[0m\u001B[1;33m)\u001B[0m\u001B[1;33m)\u001B[0m\u001B[1;33m\u001B[0m\u001B[1;33m\u001B[0m\u001B[0m\n\u001B[0m\u001B[0;32m     81\u001B[0m             \u001B[0mM_rand\u001B[0m \u001B[1;33m=\u001B[0m \u001B[0mmeasure_performance\u001B[0m\u001B[1;33m(\u001B[0m\u001B[0mQPlayer\u001B[0m\u001B[1;33m(\u001B[0m\u001B[0mQ\u001B[0m\u001B[1;33m=\u001B[0m\u001B[0mQ\u001B[0m\u001B[1;33m)\u001B[0m\u001B[1;33m,\u001B[0m \u001B[0mOptimalPlayer\u001B[0m\u001B[1;33m(\u001B[0m\u001B[0mepsilon\u001B[0m\u001B[1;33m=\u001B[0m\u001B[1;36m1.\u001B[0m\u001B[1;33m)\u001B[0m\u001B[1;33m)\u001B[0m\u001B[1;33m\u001B[0m\u001B[1;33m\u001B[0m\u001B[0m\n\u001B[0;32m     82\u001B[0m             \u001B[0mepisode_Mopt\u001B[0m\u001B[1;33m.\u001B[0m\u001B[0mappend\u001B[0m\u001B[1;33m(\u001B[0m\u001B[0mM_opt\u001B[0m\u001B[1;33m)\u001B[0m\u001B[1;33m\u001B[0m\u001B[1;33m\u001B[0m\u001B[0m\n",
      "\u001B[1;32m~\\Documents\\GitHub\\ANN_Project\\code\\utils.py\u001B[0m in \u001B[0;36mmeasure_performance\u001B[1;34m(player_1, player_2, num_episodes)\u001B[0m\n\u001B[0;32m     88\u001B[0m                 \u001B[0mmove\u001B[0m \u001B[1;33m=\u001B[0m \u001B[0mplayer_1\u001B[0m\u001B[1;33m.\u001B[0m\u001B[0mact\u001B[0m\u001B[1;33m(\u001B[0m\u001B[0mgrid\u001B[0m\u001B[1;33m)\u001B[0m  \u001B[1;31m# move of the first player\u001B[0m\u001B[1;33m\u001B[0m\u001B[1;33m\u001B[0m\u001B[0m\n\u001B[0;32m     89\u001B[0m             \u001B[1;32melse\u001B[0m\u001B[1;33m:\u001B[0m\u001B[1;33m\u001B[0m\u001B[1;33m\u001B[0m\u001B[0m\n\u001B[1;32m---> 90\u001B[1;33m                 \u001B[0mmove\u001B[0m \u001B[1;33m=\u001B[0m \u001B[0mplayer_2\u001B[0m\u001B[1;33m.\u001B[0m\u001B[0mact\u001B[0m\u001B[1;33m(\u001B[0m\u001B[0mgrid\u001B[0m\u001B[1;33m)\u001B[0m  \u001B[1;31m# move of the second player\u001B[0m\u001B[1;33m\u001B[0m\u001B[1;33m\u001B[0m\u001B[0m\n\u001B[0m\u001B[0;32m     91\u001B[0m             \u001B[0mgrid\u001B[0m\u001B[1;33m,\u001B[0m \u001B[0m_\u001B[0m\u001B[1;33m,\u001B[0m \u001B[0m_\u001B[0m \u001B[1;33m=\u001B[0m \u001B[0menv\u001B[0m\u001B[1;33m.\u001B[0m\u001B[0mstep\u001B[0m\u001B[1;33m(\u001B[0m\u001B[0mmove\u001B[0m\u001B[1;33m,\u001B[0m \u001B[0mprint_grid\u001B[0m\u001B[1;33m=\u001B[0m\u001B[1;32mFalse\u001B[0m\u001B[1;33m)\u001B[0m  \u001B[1;31m# updating the environment\u001B[0m\u001B[1;33m\u001B[0m\u001B[1;33m\u001B[0m\u001B[0m\n\u001B[0;32m     92\u001B[0m         \u001B[0mmeas\u001B[0m \u001B[1;33m+=\u001B[0m \u001B[0menv\u001B[0m\u001B[1;33m.\u001B[0m\u001B[0mreward\u001B[0m\u001B[1;33m(\u001B[0m\u001B[0mplayer\u001B[0m\u001B[1;33m=\u001B[0m\u001B[0mplayer_1\u001B[0m\u001B[1;33m.\u001B[0m\u001B[0mplayer\u001B[0m\u001B[1;33m)\u001B[0m  \u001B[1;31m# updating the reward of player_1\u001B[0m\u001B[1;33m\u001B[0m\u001B[1;33m\u001B[0m\u001B[0m\n",
      "\u001B[1;32m~\\Documents\\GitHub\\ANN_Project\\code\\tic_env.py\u001B[0m in \u001B[0;36mact\u001B[1;34m(self, grid, **kwargs)\u001B[0m\n\u001B[0;32m    355\u001B[0m \u001B[1;33m\u001B[0m\u001B[0m\n\u001B[0;32m    356\u001B[0m         \u001B[1;31m# Win\u001B[0m\u001B[1;33m\u001B[0m\u001B[1;33m\u001B[0m\u001B[1;33m\u001B[0m\u001B[0m\n\u001B[1;32m--> 357\u001B[1;33m         \u001B[0mwin\u001B[0m \u001B[1;33m=\u001B[0m \u001B[0mself\u001B[0m\u001B[1;33m.\u001B[0m\u001B[0mwin\u001B[0m\u001B[1;33m(\u001B[0m\u001B[0mgrid\u001B[0m\u001B[1;33m)\u001B[0m\u001B[1;33m\u001B[0m\u001B[1;33m\u001B[0m\u001B[0m\n\u001B[0m\u001B[0;32m    358\u001B[0m         \u001B[1;32mif\u001B[0m \u001B[0mwin\u001B[0m\u001B[1;33m:\u001B[0m\u001B[1;33m\u001B[0m\u001B[1;33m\u001B[0m\u001B[0m\n\u001B[0;32m    359\u001B[0m             \u001B[1;32mreturn\u001B[0m \u001B[0mwin\u001B[0m\u001B[1;33m[\u001B[0m\u001B[0mrandom\u001B[0m\u001B[1;33m.\u001B[0m\u001B[0mrandint\u001B[0m\u001B[1;33m(\u001B[0m\u001B[1;36m0\u001B[0m\u001B[1;33m,\u001B[0m \u001B[0mlen\u001B[0m\u001B[1;33m(\u001B[0m\u001B[0mwin\u001B[0m\u001B[1;33m)\u001B[0m\u001B[1;33m-\u001B[0m\u001B[1;36m1\u001B[0m\u001B[1;33m)\u001B[0m\u001B[1;33m]\u001B[0m\u001B[1;33m\u001B[0m\u001B[1;33m\u001B[0m\u001B[0m\n",
      "\u001B[1;32m~\\Documents\\GitHub\\ANN_Project\\code\\tic_env.py\u001B[0m in \u001B[0;36mwin\u001B[1;34m(self, grid, val)\u001B[0m\n\u001B[0;32m    241\u001B[0m             \u001B[0mgrid_\u001B[0m \u001B[1;33m=\u001B[0m \u001B[0mnp\u001B[0m\u001B[1;33m.\u001B[0m\u001B[0mcopy\u001B[0m\u001B[1;33m(\u001B[0m\u001B[0mgrid\u001B[0m\u001B[1;33m)\u001B[0m\u001B[1;33m\u001B[0m\u001B[1;33m\u001B[0m\u001B[0m\n\u001B[0;32m    242\u001B[0m             \u001B[0mgrid_\u001B[0m\u001B[1;33m[\u001B[0m\u001B[0mpos\u001B[0m\u001B[1;33m]\u001B[0m \u001B[1;33m=\u001B[0m \u001B[0mval\u001B[0m\u001B[1;33m\u001B[0m\u001B[1;33m\u001B[0m\u001B[0m\n\u001B[1;32m--> 243\u001B[1;33m             \u001B[1;32mif\u001B[0m \u001B[0mself\u001B[0m\u001B[1;33m.\u001B[0m\u001B[0mcheckWin\u001B[0m\u001B[1;33m(\u001B[0m\u001B[0mgrid_\u001B[0m\u001B[1;33m,\u001B[0m \u001B[0mval\u001B[0m\u001B[1;33m)\u001B[0m\u001B[1;33m:\u001B[0m\u001B[1;33m\u001B[0m\u001B[1;33m\u001B[0m\u001B[0m\n\u001B[0m\u001B[0;32m    244\u001B[0m                 \u001B[0mtowin\u001B[0m\u001B[1;33m.\u001B[0m\u001B[0mappend\u001B[0m\u001B[1;33m(\u001B[0m\u001B[0mpos\u001B[0m\u001B[1;33m)\u001B[0m\u001B[1;33m\u001B[0m\u001B[1;33m\u001B[0m\u001B[0m\n\u001B[0;32m    245\u001B[0m \u001B[1;33m\u001B[0m\u001B[0m\n",
      "\u001B[1;32m~\\Documents\\GitHub\\ANN_Project\\code\\tic_env.py\u001B[0m in \u001B[0;36mcheckWin\u001B[1;34m(self, grid, val)\u001B[0m\n\u001B[0;32m    315\u001B[0m             \u001B[1;32mreturn\u001B[0m \u001B[1;32mTrue\u001B[0m\u001B[1;33m\u001B[0m\u001B[1;33m\u001B[0m\u001B[0m\n\u001B[0;32m    316\u001B[0m         \u001B[1;31m# check diagonals\u001B[0m\u001B[1;33m\u001B[0m\u001B[1;33m\u001B[0m\u001B[1;33m\u001B[0m\u001B[0m\n\u001B[1;32m--> 317\u001B[1;33m         \u001B[1;32melif\u001B[0m \u001B[0mgrid\u001B[0m\u001B[1;33m[\u001B[0m\u001B[1;33m[\u001B[0m\u001B[1;36m0\u001B[0m\u001B[1;33m,\u001B[0m \u001B[1;36m1\u001B[0m\u001B[1;33m,\u001B[0m \u001B[1;36m2\u001B[0m\u001B[1;33m]\u001B[0m\u001B[1;33m,\u001B[0m \u001B[1;33m[\u001B[0m\u001B[1;36m0\u001B[0m\u001B[1;33m,\u001B[0m \u001B[1;36m1\u001B[0m\u001B[1;33m,\u001B[0m \u001B[1;36m2\u001B[0m\u001B[1;33m]\u001B[0m\u001B[1;33m]\u001B[0m\u001B[1;33m.\u001B[0m\u001B[0msum\u001B[0m\u001B[1;33m(\u001B[0m\u001B[1;33m)\u001B[0m \u001B[1;33m==\u001B[0m \u001B[0mtarget\u001B[0m \u001B[1;32mor\u001B[0m \u001B[0mgrid\u001B[0m\u001B[1;33m[\u001B[0m\u001B[1;33m[\u001B[0m\u001B[1;36m0\u001B[0m\u001B[1;33m,\u001B[0m \u001B[1;36m1\u001B[0m\u001B[1;33m,\u001B[0m \u001B[1;36m2\u001B[0m\u001B[1;33m]\u001B[0m\u001B[1;33m,\u001B[0m \u001B[1;33m[\u001B[0m\u001B[1;36m2\u001B[0m\u001B[1;33m,\u001B[0m \u001B[1;36m1\u001B[0m\u001B[1;33m,\u001B[0m \u001B[1;36m0\u001B[0m\u001B[1;33m]\u001B[0m\u001B[1;33m]\u001B[0m\u001B[1;33m.\u001B[0m\u001B[0msum\u001B[0m\u001B[1;33m(\u001B[0m\u001B[1;33m)\u001B[0m \u001B[1;33m==\u001B[0m \u001B[0mtarget\u001B[0m\u001B[1;33m:\u001B[0m\u001B[1;33m\u001B[0m\u001B[1;33m\u001B[0m\u001B[0m\n\u001B[0m\u001B[0;32m    318\u001B[0m             \u001B[1;32mreturn\u001B[0m \u001B[1;32mTrue\u001B[0m\u001B[1;33m\u001B[0m\u001B[1;33m\u001B[0m\u001B[0m\n\u001B[0;32m    319\u001B[0m         \u001B[1;32melse\u001B[0m\u001B[1;33m:\u001B[0m\u001B[1;33m\u001B[0m\u001B[1;33m\u001B[0m\u001B[0m\n",
      "\u001B[1;31mKeyboardInterrupt\u001B[0m: "
     ]
    }
   ],
   "source": [
    "stats_dict_nstar_second_list = train_avg(var_name, vec_n_star_second, q_learning_params_list, num_avg=num_avg, save_stats=save_stats)"
   ]
  },
  {
   "cell_type": "code",
   "execution_count": null,
   "outputs": [],
   "source": [
    "# Merge\n",
    "if save_stats:\n",
    "    output_folder = os.path.join(os.getcwd(), 'results')\n",
    "    os.makedirs(output_folder, exist_ok=True)\n",
    "    fname = output_folder + '/stats_dict_nstar_first_list.pkl'\n",
    "    with open(fname, 'rb') as handle:\n",
    "        stats_dict_nstar_list = pickle.load(handle)\n",
    "    fname = output_folder + '/stats_dict_nstar_second_list.pkl'\n",
    "    with open(fname, 'rb') as handle:\n",
    "        stats_dict_nstar_list.append(pickle.load(handle))\n",
    "    fname = output_folder + '/stats_dict_nstar_list.pkl'\n",
    "    with open(fname, 'wb') as handle:\n",
    "        pickle.dump(stats_dict_nstar_list, handle, protocol=pickle.HIGHEST_PROTOCOL)"
   ],
   "metadata": {
    "collapsed": false,
    "pycharm": {
     "name": "#%%\n"
    }
   }
  },
  {
   "cell_type": "code",
   "execution_count": null,
   "metadata": {
    "pycharm": {
     "name": "#%%\n"
    }
   },
   "outputs": [],
   "source": [
    "if load:\n",
    "    output_folder = os.path.join(os.getcwd(), 'results')\n",
    "    os.makedirs(output_folder, exist_ok=True)\n",
    "    fname = output_folder + '/stats_dict_nstar_list.pkl'\n",
    "    with open(fname, 'rb') as handle:\n",
    "        stats_dict_nstar_list = pickle.load(handle)\n",
    "\n",
    "plot_n_star = [1., 24460., 40000]\n",
    "plot_stats(stats_dict_nstar_list, plot_n_star, 'n_star_first', \"n^{\\star}\", save=save_figs, decaying_exploration=True)\n",
    "\n",
    "plot_n_star = [1., 4373., 9146.]\n",
    "plot_stats(stats_dict_nstar_list, plot_n_star, 'n_star_second', \"n^{\\star}\", save=save_stats, decaying_exploration=True)\n",
    "# plot_stats(stats_dict_nstar, vec_n_star, 'n_star', \"n^{\\star}\", save=False)"
   ]
  },
  {
   "cell_type": "markdown",
   "metadata": {
    "pycharm": {
     "name": "#%% md\n"
    }
   },
   "source": [
    "#### Questions 4 and 5: Good experts and bad experts"
   ]
  },
  {
   "cell_type": "code",
   "execution_count": null,
   "metadata": {
    "pycharm": {
     "name": "#%%\n"
    }
   },
   "outputs": [],
   "source": [
    "n_star = 4000 # we pick the best according to previous experiments\n",
    "M = 11\n",
    "var_name = 'epsilon_opt'\n",
    "vec_epsilon_opt = np.linspace(0, 1, M)\n",
    "q_learning_params_list = []\n",
    "for epsilon_opt in vec_epsilon_opt:\n",
    "    def epsilon_exploration_rule(n):\n",
    "        return np.max([epsilon_min, epsilon_max * (1 - n/n_star)])\n",
    "    params = {'env': env,\n",
    "              'num_episodes': num_episodes,\n",
    "              'epsilon_exploration_rule': epsilon_exploration_rule,\n",
    "              'test_freq': 250,\n",
    "              'epsilon_opt': epsilon_opt,\n",
    "              'against_opt': True}\n",
    "    q_learning_params_list.append(params)"
   ]
  },
  {
   "cell_type": "code",
   "execution_count": null,
   "metadata": {},
   "outputs": [],
   "source": [
    "stats_dict_eps_opt_list = train_avg(var_name, vec_epsilon_opt, q_learning_params_list, num_avg=num_avg, save_stats=save_stats)"
   ]
  },
  {
   "cell_type": "code",
   "execution_count": null,
   "metadata": {
    "pycharm": {
     "name": "#%%\n"
    }
   },
   "outputs": [],
   "source": [
    "if load:\n",
    "    output_folder = os.path.join(os.getcwd(), 'results')\n",
    "    os.makedirs(output_folder, exist_ok=True)\n",
    "    fname = output_folder + '/stats_dict_epsilon_opt.pkl'\n",
    "    with open(fname, 'rb') as handle:\n",
    "        stats_dict_eps_opt_list = pickle.load(handle)\n",
    "\n",
    "plot_epsilon_opt = [0., 0.5, 1.]\n",
    "plot_stats(stats_dict_eps_opt_list, plot_epsilon_opt, \"epsilon_opt\", \"\\epsilon_{opt}\", save=save_figs)\n",
    "# plot_stats(stats_dict_epsilon_opt, vec_epsilon_opt, \"epsilon_opt\", \"\\epsilon_{opt}\", save=False)"
   ]
  },
  {
   "cell_type": "markdown",
   "metadata": {
    "pycharm": {
     "name": "#%% md\n"
    }
   },
   "source": [
    "### 2.2 Learning by self-practice"
   ]
  },
  {
   "cell_type": "markdown",
   "metadata": {},
   "source": [
    "#### Question 7: Self-learning with constant rate of exploration $\\epsilon$"
   ]
  },
  {
   "cell_type": "code",
   "execution_count": 2,
   "metadata": {
    "pycharm": {
     "name": "#%%\n"
    }
   },
   "outputs": [
    {
     "ename": "IndentationError",
     "evalue": "unindent does not match any outer indentation level (<tokenize>, line 10)",
     "output_type": "error",
     "traceback": [
      "\u001B[1;36m  File \u001B[1;32m\"<tokenize>\"\u001B[1;36m, line \u001B[1;32m10\u001B[0m\n\u001B[1;33m    q_learning_params_list.append(params)\u001B[0m\n\u001B[1;37m    ^\u001B[0m\n\u001B[1;31mIndentationError\u001B[0m\u001B[1;31m:\u001B[0m unindent does not match any outer indentation level\n"
     ]
    }
   ],
   "source": [
    "epsilon_vec = np.array([0, 0.0001, 0.0005, 0.001, 0.005, 0.01, 0.05, 0.1, 0.5, 1])\n",
    "var_name = 'eps_self'\n",
    "q_learning_params_list = []\n",
    "for eps in epsilon_vec:\n",
    "    params = {'env': env,\n",
    "              'num_episodes': num_episodes,\n",
    "              'epsilon_exploration': eps,\n",
    "              'test_freq': test_freq,\n",
    "              'self_practice': True }\n",
    "    q_learning_params_list.append(params)\n",
    "# epsilon_vec = np.hstack((epsilon_vec_plot, np.setdiff1d(np.logspace(-4, -1, 10), epsilon_vec_plot)))"
   ]
  },
  {
   "cell_type": "code",
   "execution_count": null,
   "metadata": {},
   "outputs": [],
   "source": [
    "stats_dict_eps_self_list = train_avg(var_name, epsilon_vec, q_learning_params_list, num_avg=num_avg, save_stats=save_stats)"
   ]
  },
  {
   "cell_type": "code",
   "execution_count": null,
   "metadata": {
    "pycharm": {
     "is_executing": true,
     "name": "#%%\n"
    }
   },
   "outputs": [],
   "source": [
    "if load:\n",
    "    output_folder = os.path.join(os.getcwd(), 'results')\n",
    "    os.makedirs(output_folder, exist_ok=True)\n",
    "    fname = output_folder + '/stats_dict_eps_self.pkl'\n",
    "    with open(fname, 'rb') as handle:\n",
    "        stats_dict_eps_self_list = pickle.load(handle)\n",
    "\n",
    "epsilon_vec_plot = [0, 0.001, 0.01, 0.1] # are these okay?\n",
    "plot_stats(stats_dict_eps_self_list, epsilon_vec_plot, \"epsilon_self\", \"\\epsilon\", save=save_figs)"
   ]
  },
  {
   "cell_type": "markdown",
   "metadata": {},
   "source": [
    "#### Question 8: Decaying exploration rule for different values of $n^*$"
   ]
  },
  {
   "cell_type": "code",
   "execution_count": null,
   "metadata": {},
   "outputs": [],
   "source": [
    "epsilon_min = 0.1\n",
    "epsilon_max = 0.8\n",
    "vec_n_star = np.hstack((np.array([1, 100, 500, 750]), np.round(np.logspace(3, np.log10(40000), 16))))"
   ]
  },
  {
   "cell_type": "code",
   "execution_count": null,
   "metadata": {
    "pycharm": {
     "name": "#%%\n"
    }
   },
   "outputs": [],
   "source": [
    "var_name = 'nstar_first_self'\n",
    "vec_n_star_first = vec_n_star[:10]\n",
    "q_learning_params_list = []\n",
    "for n_star in vec_n_star_first:\n",
    "    def epsilon_exploration_rule(n):\n",
    "        return np.max([epsilon_min, epsilon_max * (1 - n/n_star)])\n",
    "    params = {'env': env,\n",
    "              'num_episodes': num_episodes,\n",
    "              'epsilon_exploration_rule': epsilon_exploration_rule,\n",
    "              'test_freq': test_freq,\n",
    "              'self_practice': True}\n",
    "    q_learning_params_list.append(params)"
   ]
  },
  {
   "cell_type": "code",
   "execution_count": null,
   "metadata": {},
   "outputs": [],
   "source": [
    "stats_dict_nstar_self_first_list = train_avg(var_name, vec_n_star_first, q_learning_params_list, num_avg=num_avg, save_stats=save_stats)"
   ]
  },
  {
   "cell_type": "code",
   "execution_count": null,
   "metadata": {},
   "outputs": [],
   "source": [
    "var_name = 'nstar_second'\n",
    "vec_n_star_first = vec_n_star[10:]\n",
    "q_learning_params_list = []\n",
    "for n_star in vec_n_star_second:\n",
    "    def epsilon_exploration_rule(n):\n",
    "        return np.max([epsilon_min, epsilon_max * (1 - n/n_star)])\n",
    "    params = {'env': env,\n",
    "              'num_episodes': num_episodes,\n",
    "              'epsilon_exploration_rule': epsilon_exploration_rule,\n",
    "              'test_freq': test_freq,\n",
    "              'self_practice': True}\n",
    "    q_learning_params_list.append(params)"
   ]
  },
  {
   "cell_type": "code",
   "execution_count": null,
   "metadata": {},
   "outputs": [],
   "source": [
    "stats_dict_nstar_second_list = train_avg(var_name, vec_n_star_second, q_learning_params_list, num_avg=num_avg, save_stats=save_stats)"
   ]
  },
  {
   "cell_type": "code",
   "execution_count": null,
   "outputs": [],
   "source": [
    "# Merge\n",
    "if save_stats:\n",
    "    output_folder = os.path.join(os.getcwd(), 'results')\n",
    "    os.makedirs(output_folder, exist_ok=True)\n",
    "    fname = output_folder + '/stats_dict_nstar_self_first_list.pkl'\n",
    "    with open(fname, 'rb') as handle:\n",
    "        stats_dict_nstar_self_list = pickle.load(handle)\n",
    "    fname = output_folder + '/stats_dict_nstar_self_second_list.pkl'\n",
    "    with open(fname, 'rb') as handle:\n",
    "        stats_dict_nstar_self_list.append(pickle.load(handle))\n",
    "    fname = output_folder + '/stats_dict_nstar_self_list.pkl'\n",
    "    with open(fname, 'wb') as handle:\n",
    "        pickle.dump(stats_dict_nstar_self_list, handle, protocol=pickle.HIGHEST_PROTOCOL)"
   ],
   "metadata": {
    "collapsed": false,
    "pycharm": {
     "name": "#%%\n"
    }
   }
  },
  {
   "cell_type": "code",
   "execution_count": null,
   "metadata": {
    "pycharm": {
     "name": "#%%\n"
    }
   },
   "outputs": [],
   "source": [
    "if load:\n",
    "    output_folder = os.path.join(os.getcwd(), 'results')\n",
    "    os.makedirs(output_folder, exist_ok=True)\n",
    "    fname = output_folder + '/stats_dict_nstar_self.pkl'\n",
    "    with open(fname, 'rb') as handle:\n",
    "        stats_dict_nstar_self_list = pickle.load(handle)\n",
    "\n",
    "plot_n_star = [1., 4373., 24460., 40000]\n",
    "plot_stats(stats_dict_nstar_self_list, plot_n_star, 'n_star_self_1', \"n^{\\star}\", save=save_figs)\n",
    "\n",
    "plot_n_star = [1., 4373., 9146.]\n",
    "plot_stats(stats_dict_nstar_self_list, plot_n_star, 'n_star_self_2', \"n^{\\star}\", save=save_figs)\n",
    "# plot_stats(stats_dict_nstar_self_list, vec_n_star, 'n_star', \"n^{\\star}\", save=False)"
   ]
  },
  {
   "cell_type": "markdown",
   "metadata": {},
   "source": [
    "#### Question 10: Heatmaps of the Q-values in 3 significant states"
   ]
  },
  {
   "cell_type": "code",
   "execution_count": null,
   "metadata": {
    "pycharm": {
     "name": "#%%\n"
    }
   },
   "outputs": [],
   "source": [
    "# Parametri ottimali di Q\n",
    "np.random.seed(seed)\n",
    "epsilon_min = 0.1\n",
    "epsilon_max = 0.8\n",
    "n_star = 4373\n",
    "def epsilon_exploration_rule(n):\n",
    "            return np.max([epsilon_min, epsilon_max * (1 - n/n_star)])\n",
    "Q, stats = q_learning(env, epsilon_exploration_rule=epsilon_exploration_rule, num_episodes=20000, verbose=True, self_practice=True)"
   ]
  },
  {
   "cell_type": "code",
   "execution_count": null,
   "metadata": {},
   "outputs": [],
   "source": [
    "grids = [[1., 0., 0., -1., 1., 0., 0., -1., 0.], [-1., 0., 0., 1., -1., 0., 0., 1., 0.], [1., -1., 0., 0., 0., 0., 0., 0., 0.]]\n",
    "heatmaps_subplots(grids, Q)"
   ]
  },
  {
   "cell_type": "markdown",
   "metadata": {
    "pycharm": {
     "name": "#%% md\n"
    }
   },
   "source": [
    "## Deep Q-Learning"
   ]
  },
  {
   "cell_type": "code",
   "execution_count": null,
   "metadata": {},
   "outputs": [],
   "source": []
  }
 ],
 "metadata": {
  "kernelspec": {
   "display_name": "CS456",
   "language": "python",
   "name": "cs456"
  },
  "language_info": {
   "codemirror_mode": {
    "name": "ipython",
    "version": 3
   },
   "file_extension": ".py",
   "mimetype": "text/x-python",
   "name": "python",
   "nbconvert_exporter": "python",
   "pygments_lexer": "ipython3",
   "version": "3.7.11"
  }
 },
 "nbformat": 4,
 "nbformat_minor": 4
}