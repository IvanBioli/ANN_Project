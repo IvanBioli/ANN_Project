{
 "cells": [
  {
   "cell_type": "code",
   "execution_count": 1,
   "metadata": {},
   "outputs": [],
   "source": [
    "import time\n",
    "import pickle\n",
    "\n",
    "import numpy as np\n",
    "import random\n",
    "\n",
    "%load_ext autoreload\n",
    "%autoreload 2\n",
    "%reload_ext autoreload\n",
    "from utils import *\n",
    "from q_learning import *"
   ]
  },
  {
   "cell_type": "code",
   "execution_count": 2,
   "metadata": {
    "pycharm": {
     "name": "#%%\n"
    }
   },
   "outputs": [],
   "source": [
    "# Configurations\n",
    "save_stats = False\n",
    "save_figs = False\n",
    "train = True\n",
    "load = not train\n",
    "\n",
    "seed = 0"
   ]
  },
  {
   "cell_type": "markdown",
   "metadata": {},
   "source": [
    "## 2. Q-Learning"
   ]
  },
  {
   "cell_type": "code",
   "execution_count": 3,
   "metadata": {
    "pycharm": {
     "name": "#%%\n"
    }
   },
   "outputs": [],
   "source": [
    "env = TictactoeEnv()\n",
    "\n",
    "# Hyper-parameters\n",
    "alpha = 0.05    # Learning rate\n",
    "gamma = 0.99    # Discount factor\n",
    "epsilon_opt = 0.5   # Optimal player's epsilon\n",
    "num_episodes = 20000 # number of episodes\n",
    "num_avg = 10 # training runs\n",
    "test_freq = 250"
   ]
  },
  {
   "cell_type": "markdown",
   "metadata": {
    "pycharm": {
     "name": "#%% md\n"
    }
   },
   "source": [
    "### 2.1 Learning from experts"
   ]
  },
  {
   "cell_type": "markdown",
   "metadata": {},
   "source": [
    "#### Question 1: Average reward with $\\epsilon = 0.1$"
   ]
  },
  {
   "cell_type": "code",
   "execution_count": null,
   "metadata": {
    "pycharm": {
     "name": "#%%\n"
    }
   },
   "outputs": [],
   "source": [
    "epsilon_exploration = 0.1\n",
    "stats_dict_list = []\n",
    "for i in range(num_avg):\n",
    "    print('************** RUN', i+1, 'OF', num_avg, '**************')\n",
    "    stats_dict = {}\n",
    "    start = time.time()\n",
    "    Q, stats = q_learning(env, epsilon_exploration=epsilon_exploration, num_episodes=num_episodes, verbose=False, against_opt=True)\n",
    "    M_opt = measure_performance(QPlayer(Q=Q), OptimalPlayer(epsilon=0.))\n",
    "    M_rand = measure_performance(QPlayer(Q=Q), OptimalPlayer(epsilon=1.))\n",
    "    print(\"M_opt =\", M_opt)\n",
    "    print(\"M_rand =\", M_rand)\n",
    "    stats_dict.update({epsilon_exploration: (stats, M_opt, M_rand)})\n",
    "    stats_dict_list.append(stats_dict)\n",
    "    print('RUN', i+1, 'took', np.round(time.time()-start,decimals=1), 'seconds')\n",
    "\n",
    "plot_stats(stats_dict_list, [epsilon_exploration], 'epsilon_exploration_Q1', '\\epsilon', save=save_figs, keys = ['rewards'])"
   ]
  },
  {
   "cell_type": "markdown",
   "metadata": {
    "pycharm": {
     "name": "#%% md\n"
    }
   },
   "source": [
    "#### Questions 2 and 3: Decreasing exploration for different values of $n^{*}$"
   ]
  },
  {
   "cell_type": "code",
   "execution_count": null,
   "metadata": {},
   "outputs": [],
   "source": [
    "test_freq = 250\n",
    "epsilon_min = 0.1\n",
    "epsilon_max = 0.8\n",
    "vec_n_star = np.hstack((np.array([1, 100, 500, 750]), np.round(np.logspace(3, np.log10(40000), 16))))"
   ]
  },
  {
   "cell_type": "code",
   "execution_count": null,
   "metadata": {
    "pycharm": {
     "name": "#%%\n"
    }
   },
   "outputs": [],
   "source": [
    "vec_n_star_first = vec_n_star[:10]\n",
    "var_name = 'nstar_first'\n",
    "q_learning_params_list = []\n",
    "for n_star in vec_n_star_first:\n",
    "    params = {'env': env,\n",
    "              'num_episodes': num_episodes,\n",
    "              'epsilon_exploration_rule': return_lambda_explor(epsilon_min, epsilon_max, n_star),\n",
    "              'test_freq': test_freq,\n",
    "              'against_opt': True}\n",
    "    q_learning_params_list.append(params)"
   ]
  },
  {
   "cell_type": "code",
   "execution_count": null,
   "metadata": {},
   "outputs": [],
   "source": [
    "if train:\n",
    "    stats_dict_nstar_first_list = train_avg(var_name, vec_n_star_first, q_learning_params_list, num_avg=num_avg, save_stats=save_stats)"
   ]
  },
  {
   "cell_type": "code",
   "execution_count": null,
   "metadata": {},
   "outputs": [],
   "source": [
    "var_name = 'nstar_second'\n",
    "vec_n_star_second = vec_n_star[10:]\n",
    "q_learning_params_list = []\n",
    "for n_star in vec_n_star_second:\n",
    "    params = {'env': env,\n",
    "              'num_episodes': num_episodes,\n",
    "              'epsilon_exploration_rule': return_lambda_explor(epsilon_min, epsilon_max, n_star),\n",
    "              'test_freq': test_freq,\n",
    "              'against_opt': True}\n",
    "    q_learning_params_list.append(params)"
   ]
  },
  {
   "cell_type": "code",
   "execution_count": null,
   "metadata": {},
   "outputs": [],
   "source": [
    "if train:\n",
    "    stats_dict_nstar_second_list = train_avg(var_name, vec_n_star_second, q_learning_params_list, num_avg=num_avg, save_stats=save_stats)"
   ]
  },
  {
   "cell_type": "code",
   "execution_count": null,
   "metadata": {
    "pycharm": {
     "name": "#%%\n"
    }
   },
   "outputs": [],
   "source": [
    "# Merge\n",
    "if save_stats:\n",
    "    stats_dict_nstar_list = []\n",
    "    output_folder = os.path.join(os.getcwd(), 'results')\n",
    "    os.makedirs(output_folder, exist_ok=True)\n",
    "    fname = output_folder + '/stats_dict_nstar_first_list.pkl'\n",
    "    with open(fname, 'rb') as handle:\n",
    "        stats_dict_nstar_first_list = pickle.load(handle)\n",
    "    fname = output_folder + '/stats_dict_nstar_second_list.pkl'\n",
    "    with open(fname, 'rb') as handle:\n",
    "        stats_dict_nstar_second_list = pickle.load(handle)\n",
    "        for i in range(len(stats_dict_nstar_second_list)):\n",
    "            stats_dict_nstar_list.append({**stats_dict_nstar_first_list[i], **stats_dict_nstar_second_list[i]})\n",
    "    fname = output_folder + '/stats_dict_nstar_list.pkl'\n",
    "    with open(fname, 'wb') as handle:\n",
    "        pickle.dump(stats_dict_nstar_list, handle, protocol=pickle.HIGHEST_PROTOCOL)"
   ]
  },
  {
   "cell_type": "code",
   "execution_count": null,
   "metadata": {
    "pycharm": {
     "name": "#%%\n"
    }
   },
   "outputs": [],
   "source": [
    "if load:\n",
    "    output_folder = os.path.join(os.getcwd(), 'results')\n",
    "    os.makedirs(output_folder, exist_ok=True)\n",
    "    fname = output_folder + '/stats_dict_nstar_list.pkl'\n",
    "    with open(fname, 'rb') as handle:\n",
    "        stats_dict_nstar_list = pickle.load(handle)\n",
    "\n",
    "plot_n_star = [1., 9146., 19127., 40000]\n",
    "plot_stats(stats_dict_nstar_list, plot_n_star, 'n_star', \"n^{\\star}\", save=save_figs, decaying_exploration=True)"
   ]
  },
  {
   "cell_type": "markdown",
   "metadata": {
    "pycharm": {
     "name": "#%% md\n"
    }
   },
   "source": [
    "##### Plot for all the experimented values"
   ]
  },
  {
   "cell_type": "code",
   "execution_count": null,
   "metadata": {
    "pycharm": {
     "name": "#%%\n"
    }
   },
   "outputs": [],
   "source": [
    "plot_stats(stats_dict_nstar_list, vec_n_star, 'n_star', \"n^{\\star}\", save=False)"
   ]
  },
  {
   "cell_type": "markdown",
   "metadata": {
    "pycharm": {
     "name": "#%% md\n"
    }
   },
   "source": [
    "#### Questions 4: Good experts and bad experts"
   ]
  },
  {
   "cell_type": "code",
   "execution_count": null,
   "metadata": {
    "pycharm": {
     "name": "#%%\n"
    }
   },
   "outputs": [],
   "source": [
    "n_star = 1 # we pick the best according to previous experiments\n",
    "M = 11\n",
    "var_name = 'epsilon_opt'\n",
    "vec_epsilon_opt = np.round(np.linspace(0, 1, M), decimals=2)\n",
    "q_learning_params_list = []\n",
    "for epsilon_opt in vec_epsilon_opt:\n",
    "    params = {'env': env,\n",
    "              'num_episodes': num_episodes,\n",
    "              'epsilon_exploration_rule': return_lambda_explor(epsilon_min, epsilon_max, n_star),\n",
    "              'test_freq': 250,\n",
    "              'epsilon_opt': epsilon_opt,\n",
    "              'against_opt': True}\n",
    "    q_learning_params_list.append(params)"
   ]
  },
  {
   "cell_type": "code",
   "execution_count": null,
   "metadata": {},
   "outputs": [],
   "source": [
    "if train:\n",
    "    stats_dict_eps_opt_list = train_avg(var_name, vec_epsilon_opt, q_learning_params_list, num_avg=num_avg, save_stats=save_stats)"
   ]
  },
  {
   "cell_type": "code",
   "execution_count": null,
   "metadata": {
    "pycharm": {
     "name": "#%%\n"
    }
   },
   "outputs": [],
   "source": [
    "if load:\n",
    "    output_folder = os.path.join(os.getcwd(), 'results')\n",
    "    os.makedirs(output_folder, exist_ok=True)\n",
    "    fname = output_folder + '/stats_dict_epsilon_opt_list.pkl'\n",
    "    with open(fname, 'rb') as handle:\n",
    "        stats_dict_eps_opt_list = pickle.load(handle)\n",
    "\n",
    "plot_epsilon_opt = [0., 0.2, 0.5, 0.8, 1.]\n",
    "plot_stats(stats_dict_eps_opt_list, plot_epsilon_opt, \"epsilon_opt\", \"\\epsilon_{opt}\", save=save_figs, keys=['test_Mopt', 'test_Mrand'])"
   ]
  },
  {
   "cell_type": "markdown",
   "metadata": {
    "pycharm": {
     "name": "#%% md\n"
    }
   },
   "source": [
    "##### Plot for all the experimented values"
   ]
  },
  {
   "cell_type": "code",
   "execution_count": null,
   "metadata": {
    "pycharm": {
     "name": "#%%\n"
    }
   },
   "outputs": [],
   "source": [
    "plot_stats(stats_dict_eps_opt_list, vec_epsilon_opt, \"epsilon_opt\", \"\\epsilon_{opt}\", save=False, keys=['test_Mopt', 'test_Mrand'])"
   ]
  },
  {
   "cell_type": "markdown",
   "metadata": {},
   "source": [
    "#### Question 5: Optimal values of $M_{\\text{opt}}$ and $M_{\\text{rand}}$"
   ]
  },
  {
   "cell_type": "code",
   "execution_count": null,
   "metadata": {},
   "outputs": [],
   "source": [
    "np.random.seed(seed)\n",
    "random.seed(seed)\n",
    "# Setting hyperparams\n",
    "n_star = 1\n",
    "epsilon_min = 0.1\n",
    "epsilon_max = 0.8\n",
    "# Training\n",
    "Q, stats = q_learning(env, num_episodes=20000, epsilon_exploration_rule=return_lambda_explor(epsilon_min, epsilon_max, n_star), verbose=False, epsilon_opt=0.5, against_opt=True)\n",
    "# Measuring performance\n",
    "m_opt = measure_performance(QPlayer(Q=Q), OptimalPlayer(epsilon=0.))\n",
    "print(\"M_opt = \", m_opt)\n",
    "m_rand = measure_performance(QPlayer(Q=Q), OptimalPlayer(epsilon=1.))\n",
    "print(\"M_rand = \", m_rand)"
   ]
  },
  {
   "cell_type": "markdown",
   "metadata": {
    "pycharm": {
     "name": "#%% md\n"
    }
   },
   "source": [
    "### 2.2 Learning by self-practice"
   ]
  },
  {
   "cell_type": "code",
   "execution_count": 36,
   "metadata": {
    "pycharm": {
     "name": "#%%\n"
    }
   },
   "outputs": [],
   "source": [
    "# Hyperparameters for self learning\n",
    "alpha = 0.01    # Learning rate"
   ]
  },
  {
   "cell_type": "markdown",
   "metadata": {},
   "source": [
    "#### Question 7: Self-learning with constant rate of exploration $\\epsilon$"
   ]
  },
  {
   "cell_type": "code",
   "execution_count": 8,
   "metadata": {
    "pycharm": {
     "name": "#%%\n"
    }
   },
   "outputs": [
    {
     "name": "stdout",
     "output_type": "stream",
     "text": [
      "[0.6]\n"
     ]
    }
   ],
   "source": [
    "epsilon_vec = [0.6]\n",
    "print(epsilon_vec)\n",
    "var_name = 'eps_self'\n",
    "q_learning_params_list = []\n",
    "for eps in epsilon_vec:\n",
    "    params = {'env': env,\n",
    "              'alpha': 0.01,\n",
    "              'verbose': True,\n",
    "              'num_episodes': num_episodes,\n",
    "              'epsilon_exploration': eps,\n",
    "              'test_freq': test_freq,\n",
    "              'self_practice': True}\n",
    "    q_learning_params_list.append(params)"
   ]
  },
  {
   "cell_type": "code",
   "execution_count": null,
   "metadata": {},
   "outputs": [
    {
     "name": "stdout",
     "output_type": "stream",
     "text": [
      "************** RUN 1 OF 1 **************\n",
      "------------- Training with eps_self = 0.6 -------------\n",
      "Episode  0 :\tM_opt =  -0.918 \tM_rand =  -0.026\n",
      "Episode  250 :\tM_opt =  -0.934 \tM_rand =  0.088\n",
      "Episode  500 :\tM_opt =  -0.986 \tM_rand =  0.224\n",
      "Episode  750 :\tM_opt =  -0.98 \tM_rand =  0.316\n",
      "Episode  1000 :\tM_opt =  -0.996 \tM_rand =  0.388\n",
      "Episode  1250 :\tM_opt =  -0.976 \tM_rand =  0.402\n",
      "Episode  1500 :\tM_opt =  -0.928 \tM_rand =  0.464\n",
      "Episode  1750 :\tM_opt =  -0.934 \tM_rand =  0.466\n",
      "Episode  2000 :\tM_opt =  -0.934 \tM_rand =  0.58\n",
      "Episode  2250 :\tM_opt =  -0.938 \tM_rand =  0.514\n",
      "Episode  2500 :\tM_opt =  -0.928 \tM_rand =  0.6\n",
      "Episode  2750 :\tM_opt =  -0.938 \tM_rand =  0.596\n",
      "Episode  3000 :\tM_opt =  -0.938 \tM_rand =  0.576\n",
      "Episode  3250 :\tM_opt =  -0.934 \tM_rand =  0.62\n",
      "Episode  3500 :\tM_opt =  -0.966 \tM_rand =  0.634\n",
      "Episode  3750 :\tM_opt =  -0.966 \tM_rand =  0.674\n",
      "Episode  4000 :\tM_opt =  -0.98 \tM_rand =  0.712\n",
      "Episode  4250 :\tM_opt =  -0.6 \tM_rand =  0.704\n",
      "Episode  4500 :\tM_opt =  -0.47 \tM_rand =  0.772\n",
      "Episode  4750 :\tM_opt =  -0.37 \tM_rand =  0.764\n",
      "Episode  5000 :\tM_opt =  -0.368 \tM_rand =  0.778\n",
      "Episode  5250 :\tM_opt =  -0.37 \tM_rand =  0.786\n",
      "Episode  5500 :\tM_opt =  -0.378 \tM_rand =  0.758\n",
      "Episode  5750 :\tM_opt =  -0.398 \tM_rand =  0.786\n",
      "Episode  6000 :\tM_opt =  -0.36 \tM_rand =  0.794\n",
      "Episode  6250 :\tM_opt =  -0.36 \tM_rand =  0.766\n",
      "Episode  6500 :\tM_opt =  -0.374 \tM_rand =  0.772\n",
      "Episode  6750 :\tM_opt =  -0.38 \tM_rand =  0.822\n",
      "Episode  7000 :\tM_opt =  -0.39 \tM_rand =  0.81\n",
      "Episode  7250 :\tM_opt =  -0.38 \tM_rand =  0.802\n",
      "Episode  7500 :\tM_opt =  -0.356 \tM_rand =  0.856\n",
      "Episode  7750 :\tM_opt =  -0.37 \tM_rand =  0.838\n",
      "Episode  8000 :\tM_opt =  -0.388 \tM_rand =  0.804\n",
      "Episode  8250 :\tM_opt =  -0.374 \tM_rand =  0.848\n",
      "Episode  8500 :\tM_opt =  -0.362 \tM_rand =  0.884\n",
      "Episode  8750 :\tM_opt =  -0.36 \tM_rand =  0.87\n",
      "Episode  9000 :\tM_opt =  -0.394 \tM_rand =  0.874\n",
      "Episode  9250 :\tM_opt =  -0.398 \tM_rand =  0.834\n",
      "Episode  9500 :\tM_opt =  -0.412 \tM_rand =  0.838\n",
      "Episode  9750 :\tM_opt =  -0.402 \tM_rand =  0.906\n",
      "Episode  10000 :\tM_opt =  -0.424 \tM_rand =  0.862\n",
      "Episode  10250 :\tM_opt =  -0.416 \tM_rand =  0.868\n",
      "Episode  10500 :\tM_opt =  -0.394 \tM_rand =  0.862\n",
      "Episode  10750 :\tM_opt =  -0.416 \tM_rand =  0.842\n",
      "Episode  11000 :\tM_opt =  -0.392 \tM_rand =  0.89\n",
      "Episode  11250 :\tM_opt =  -0.392 \tM_rand =  0.89\n",
      "Episode  11500 :\tM_opt =  -0.394 \tM_rand =  0.86\n",
      "Episode  11750 :\tM_opt =  -0.398 \tM_rand =  0.878\n",
      "Episode  12000 :\tM_opt =  -0.402 \tM_rand =  0.882\n",
      "Episode  12250 :\tM_opt =  -0.41 \tM_rand =  0.874\n",
      "Episode  12500 :\tM_opt =  -0.404 \tM_rand =  0.884\n",
      "Episode  12750 :\tM_opt =  -0.406 \tM_rand =  0.898\n",
      "Episode  13000 :\tM_opt =  -0.392 \tM_rand =  0.886\n",
      "Episode  13250 :\tM_opt =  -0.382 \tM_rand =  0.896\n",
      "Episode  13500 :\tM_opt =  -0.412 \tM_rand =  0.896\n",
      "Episode  13750 :\tM_opt =  -0.4 \tM_rand =  0.892\n",
      "Episode  14000 :\tM_opt =  -0.256 \tM_rand =  0.894\n",
      "Episode  14250 :\tM_opt =  -0.31 \tM_rand =  0.894\n",
      "Episode  14500 :\tM_opt =  -0.182 \tM_rand =  0.872\n",
      "Episode  14750 :\tM_opt =  -0.182 \tM_rand =  0.888\n",
      "Episode  15000 :\tM_opt =  -0.196 \tM_rand =  0.92\n",
      "Episode  15250 :\tM_opt =  -0.186 \tM_rand =  0.902\n",
      "Episode  15500 :\tM_opt =  -0.224 \tM_rand =  0.91\n",
      "Episode  15750 :\tM_opt =  -0.194 \tM_rand =  0.916\n",
      "Episode  16000 :\tM_opt =  -0.206 \tM_rand =  0.906\n",
      "Episode  16250 :\tM_opt =  -0.21 \tM_rand =  0.896\n",
      "Episode  16500 :\tM_opt =  -0.206 \tM_rand =  0.924\n",
      "Episode  16750 :\tM_opt =  -0.212 \tM_rand =  0.89\n",
      "Episode  17000 :\tM_opt =  -0.218 \tM_rand =  0.894\n",
      "Episode  17250 :\tM_opt =  -0.198 \tM_rand =  0.932\n",
      "Episode  17500 :\tM_opt =  -0.21 \tM_rand =  0.916\n",
      "Episode  17750 :\tM_opt =  -0.16 \tM_rand =  0.908\n"
     ]
    }
   ],
   "source": [
    "if train:\n",
    "    stats_dict_eps_self_list = train_avg(var_name, epsilon_vec, q_learning_params_list, num_avg=1, save_stats=False)"
   ]
  },
  {
   "cell_type": "code",
   "execution_count": null,
   "metadata": {
    "pycharm": {
     "name": "#%%\n"
    }
   },
   "outputs": [],
   "source": [
    "load = False\n",
    "if load:\n",
    "    output_folder = os.path.join(os.getcwd(), 'results')\n",
    "    os.makedirs(output_folder, exist_ok=True)\n",
    "    fname = output_folder + '/stats_dict_eps_self_list.pkl'\n",
    "    with open(fname, 'rb') as handle:\n",
    "        stats_dict_eps_self_list = pickle.load(handle)\n",
    "\n",
    "epsilon_vec_plot = [0.6] # are these okay?\n",
    "plot_stats(stats_dict_eps_self_list, epsilon_vec_plot, \"epsilon_self\", \"\\epsilon\", save=save_figs, perc=True, keys=['test_Mopt', 'test_Mrand'])"
   ]
  },
  {
   "cell_type": "markdown",
   "metadata": {
    "pycharm": {
     "name": "#%% md\n"
    }
   },
   "source": [
    "##### Plot for all the experimented values"
   ]
  },
  {
   "cell_type": "code",
   "execution_count": null,
   "metadata": {
    "pycharm": {
     "name": "#%%\n"
    }
   },
   "outputs": [],
   "source": [
    "plot_stats(stats_dict_eps_self_list, epsilon_vec, \"epsilon_self\", \"\\epsilon\", save=False, keys=['test_Mopt', 'test_Mrand'])"
   ]
  },
  {
   "cell_type": "markdown",
   "metadata": {},
   "source": [
    "#### Question 8: Decaying exploration rule for different values of $n^*$"
   ]
  },
  {
   "cell_type": "code",
   "execution_count": null,
   "metadata": {},
   "outputs": [],
   "source": [
    "epsilon_min = 0.1\n",
    "epsilon_max = 0.8\n",
    "vec_n_star = np.hstack((np.array([1, 100, 500, 750]), np.round(np.logspace(3, np.log10(40000), 16))))"
   ]
  },
  {
   "cell_type": "code",
   "execution_count": null,
   "metadata": {
    "pycharm": {
     "name": "#%%\n"
    }
   },
   "outputs": [],
   "source": [
    "num_splits = 4\n",
    "chunks_list = np.array_split(vec_n_star, num_splits)\n",
    "print(chunks_list)\n",
    "qlearning_params_list = []\n",
    "print('alpha = ', alpha)\n",
    "for (idx, chunk) in enumerate(chunks_list):\n",
    "    qlearning_params_list.append([])\n",
    "    for n_star in chunk:\n",
    "        params = {'env': env,\n",
    "                  'num_episodes': num_episodes,\n",
    "                  'epsilon_exploration_rule': return_lambda_explor(epsilon_min, epsilon_max, n_star),\n",
    "                  'test_freq': test_freq,\n",
    "                  'alpha': alpha,\n",
    "                  'self_practice': True}\n",
    "        qlearning_params_list[idx].append(params)"
   ]
  },
  {
   "cell_type": "code",
   "execution_count": null,
   "metadata": {
    "pycharm": {
     "name": "#%%\n"
    }
   },
   "outputs": [],
   "source": [
    "chunk_num = 0\n",
    "if train:\n",
    "    var_name = 'q_learning_n_star_self_' + str(chunk_num)\n",
    "    chunk = chunks_list[chunk_num]\n",
    "    stats_dict_nstar = train_avg(var_name, chunk, qlearning_params_list[chunk_num], num_avg=num_avg, save_stats=save_stats)"
   ]
  },
  {
   "cell_type": "code",
   "execution_count": null,
   "metadata": {
    "pycharm": {
     "name": "#%%\n"
    }
   },
   "outputs": [],
   "source": [
    "# Merge\n",
    "stats_dicts = {}\n",
    "if save_stats:\n",
    "    stats_dict_nstar_list = []\n",
    "    output_folder = os.path.join(os.getcwd(), 'results')\n",
    "    os.makedirs(output_folder, exist_ok=True)\n",
    "    for i in range(len(chunks_list)):\n",
    "        fname = output_folder + '/stats_dict_q_learning_n_star_self_' + str(i) + '_list.pkl'\n",
    "        with open(fname, 'rb') as handle:\n",
    "            stats_dicts.update({i: pickle.load(handle)})\n",
    "    for i in range(num_avg):\n",
    "        to_append = {}\n",
    "        for key in stats_dicts.keys():\n",
    "            to_append.update(stats_dicts[key][i])\n",
    "        stats_dict_nstar_list.append(to_append)\n",
    "    fname = output_folder + '/stats_dict_q_learning_n_star_self_list.pkl'\n",
    "    with open(fname, 'wb') as handle:\n",
    "        pickle.dump(stats_dict_nstar_list, handle, protocol=pickle.HIGHEST_PROTOCOL)"
   ]
  },
  {
   "cell_type": "code",
   "execution_count": null,
   "metadata": {
    "pycharm": {
     "name": "#%%\n"
    }
   },
   "outputs": [],
   "source": [
    "if load:\n",
    "    output_folder = os.path.join(os.getcwd(), 'results')\n",
    "    os.makedirs(output_folder, exist_ok=True)\n",
    "    fname = output_folder + '/stats_dict_q_learning_n_star_self_list.pkl'\n",
    "    with open(fname, 'rb') as handle:\n",
    "        stats_dict_nstar_self_list = pickle.load(handle)\n",
    "\n",
    "plot_n_star = [1., 1000., 11696., 24460., 31279., 40000.]\n",
    "plot_stats(stats_dict_nstar_self_list, plot_n_star, 'n_star_self', \"n^{\\star}\", decaying_exploration=True, save=save_figs, perc=True, keys=['test_Mopt', 'test_Mrand'])"
   ]
  },
  {
   "cell_type": "markdown",
   "metadata": {
    "pycharm": {
     "name": "#%% md\n"
    }
   },
   "source": [
    "##### Plot for all the experimented values"
   ]
  },
  {
   "cell_type": "code",
   "execution_count": null,
   "metadata": {
    "pycharm": {
     "name": "#%%\n"
    }
   },
   "outputs": [],
   "source": [
    "plot_stats(stats_dict_nstar_self_list, vec_n_star, 'n_star_self', \"n^{\\star}\", save=False, keys=['test_Mopt', 'test_Mrand'])"
   ]
  },
  {
   "cell_type": "markdown",
   "metadata": {},
   "source": [
    "#### Optimal values of $M_{\\text{opt}}$ and $M_{\\text{rand}}$"
   ]
  },
  {
   "cell_type": "code",
   "execution_count": null,
   "metadata": {
    "scrolled": false
   },
   "outputs": [],
   "source": [
    "#np.random.seed(seed)\n",
    "#random.seed(seed)\n",
    "# Setting hyperparams\n",
    "# Training\n",
    "m_opt_vec = []\n",
    "m_rand_vec = []\n",
    "for i in range(10):\n",
    "    Q, stats = q_learning(env, alpha=0.01, num_episodes=20000, epsilon_exploration = 0.6, self_practice=True)\n",
    "    # Measuring performance\n",
    "    m_opt = measure_performance(QPlayer(Q=Q), OptimalPlayer(epsilon=0.))\n",
    "    m_rand = measure_performance(QPlayer(Q=Q), OptimalPlayer(epsilon=1.))\n",
    "    m_opt_vec.append(m_opt)\n",
    "    m_rand_vec.append(m_rand)\n",
    "    print(\"Run\", i+1, \": M_opt = \", np.round(m_opt, decimals=3), \"\\t M_rand = \", np.round(m_rand, decimals=3))\n",
    "\n",
    "print('*********************', ' AVERAGE STATS ', '*********************')\n",
    "print(\"Median:\\tM_opt = \", np.round(np.median(m_opt_vec),decimals=3), \"\\t M_rand = \", np.round(np.median(m_opt_vec),decimals=3))\n",
    "print(\"25th quantile:\\tM_opt = \", np.round(np.percentile(m_opt_vec, q=25),decimals=3), \"\\t M_rand = \", np.round(np.percentile(m_opt_vec, q=25),decimals=3))\n",
    "print(\"75th quantile:\\tM_opt = \", np.round(np.percentile(m_opt_vec, q=75),decimals=3), \"\\t M_rand = \", np.round(np.percentile(m_opt_vec, q=75),decimals=3))"
   ]
  },
  {
   "cell_type": "code",
   "execution_count": null,
   "metadata": {},
   "outputs": [],
   "source": [
    "epsilon_exploration = 0.2\n",
    "stats_dict_list = []\n",
    "for i in range(num_avg):\n",
    "    print('************** RUN', i+1, 'OF', num_avg, '**************')\n",
    "    stats_dict = {}\n",
    "    start = time.time()\n",
    "    Q, stats = q_learning(env, epsilon_exploration=epsilon_exploration, num_episodes=num_episodes, \n",
    "                          test_freq=250, verbose=True, self_practice=True)\n",
    "    M_opt = measure_performance(QPlayer(Q=Q), OptimalPlayer(epsilon=0.))\n",
    "    M_rand = measure_performance(QPlayer(Q=Q), OptimalPlayer(epsilon=1.))\n",
    "    print(\"M_opt =\", M_opt)\n",
    "    print(\"M_rand =\", M_rand)\n",
    "    stats_dict.update({epsilon_exploration: (stats, M_opt, M_rand)})\n",
    "    stats_dict_list.append(stats_dict)\n",
    "    print('RUN', i+1, 'took', np.round(time.time()-start,decimals=1), 'seconds')"
   ]
  },
  {
   "cell_type": "code",
   "execution_count": null,
   "metadata": {},
   "outputs": [],
   "source": [
    "plot_stats(stats_dict_list, [epsilon_exploration], 'epsilon_exploration_Q7', '\\epsilon', save=save_figs, keys = ['test_Mopt', 'test_Mrand'], perc=True)"
   ]
  },
  {
   "cell_type": "markdown",
   "metadata": {},
   "source": [
    "#### Question 10: Heatmaps of the Q-values in 3 significant states"
   ]
  },
  {
   "cell_type": "code",
   "execution_count": null,
   "metadata": {
    "pycharm": {
     "name": "#%%\n"
    }
   },
   "outputs": [],
   "source": [
    "# Parametri ottimali di Q\n",
    "epsilon_min = 0.1\n",
    "epsilon_max = 0.8\n",
    "n_star = 20000\n",
    "epsilon_exploration_rule = return_lambda_explor(epsilon_min, epsilon_max, n_star)\n",
    "Q, stats = q_learning(env, epsilon_exploration_rule=epsilon_exploration_rule, num_episodes=20000, verbose=True, self_practice=True)"
   ]
  },
  {
   "cell_type": "code",
   "execution_count": null,
   "metadata": {},
   "outputs": [],
   "source": [
    "grids = [[1., 0., 0., -1., 1., 0., 0., -1., 0.], [-1., 0., 0., 1., -1., 0., 0., 1., 0.], [1., -1., 0., 0., 0., 0., 0., 0., 0.]]\n",
    "heatmaps_subplots(grids, Q, save=save_figs)"
   ]
  },
  {
   "cell_type": "markdown",
   "metadata": {
    "pycharm": {
     "name": "#%% md\n"
    }
   },
   "source": [
    "## Deep Q-Learning"
   ]
  },
  {
   "cell_type": "code",
   "execution_count": null,
   "metadata": {},
   "outputs": [],
   "source": []
  }
 ],
 "metadata": {
  "kernelspec": {
   "display_name": "CS456",
   "language": "python",
   "name": "cs456"
  },
  "language_info": {
   "codemirror_mode": {
    "name": "ipython",
    "version": 3
   },
   "file_extension": ".py",
   "mimetype": "text/x-python",
   "name": "python",
   "nbconvert_exporter": "python",
   "pygments_lexer": "ipython3",
   "version": "3.7.11"
  }
 },
 "nbformat": 4,
 "nbformat_minor": 4
}